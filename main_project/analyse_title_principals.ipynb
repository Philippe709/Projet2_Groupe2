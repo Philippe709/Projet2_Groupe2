{
 "cells": [
  {
   "cell_type": "markdown",
   "metadata": {},
   "source": [
    "import du fichier et extraction des infos"
   ]
  },
  {
   "cell_type": "code",
   "execution_count": 1,
   "metadata": {},
   "outputs": [
    {
     "name": "stdout",
     "output_type": "stream",
     "text": [
      "My DataFrame shape is :  (89216353, 6)\n",
      "\n",
      "\n",
      "\n",
      "Which columns have missing values ? (Non-null column)\n",
      "<class 'pandas.core.frame.DataFrame'>\n",
      "RangeIndex: 89216353 entries, 0 to 89216352\n",
      "Data columns (total 6 columns):\n",
      " #   Column      Dtype \n",
      "---  ------      ----- \n",
      " 0   tconst      object\n",
      " 1   ordering    int64 \n",
      " 2   nconst      object\n",
      " 3   category    object\n",
      " 4   job         object\n",
      " 5   characters  object\n",
      "dtypes: int64(1), object(5)\n",
      "memory usage: 4.0+ GB\n",
      "None\n"
     ]
    }
   ],
   "source": [
    "import pandas as pd\n",
    "\n",
    "\n",
    "df_title_principals = pd.read_csv('../BD_A_IGNORE/title.principals.tsv.gz', compression = 'gzip', sep='\\t', on_bad_lines='skip')\n",
    "\n",
    "print(\"My DataFrame shape is : \", df_title_principals.shape, end = '\\n\\n\\n\\n')\n",
    "print('Which columns have missing values ? (Non-null column)')\n",
    "print(df_title_principals.info())"
   ]
  },
  {
   "cell_type": "markdown",
   "metadata": {},
   "source": [
    "Echantillonnage du dataframe"
   ]
  },
  {
   "cell_type": "code",
   "execution_count": 2,
   "metadata": {},
   "outputs": [
    {
     "data": {
      "text/html": [
       "<div>\n",
       "<style scoped>\n",
       "    .dataframe tbody tr th:only-of-type {\n",
       "        vertical-align: middle;\n",
       "    }\n",
       "\n",
       "    .dataframe tbody tr th {\n",
       "        vertical-align: top;\n",
       "    }\n",
       "\n",
       "    .dataframe thead th {\n",
       "        text-align: right;\n",
       "    }\n",
       "</style>\n",
       "<table border=\"1\" class=\"dataframe\">\n",
       "  <thead>\n",
       "    <tr style=\"text-align: right;\">\n",
       "      <th></th>\n",
       "      <th>tconst</th>\n",
       "      <th>ordering</th>\n",
       "      <th>nconst</th>\n",
       "      <th>category</th>\n",
       "      <th>job</th>\n",
       "      <th>characters</th>\n",
       "    </tr>\n",
       "  </thead>\n",
       "  <tbody>\n",
       "    <tr>\n",
       "      <th>78222505</th>\n",
       "      <td>tt7199550</td>\n",
       "      <td>10</td>\n",
       "      <td>nm0657251</td>\n",
       "      <td>actor</td>\n",
       "      <td>\\N</td>\n",
       "      <td>[\"Rogelio Santalucía\"]</td>\n",
       "    </tr>\n",
       "    <tr>\n",
       "      <th>74244678</th>\n",
       "      <td>tt6095598</td>\n",
       "      <td>15</td>\n",
       "      <td>nm2699782</td>\n",
       "      <td>cinematographer</td>\n",
       "      <td>director of photography</td>\n",
       "      <td>\\N</td>\n",
       "    </tr>\n",
       "    <tr>\n",
       "      <th>87154110</th>\n",
       "      <td>tt9435336</td>\n",
       "      <td>5</td>\n",
       "      <td>nm1439043</td>\n",
       "      <td>actress</td>\n",
       "      <td>\\N</td>\n",
       "      <td>[\"Jo Young-Sun\"]</td>\n",
       "    </tr>\n",
       "    <tr>\n",
       "      <th>1745388</th>\n",
       "      <td>tt0122006</td>\n",
       "      <td>11</td>\n",
       "      <td>nm0414732</td>\n",
       "      <td>director</td>\n",
       "      <td>\\N</td>\n",
       "      <td>\\N</td>\n",
       "    </tr>\n",
       "    <tr>\n",
       "      <th>45834136</th>\n",
       "      <td>tt21913672</td>\n",
       "      <td>7</td>\n",
       "      <td>nm8618769</td>\n",
       "      <td>cinematographer</td>\n",
       "      <td>\\N</td>\n",
       "      <td>\\N</td>\n",
       "    </tr>\n",
       "    <tr>\n",
       "      <th>8626815</th>\n",
       "      <td>tt0749900</td>\n",
       "      <td>2</td>\n",
       "      <td>nm0001088</td>\n",
       "      <td>self</td>\n",
       "      <td>\\N</td>\n",
       "      <td>[\"Self\"]</td>\n",
       "    </tr>\n",
       "    <tr>\n",
       "      <th>57146931</th>\n",
       "      <td>tt29438427</td>\n",
       "      <td>1</td>\n",
       "      <td>nm7544069</td>\n",
       "      <td>self</td>\n",
       "      <td>\\N</td>\n",
       "      <td>[\"Self - Presenter\"]</td>\n",
       "    </tr>\n",
       "    <tr>\n",
       "      <th>9868791</th>\n",
       "      <td>tt0863028</td>\n",
       "      <td>9</td>\n",
       "      <td>nm0768686</td>\n",
       "      <td>actress</td>\n",
       "      <td>\\N</td>\n",
       "      <td>[\"Actress\"]</td>\n",
       "    </tr>\n",
       "    <tr>\n",
       "      <th>22782912</th>\n",
       "      <td>tt12494208</td>\n",
       "      <td>5</td>\n",
       "      <td>nm0663914</td>\n",
       "      <td>composer</td>\n",
       "      <td>\\N</td>\n",
       "      <td>\\N</td>\n",
       "    </tr>\n",
       "    <tr>\n",
       "      <th>66995718</th>\n",
       "      <td>tt3949528</td>\n",
       "      <td>6</td>\n",
       "      <td>nm6695112</td>\n",
       "      <td>actor</td>\n",
       "      <td>\\N</td>\n",
       "      <td>[\"Tajil Kumar\"]</td>\n",
       "    </tr>\n",
       "    <tr>\n",
       "      <th>16621600</th>\n",
       "      <td>tt11083370</td>\n",
       "      <td>2</td>\n",
       "      <td>nm2194982</td>\n",
       "      <td>self</td>\n",
       "      <td>\\N</td>\n",
       "      <td>[\"Self\"]</td>\n",
       "    </tr>\n",
       "    <tr>\n",
       "      <th>27473560</th>\n",
       "      <td>tt13809374</td>\n",
       "      <td>12</td>\n",
       "      <td>nm0744982</td>\n",
       "      <td>writer</td>\n",
       "      <td>\\N</td>\n",
       "      <td>\\N</td>\n",
       "    </tr>\n",
       "    <tr>\n",
       "      <th>82735349</th>\n",
       "      <td>tt8341198</td>\n",
       "      <td>2</td>\n",
       "      <td>nm0092626</td>\n",
       "      <td>actress</td>\n",
       "      <td>\\N</td>\n",
       "      <td>[\"Leonor (1988)\"]</td>\n",
       "    </tr>\n",
       "    <tr>\n",
       "      <th>43904559</th>\n",
       "      <td>tt21049692</td>\n",
       "      <td>10</td>\n",
       "      <td>nm0823169</td>\n",
       "      <td>producer</td>\n",
       "      <td>producer</td>\n",
       "      <td>\\N</td>\n",
       "    </tr>\n",
       "    <tr>\n",
       "      <th>82136887</th>\n",
       "      <td>tt8193446</td>\n",
       "      <td>17</td>\n",
       "      <td>nm0678316</td>\n",
       "      <td>cinematographer</td>\n",
       "      <td>\\N</td>\n",
       "      <td>\\N</td>\n",
       "    </tr>\n",
       "    <tr>\n",
       "      <th>78509703</th>\n",
       "      <td>tt7269958</td>\n",
       "      <td>7</td>\n",
       "      <td>nm0685421</td>\n",
       "      <td>actress</td>\n",
       "      <td>\\N</td>\n",
       "      <td>[\"Karen\"]</td>\n",
       "    </tr>\n",
       "    <tr>\n",
       "      <th>85567539</th>\n",
       "      <td>tt9047588</td>\n",
       "      <td>8</td>\n",
       "      <td>nm9582759</td>\n",
       "      <td>writer</td>\n",
       "      <td>\\N</td>\n",
       "      <td>\\N</td>\n",
       "    </tr>\n",
       "    <tr>\n",
       "      <th>44790041</th>\n",
       "      <td>tt2133852</td>\n",
       "      <td>9</td>\n",
       "      <td>nm0259803</td>\n",
       "      <td>self</td>\n",
       "      <td>\\N</td>\n",
       "      <td>[\"Self\"]</td>\n",
       "    </tr>\n",
       "    <tr>\n",
       "      <th>45748173</th>\n",
       "      <td>tt21870384</td>\n",
       "      <td>3</td>\n",
       "      <td>nm13969748</td>\n",
       "      <td>actor</td>\n",
       "      <td>\\N</td>\n",
       "      <td>\\N</td>\n",
       "    </tr>\n",
       "    <tr>\n",
       "      <th>57419452</th>\n",
       "      <td>tt2956024</td>\n",
       "      <td>21</td>\n",
       "      <td>nm0023773</td>\n",
       "      <td>cinematographer</td>\n",
       "      <td>\\N</td>\n",
       "      <td>\\N</td>\n",
       "    </tr>\n",
       "  </tbody>\n",
       "</table>\n",
       "</div>"
      ],
      "text/plain": [
       "              tconst  ordering      nconst         category  \\\n",
       "78222505   tt7199550        10   nm0657251            actor   \n",
       "74244678   tt6095598        15   nm2699782  cinematographer   \n",
       "87154110   tt9435336         5   nm1439043          actress   \n",
       "1745388    tt0122006        11   nm0414732         director   \n",
       "45834136  tt21913672         7   nm8618769  cinematographer   \n",
       "8626815    tt0749900         2   nm0001088             self   \n",
       "57146931  tt29438427         1   nm7544069             self   \n",
       "9868791    tt0863028         9   nm0768686          actress   \n",
       "22782912  tt12494208         5   nm0663914         composer   \n",
       "66995718   tt3949528         6   nm6695112            actor   \n",
       "16621600  tt11083370         2   nm2194982             self   \n",
       "27473560  tt13809374        12   nm0744982           writer   \n",
       "82735349   tt8341198         2   nm0092626          actress   \n",
       "43904559  tt21049692        10   nm0823169         producer   \n",
       "82136887   tt8193446        17   nm0678316  cinematographer   \n",
       "78509703   tt7269958         7   nm0685421          actress   \n",
       "85567539   tt9047588         8   nm9582759           writer   \n",
       "44790041   tt2133852         9   nm0259803             self   \n",
       "45748173  tt21870384         3  nm13969748            actor   \n",
       "57419452   tt2956024        21   nm0023773  cinematographer   \n",
       "\n",
       "                              job              characters  \n",
       "78222505                       \\N  [\"Rogelio Santalucía\"]  \n",
       "74244678  director of photography                      \\N  \n",
       "87154110                       \\N        [\"Jo Young-Sun\"]  \n",
       "1745388                        \\N                      \\N  \n",
       "45834136                       \\N                      \\N  \n",
       "8626815                        \\N                [\"Self\"]  \n",
       "57146931                       \\N    [\"Self - Presenter\"]  \n",
       "9868791                        \\N             [\"Actress\"]  \n",
       "22782912                       \\N                      \\N  \n",
       "66995718                       \\N         [\"Tajil Kumar\"]  \n",
       "16621600                       \\N                [\"Self\"]  \n",
       "27473560                       \\N                      \\N  \n",
       "82735349                       \\N       [\"Leonor (1988)\"]  \n",
       "43904559                 producer                      \\N  \n",
       "82136887                       \\N                      \\N  \n",
       "78509703                       \\N               [\"Karen\"]  \n",
       "85567539                       \\N                      \\N  \n",
       "44790041                       \\N                [\"Self\"]  \n",
       "45748173                       \\N                      \\N  \n",
       "57419452                       \\N                      \\N  "
      ]
     },
     "execution_count": 2,
     "metadata": {},
     "output_type": "execute_result"
    }
   ],
   "source": [
    "df_title_principals.sample(20)"
   ]
  },
  {
   "cell_type": "markdown",
   "metadata": {},
   "source": [
    "identification des cellules vide"
   ]
  },
  {
   "cell_type": "code",
   "execution_count": 8,
   "metadata": {},
   "outputs": [
    {
     "name": "stdout",
     "output_type": "stream",
     "text": [
      "tconst_isna_sum : 0\n",
      "ordering_isna_sum : 0\n",
      "nconst_isna_sum : 0\n",
      "category_isna_sum : 0\n",
      "job_isna_sum : 0\n",
      "characters_isna_sum : 0\n"
     ]
    }
   ],
   "source": [
    "tconst_isna_sum = df_title_principals['tconst'].isna().sum()\n",
    "ordering_isna_sum = df_title_principals['ordering'].isna().sum()\n",
    "nconst_isna_sum = df_title_principals['nconst'].isna().sum()\n",
    "category_isna_sum = df_title_principals['category'].isna().sum()\n",
    "job_isna_sum = df_title_principals['job'].isna().sum()\n",
    "characters_isna_sum = df_title_principals['characters'].isna().sum()\n",
    "\n",
    "print(f'tconst_isna_sum : {tconst_isna_sum}')\n",
    "print(f'ordering_isna_sum : {ordering_isna_sum}')\n",
    "print(f'nconst_isna_sum : {nconst_isna_sum}')\n",
    "print(f'category_isna_sum : {category_isna_sum}')\n",
    "print(f'job_isna_sum : {job_isna_sum}')\n",
    "print(f'characters_isna_sum : {characters_isna_sum}')\n",
    "\n",
    "\n",
    "\n"
   ]
  },
  {
   "cell_type": "markdown",
   "metadata": {},
   "source": [
    "identification des null"
   ]
  },
  {
   "cell_type": "code",
   "execution_count": 9,
   "metadata": {},
   "outputs": [
    {
     "name": "stdout",
     "output_type": "stream",
     "text": [
      "tconst_isnull_sum : 0\n",
      "ordering_isnull_sum : 0\n",
      "nconst_isnull_sum : 0\n",
      "category_isnull_sum : 0\n",
      "job_isnull_sum : 0\n",
      "characters_isnull_sum : 0\n"
     ]
    }
   ],
   "source": [
    "tconst_isnull_sum = df_title_principals['tconst'].isnull().sum()\n",
    "ordering_isnull_sum = df_title_principals['ordering'].isnull().sum()\n",
    "nconst_isnull_sum = df_title_principals['nconst'].isnull().sum()\n",
    "category_isnull_sum = df_title_principals['category'].isnull().sum()\n",
    "job_isnull_sum = df_title_principals['job'].isnull().sum()\n",
    "characters_isnull_sum = df_title_principals['characters'].isnull().sum()\n",
    "\n",
    "print(f'tconst_isnull_sum : {tconst_isnull_sum}')\n",
    "print(f'ordering_isnull_sum : {ordering_isnull_sum}')\n",
    "print(f'nconst_isnull_sum : {nconst_isnull_sum}')\n",
    "print(f'category_isnull_sum : {category_isnull_sum}')\n",
    "print(f'job_isnull_sum : {job_isnull_sum}')\n",
    "print(f'characters_isnull_sum : {characters_isnull_sum}')"
   ]
  },
  {
   "cell_type": "markdown",
   "metadata": {},
   "source": [
    "identification des \\N"
   ]
  },
  {
   "cell_type": "code",
   "execution_count": 14,
   "metadata": {},
   "outputs": [
    {
     "name": "stdout",
     "output_type": "stream",
     "text": [
      "job_na : 72515501\n",
      "characters_na : 45987058\n"
     ]
    }
   ],
   "source": [
    "import numpy as np\n",
    "\n",
    "df_title_principals['job'] = df_title_principals['job'].replace(r'\\N', np.nan)\n",
    "df_title_principals['characters'] = df_title_principals['characters'].replace(r'\\N', np.nan)\n",
    "\n",
    "\n",
    "job_nan = df_title_principals['job'].isna().sum()\n",
    "characters_nan = df_title_principals['characters'].isna().sum()\n",
    "\n",
    "\n",
    "print(f'job_na : {job_nan}')\n",
    "print(f'characters_na : {characters_nan}')"
   ]
  },
  {
   "cell_type": "markdown",
   "metadata": {},
   "source": [
    " comptage des valeurs uniques par colonnes"
   ]
  },
  {
   "cell_type": "code",
   "execution_count": 10,
   "metadata": {},
   "outputs": [
    {
     "name": "stdout",
     "output_type": "stream",
     "text": [
      "tonst_countvalues : 10194789\n",
      "ordering_countvalues : 75\n",
      "nonst_countvalues : 6486943\n",
      "category_countvalues : 13\n",
      "job_countvalues : 43625\n",
      "characters_countvalues : 4174224\n"
     ]
    }
   ],
   "source": [
    "pd.set_option('display.max_rows', None)\n",
    "tonst_countvalues = df_title_principals['tconst'].nunique()\n",
    "ordering_countvalues = df_title_principals['ordering'].nunique()\n",
    "nonst_countvalues = df_title_principals['nconst'].nunique()\n",
    "category_countvalues = df_title_principals['category'].nunique()\n",
    "job_countvalues = df_title_principals['job'].nunique()\n",
    "characters_countvalues = df_title_principals['characters'].nunique()\n",
    "\n",
    "print(f'tonst_countvalues : {tonst_countvalues}')\n",
    "print(f'ordering_countvalues : {ordering_countvalues}')\n",
    "print(f'nonst_countvalues : {nonst_countvalues}')\n",
    "print(f'category_countvalues : {category_countvalues}')\n",
    "print(f'job_countvalues : {job_countvalues}')\n",
    "print(f'characters_countvalues : {characters_countvalues}')"
   ]
  },
  {
   "cell_type": "markdown",
   "metadata": {},
   "source": [
    "identification des valeurs de ordering et category"
   ]
  },
  {
   "cell_type": "code",
   "execution_count": 11,
   "metadata": {},
   "outputs": [
    {
     "name": "stdout",
     "output_type": "stream",
     "text": [
      "ordering_unique : [ 1  2  3  4  5  6  7  8  9 10 11 12 13 14 15 16 17 18 19 20 21 22 23 24\n",
      " 25 26 27 28 29 30 31 32 33 34 35 36 37 38 39 40 41 42 43 44 45 46 47 48\n",
      " 49 50 51 52 53 54 55 56 57 58 59 60 61 62 63 64 65 66 67 68 69 70 71 72\n",
      " 73 74 75]\n",
      "category_unique : ['self' 'director' 'producer' 'cinematographer' 'composer' 'editor'\n",
      " 'actor' 'actress' 'writer' 'production_designer' 'archive_footage'\n",
      " 'casting_director' 'archive_sound']\n"
     ]
    }
   ],
   "source": [
    "\n",
    "ordering_unique = df_title_principals['ordering'].unique()\n",
    "\n",
    "category_unique = df_title_principals['category'].unique()\n",
    "\n",
    "\n",
    "\n",
    "print(f'ordering_unique : {ordering_unique}')\n",
    "\n",
    "print(f'category_unique : {category_unique}')\n"
   ]
  }
 ],
 "metadata": {
  "kernelspec": {
   "display_name": "base",
   "language": "python",
   "name": "python3"
  },
  "language_info": {
   "codemirror_mode": {
    "name": "ipython",
    "version": 3
   },
   "file_extension": ".py",
   "mimetype": "text/x-python",
   "name": "python",
   "nbconvert_exporter": "python",
   "pygments_lexer": "ipython3",
   "version": "3.12.4"
  }
 },
 "nbformat": 4,
 "nbformat_minor": 2
}
