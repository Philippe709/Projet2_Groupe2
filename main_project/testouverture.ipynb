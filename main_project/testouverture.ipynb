{
 "cells": [
  {
   "cell_type": "code",
   "execution_count": 4,
   "metadata": {},
   "outputs": [
    {
     "name": "stderr",
     "output_type": "stream",
     "text": [
      "C:\\Users\\phili\\AppData\\Local\\Temp\\ipykernel_11492\\4081274212.py:4: DtypeWarning: Columns (24) have mixed types. Specify dtype option on import or set low_memory=False.\n",
      "  df = pd.read_csv('../BD_A_IGNORE/tmdb_full_2.csv')\n"
     ]
    },
    {
     "name": "stdout",
     "output_type": "stream",
     "text": [
      "<class 'pandas.core.frame.DataFrame'>\n",
      "RangeIndex: 309572 entries, 0 to 309571\n",
      "Data columns (total 25 columns):\n",
      " #   Column                        Non-Null Count   Dtype  \n",
      "---  ------                        --------------   -----  \n",
      " 0   adult                         309572 non-null  bool   \n",
      " 1   backdrop_path                 151760 non-null  object \n",
      " 2   budget                        309572 non-null  int64  \n",
      " 3   genres                        309572 non-null  object \n",
      " 4   homepage                      44262 non-null   object \n",
      " 5   id                            309572 non-null  int64  \n",
      " 6   imdb_id                       309572 non-null  object \n",
      " 7   original_language             309572 non-null  object \n",
      " 8   original_title                309572 non-null  object \n",
      " 9   overview                      282512 non-null  object \n",
      " 10  popularity                    309572 non-null  float64\n",
      " 11  poster_path                   264159 non-null  object \n",
      " 12  production_countries          309572 non-null  object \n",
      " 13  release_date                  301339 non-null  object \n",
      " 14  revenue                       309572 non-null  int64  \n",
      " 15  runtime                       309572 non-null  int64  \n",
      " 16  spoken_languages              309572 non-null  object \n",
      " 17  status                        309572 non-null  object \n",
      " 18  tagline                       74573 non-null   object \n",
      " 19  title                         309572 non-null  object \n",
      " 20  video                         309572 non-null  bool   \n",
      " 21  vote_average                  309572 non-null  float64\n",
      " 22  vote_count                    309572 non-null  int64  \n",
      " 23  production_companies_name     309572 non-null  object \n",
      " 24  production_companies_country  164438 non-null  object \n",
      "dtypes: bool(2), float64(2), int64(5), object(16)\n",
      "memory usage: 54.9+ MB\n"
     ]
    }
   ],
   "source": [
    "import pandas as pd\n",
    "\n",
    "#df = pd.read_csv('../BD_A_IGNORE/title.principals.tsv.gz', compression = 'gzip', sep='\\t')\n",
    "df = pd.read_csv('../BD_A_IGNORE/tmdb_full_2.csv')\n",
    "# df = pd.read_csv('../BD_A_IGNORE/title.akas.tsv.gz', compression = 'gzip', sep='\\t')\n",
    "# dico = dict(df['region'].value_counts())\n",
    "# dfregions = pd.DataFrame(dico, axis = 1)\n",
    "# dfregions\n",
    "\n",
    "df.info()\n"
   ]
  },
  {
   "cell_type": "code",
   "execution_count": 6,
   "metadata": {},
   "outputs": [
    {
     "data": {
      "text/html": [
       "<div>\n",
       "<style scoped>\n",
       "    .dataframe tbody tr th:only-of-type {\n",
       "        vertical-align: middle;\n",
       "    }\n",
       "\n",
       "    .dataframe tbody tr th {\n",
       "        vertical-align: top;\n",
       "    }\n",
       "\n",
       "    .dataframe thead th {\n",
       "        text-align: right;\n",
       "    }\n",
       "</style>\n",
       "<table border=\"1\" class=\"dataframe\">\n",
       "  <thead>\n",
       "    <tr style=\"text-align: right;\">\n",
       "      <th></th>\n",
       "      <th>adult</th>\n",
       "      <th>backdrop_path</th>\n",
       "      <th>budget</th>\n",
       "      <th>genres</th>\n",
       "      <th>homepage</th>\n",
       "      <th>id</th>\n",
       "      <th>imdb_id</th>\n",
       "      <th>original_language</th>\n",
       "      <th>original_title</th>\n",
       "      <th>overview</th>\n",
       "      <th>...</th>\n",
       "      <th>runtime</th>\n",
       "      <th>spoken_languages</th>\n",
       "      <th>status</th>\n",
       "      <th>tagline</th>\n",
       "      <th>title</th>\n",
       "      <th>video</th>\n",
       "      <th>vote_average</th>\n",
       "      <th>vote_count</th>\n",
       "      <th>production_companies_name</th>\n",
       "      <th>production_companies_country</th>\n",
       "    </tr>\n",
       "  </thead>\n",
       "  <tbody>\n",
       "    <tr>\n",
       "      <th>0</th>\n",
       "      <td>False</td>\n",
       "      <td>/dvQj1GBZAZirz1skEEZyWH2ZqQP.jpg</td>\n",
       "      <td>0</td>\n",
       "      <td>['Comedy']</td>\n",
       "      <td>NaN</td>\n",
       "      <td>3924</td>\n",
       "      <td>tt0029927</td>\n",
       "      <td>en</td>\n",
       "      <td>Blondie</td>\n",
       "      <td>Blondie and Dagwood are about to celebrate the...</td>\n",
       "      <td>...</td>\n",
       "      <td>70</td>\n",
       "      <td>['en']</td>\n",
       "      <td>Released</td>\n",
       "      <td>The favorite comic strip of millions at last o...</td>\n",
       "      <td>Blondie</td>\n",
       "      <td>False</td>\n",
       "      <td>7.214</td>\n",
       "      <td>7</td>\n",
       "      <td>['Columbia Pictures']</td>\n",
       "      <td>['US']</td>\n",
       "    </tr>\n",
       "    <tr>\n",
       "      <th>1</th>\n",
       "      <td>False</td>\n",
       "      <td>NaN</td>\n",
       "      <td>0</td>\n",
       "      <td>['Adventure']</td>\n",
       "      <td>NaN</td>\n",
       "      <td>6124</td>\n",
       "      <td>tt0011436</td>\n",
       "      <td>de</td>\n",
       "      <td>Der Mann ohne Namen</td>\n",
       "      <td>NaN</td>\n",
       "      <td>...</td>\n",
       "      <td>420</td>\n",
       "      <td>[]</td>\n",
       "      <td>Released</td>\n",
       "      <td>NaN</td>\n",
       "      <td>Peter Voss, Thief of Millions</td>\n",
       "      <td>False</td>\n",
       "      <td>0.000</td>\n",
       "      <td>0</td>\n",
       "      <td>[]</td>\n",
       "      <td>[]</td>\n",
       "    </tr>\n",
       "    <tr>\n",
       "      <th>2</th>\n",
       "      <td>False</td>\n",
       "      <td>/uJlc4aNPF3Y8yAqahJTKBwgwPVW.jpg</td>\n",
       "      <td>0</td>\n",
       "      <td>['Drama', 'Romance']</td>\n",
       "      <td>NaN</td>\n",
       "      <td>8773</td>\n",
       "      <td>tt0055747</td>\n",
       "      <td>fr</td>\n",
       "      <td>L'Amour à vingt ans</td>\n",
       "      <td>Love at Twenty unites five directors from five...</td>\n",
       "      <td>...</td>\n",
       "      <td>110</td>\n",
       "      <td>['it', 'ja', 'pl', 'fr', 'de']</td>\n",
       "      <td>Released</td>\n",
       "      <td>The Intimate Secrets of Young Lovers</td>\n",
       "      <td>Love at Twenty</td>\n",
       "      <td>False</td>\n",
       "      <td>6.700</td>\n",
       "      <td>41</td>\n",
       "      <td>['Ulysse Productions', 'Unitec Films', 'Cinese...</td>\n",
       "      <td>['', 'NZ', 'IT', 'JP', 'DE', 'PL', '']</td>\n",
       "    </tr>\n",
       "  </tbody>\n",
       "</table>\n",
       "<p>3 rows × 25 columns</p>\n",
       "</div>"
      ],
      "text/plain": [
       "   adult                     backdrop_path  budget                genres  \\\n",
       "0  False  /dvQj1GBZAZirz1skEEZyWH2ZqQP.jpg       0            ['Comedy']   \n",
       "1  False                               NaN       0         ['Adventure']   \n",
       "2  False  /uJlc4aNPF3Y8yAqahJTKBwgwPVW.jpg       0  ['Drama', 'Romance']   \n",
       "\n",
       "  homepage    id    imdb_id original_language       original_title  \\\n",
       "0      NaN  3924  tt0029927                en              Blondie   \n",
       "1      NaN  6124  tt0011436                de  Der Mann ohne Namen   \n",
       "2      NaN  8773  tt0055747                fr  L'Amour à vingt ans   \n",
       "\n",
       "                                            overview  ...  runtime  \\\n",
       "0  Blondie and Dagwood are about to celebrate the...  ...       70   \n",
       "1                                                NaN  ...      420   \n",
       "2  Love at Twenty unites five directors from five...  ...      110   \n",
       "\n",
       "                 spoken_languages    status  \\\n",
       "0                          ['en']  Released   \n",
       "1                              []  Released   \n",
       "2  ['it', 'ja', 'pl', 'fr', 'de']  Released   \n",
       "\n",
       "                                             tagline  \\\n",
       "0  The favorite comic strip of millions at last o...   \n",
       "1                                                NaN   \n",
       "2               The Intimate Secrets of Young Lovers   \n",
       "\n",
       "                           title  video vote_average vote_count  \\\n",
       "0                        Blondie  False        7.214          7   \n",
       "1  Peter Voss, Thief of Millions  False        0.000          0   \n",
       "2                 Love at Twenty  False        6.700         41   \n",
       "\n",
       "                           production_companies_name  \\\n",
       "0                              ['Columbia Pictures']   \n",
       "1                                                 []   \n",
       "2  ['Ulysse Productions', 'Unitec Films', 'Cinese...   \n",
       "\n",
       "             production_companies_country  \n",
       "0                                  ['US']  \n",
       "1                                      []  \n",
       "2  ['', 'NZ', 'IT', 'JP', 'DE', 'PL', '']  \n",
       "\n",
       "[3 rows x 25 columns]"
      ]
     },
     "execution_count": 6,
     "metadata": {},
     "output_type": "execute_result"
    }
   ],
   "source": [
    "df.head(3)"
   ]
  },
  {
   "cell_type": "code",
   "execution_count": 7,
   "metadata": {},
   "outputs": [
    {
     "data": {
      "text/plain": [
       "43200"
      ]
     },
     "execution_count": 7,
     "metadata": {},
     "output_type": "execute_result"
    }
   ],
   "source": [
    "df['runtime'].max()"
   ]
  },
  {
   "cell_type": "code",
   "execution_count": 9,
   "metadata": {},
   "outputs": [
    {
     "data": {
      "text/html": [
       "<div>\n",
       "<style scoped>\n",
       "    .dataframe tbody tr th:only-of-type {\n",
       "        vertical-align: middle;\n",
       "    }\n",
       "\n",
       "    .dataframe tbody tr th {\n",
       "        vertical-align: top;\n",
       "    }\n",
       "\n",
       "    .dataframe thead th {\n",
       "        text-align: right;\n",
       "    }\n",
       "</style>\n",
       "<table border=\"1\" class=\"dataframe\">\n",
       "  <thead>\n",
       "    <tr style=\"text-align: right;\">\n",
       "      <th></th>\n",
       "      <th>budget</th>\n",
       "      <th>id</th>\n",
       "      <th>popularity</th>\n",
       "      <th>revenue</th>\n",
       "      <th>runtime</th>\n",
       "      <th>vote_average</th>\n",
       "      <th>vote_count</th>\n",
       "    </tr>\n",
       "  </thead>\n",
       "  <tbody>\n",
       "    <tr>\n",
       "      <th>count</th>\n",
       "      <td>3.095720e+05</td>\n",
       "      <td>3.095720e+05</td>\n",
       "      <td>309572.000000</td>\n",
       "      <td>3.095720e+05</td>\n",
       "      <td>309572.000000</td>\n",
       "      <td>309572.000000</td>\n",
       "      <td>309572.000000</td>\n",
       "    </tr>\n",
       "    <tr>\n",
       "      <th>mean</th>\n",
       "      <td>8.781720e+05</td>\n",
       "      <td>4.086449e+05</td>\n",
       "      <td>2.719860</td>\n",
       "      <td>2.247857e+06</td>\n",
       "      <td>70.438702</td>\n",
       "      <td>4.105471</td>\n",
       "      <td>65.364616</td>\n",
       "    </tr>\n",
       "    <tr>\n",
       "      <th>std</th>\n",
       "      <td>8.275506e+06</td>\n",
       "      <td>3.219135e+05</td>\n",
       "      <td>21.206599</td>\n",
       "      <td>3.023098e+07</td>\n",
       "      <td>95.136916</td>\n",
       "      <td>3.000611</td>\n",
       "      <td>588.071450</td>\n",
       "    </tr>\n",
       "    <tr>\n",
       "      <th>min</th>\n",
       "      <td>0.000000e+00</td>\n",
       "      <td>2.000000e+00</td>\n",
       "      <td>0.600000</td>\n",
       "      <td>0.000000e+00</td>\n",
       "      <td>0.000000</td>\n",
       "      <td>0.000000</td>\n",
       "      <td>0.000000</td>\n",
       "    </tr>\n",
       "    <tr>\n",
       "      <th>25%</th>\n",
       "      <td>0.000000e+00</td>\n",
       "      <td>1.311845e+05</td>\n",
       "      <td>0.600000</td>\n",
       "      <td>0.000000e+00</td>\n",
       "      <td>22.000000</td>\n",
       "      <td>0.000000</td>\n",
       "      <td>0.000000</td>\n",
       "    </tr>\n",
       "    <tr>\n",
       "      <th>50%</th>\n",
       "      <td>0.000000e+00</td>\n",
       "      <td>3.349365e+05</td>\n",
       "      <td>1.083000</td>\n",
       "      <td>0.000000e+00</td>\n",
       "      <td>85.000000</td>\n",
       "      <td>5.000000</td>\n",
       "      <td>2.000000</td>\n",
       "    </tr>\n",
       "    <tr>\n",
       "      <th>75%</th>\n",
       "      <td>0.000000e+00</td>\n",
       "      <td>6.178362e+05</td>\n",
       "      <td>1.994000</td>\n",
       "      <td>0.000000e+00</td>\n",
       "      <td>98.000000</td>\n",
       "      <td>6.400000</td>\n",
       "      <td>9.000000</td>\n",
       "    </tr>\n",
       "    <tr>\n",
       "      <th>max</th>\n",
       "      <td>5.793304e+08</td>\n",
       "      <td>1.122427e+06</td>\n",
       "      <td>5089.969000</td>\n",
       "      <td>2.923706e+09</td>\n",
       "      <td>43200.000000</td>\n",
       "      <td>10.000000</td>\n",
       "      <td>33630.000000</td>\n",
       "    </tr>\n",
       "  </tbody>\n",
       "</table>\n",
       "</div>"
      ],
      "text/plain": [
       "             budget            id     popularity       revenue        runtime  \\\n",
       "count  3.095720e+05  3.095720e+05  309572.000000  3.095720e+05  309572.000000   \n",
       "mean   8.781720e+05  4.086449e+05       2.719860  2.247857e+06      70.438702   \n",
       "std    8.275506e+06  3.219135e+05      21.206599  3.023098e+07      95.136916   \n",
       "min    0.000000e+00  2.000000e+00       0.600000  0.000000e+00       0.000000   \n",
       "25%    0.000000e+00  1.311845e+05       0.600000  0.000000e+00      22.000000   \n",
       "50%    0.000000e+00  3.349365e+05       1.083000  0.000000e+00      85.000000   \n",
       "75%    0.000000e+00  6.178362e+05       1.994000  0.000000e+00      98.000000   \n",
       "max    5.793304e+08  1.122427e+06    5089.969000  2.923706e+09   43200.000000   \n",
       "\n",
       "        vote_average     vote_count  \n",
       "count  309572.000000  309572.000000  \n",
       "mean        4.105471      65.364616  \n",
       "std         3.000611     588.071450  \n",
       "min         0.000000       0.000000  \n",
       "25%         0.000000       0.000000  \n",
       "50%         5.000000       2.000000  \n",
       "75%         6.400000       9.000000  \n",
       "max        10.000000   33630.000000  "
      ]
     },
     "execution_count": 9,
     "metadata": {},
     "output_type": "execute_result"
    }
   ],
   "source": [
    "df.describe()"
   ]
  },
  {
   "cell_type": "code",
   "execution_count": null,
   "metadata": {},
   "outputs": [],
   "source": [
    "# pd.set_option('display.max_rows', None)\n",
    "\n",
    "df2 = pd.DataFrame(df['runtime'].value_counts())\n",
    "df2"
   ]
  },
  {
   "cell_type": "code",
   "execution_count": 22,
   "metadata": {},
   "outputs": [
    {
     "data": {
      "application/vnd.plotly.v1+json": {
       "config": {
        "plotlyServerURL": "https://plot.ly"
       },
       "data": [
        {
         "alignmentgroup": "True",
         "bingroup": "x",
         "histfunc": "sum",
         "hovertemplate": "runtime=%{x}<br>sum of count=%{y}<extra></extra>",
         "legendgroup": "",
         "marker": {
          "color": "#636efa",
          "pattern": {
           "shape": ""
          }
         },
         "name": "",
         "offsetgroup": "",
         "orientation": "v",
         "showlegend": false,
         "type": "histogram",
         "x": [
          0,
          90,
          95,
          100,
          85,
          88,
          93,
          80,
          92,
          87,
          91,
          89,
          94,
          96,
          86,
          97,
          84,
          98,
          105,
          60,
          82,
          83,
          7,
          110,
          75,
          10,
          120,
          99,
          102,
          70,
          104,
          15,
          6,
          103,
          101,
          81,
          8,
          78,
          107,
          106,
          108,
          9,
          11,
          12,
          72,
          20,
          77,
          79,
          14,
          13,
          76,
          5,
          74,
          1,
          115,
          73,
          109,
          50,
          112,
          30,
          4,
          16,
          17,
          3,
          65,
          113,
          18,
          71,
          111,
          114,
          118,
          58,
          52,
          116,
          19,
          117,
          59,
          68,
          2,
          55,
          25,
          67,
          22,
          62,
          45,
          119,
          61,
          63,
          125,
          130,
          66,
          69,
          57,
          56,
          24,
          23,
          122,
          64,
          150,
          53,
          21,
          124,
          121,
          135,
          123,
          54,
          140,
          26,
          28,
          127,
          27,
          128,
          180,
          126,
          40,
          48,
          44,
          29,
          145,
          129,
          132,
          47,
          138,
          134,
          51,
          46,
          137,
          133,
          131,
          136,
          42,
          35,
          43,
          160,
          142,
          49,
          139,
          144,
          141,
          32,
          143,
          155,
          31,
          33,
          148,
          146,
          147,
          38,
          165,
          41,
          152,
          153,
          39,
          34,
          149,
          156,
          36,
          151,
          37,
          157,
          170,
          154,
          159,
          158,
          162,
          167,
          164,
          161,
          166,
          175,
          163,
          240,
          168,
          200,
          172,
          169,
          210,
          174,
          173,
          178,
          177,
          171,
          176,
          185,
          179,
          190,
          183,
          192,
          182,
          300,
          181,
          195,
          188,
          186,
          360,
          187,
          184,
          220,
          196,
          189,
          197,
          208,
          201,
          540,
          205,
          194,
          225,
          193,
          191,
          215,
          202,
          270,
          227,
          216,
          207,
          330,
          219,
          204,
          212,
          250,
          206,
          218,
          211,
          217,
          237,
          260,
          198,
          230,
          248,
          252,
          213,
          229,
          209,
          280,
          242,
          199,
          285,
          224,
          232,
          228,
          203,
          255,
          247,
          226,
          245,
          239,
          235,
          480,
          238,
          222,
          420,
          221,
          214,
          223,
          278,
          243,
          350,
          265,
          310,
          251,
          231,
          234,
          264,
          400,
          246,
          241,
          256,
          450,
          290,
          284,
          244,
          269,
          315,
          295,
          999,
          281,
          233,
          254,
          390,
          276,
          277,
          320,
          359,
          236,
          312,
          267,
          273,
          275,
          401,
          263,
          266,
          418,
          303,
          297,
          485,
          840,
          296,
          293,
          279,
          600,
          257,
          302,
          259,
          258,
          289,
          416,
          305,
          288,
          325,
          313,
          351,
          437,
          331,
          434,
          439,
          298,
          385,
          249,
          352,
          557,
          328,
          316,
          299,
          422,
          410,
          287,
          585,
          488,
          323,
          306,
          1440,
          268,
          304,
          345,
          340,
          358,
          569,
          630,
          409,
          301,
          292,
          357,
          369,
          271,
          272,
          317,
          489,
          432,
          283,
          404,
          500,
          376,
          460,
          334,
          261,
          355,
          366,
          342,
          321,
          518,
          922,
          730,
          735,
          693,
          501,
          782,
          442,
          375,
          512,
          377,
          570,
          387,
          613,
          9000,
          384,
          455,
          354,
          402,
          659,
          253,
          471,
          337,
          12480,
          510,
          464,
          356,
          519,
          525,
          647,
          318,
          367,
          763,
          538,
          520,
          626,
          5220,
          338,
          43200,
          743,
          1000,
          346,
          551,
          407,
          465,
          307,
          311,
          332,
          1273,
          449,
          344,
          291,
          690,
          370,
          1600,
          335,
          533,
          373,
          589,
          715,
          544,
          378,
          641,
          336,
          341,
          286,
          353,
          549,
          430,
          852,
          553,
          382,
          495,
          274,
          487,
          467,
          960,
          339,
          333,
          456,
          746,
          371,
          476,
          750,
          583,
          660,
          644,
          565,
          493,
          780,
          440,
          765,
          803,
          309,
          720,
          616,
          282,
          324,
          599,
          481,
          294
         ],
         "xaxis": "x",
         "y": [
          37952,
          15523,
          6807,
          6798,
          6557,
          5459,
          5322,
          5273,
          5268,
          4820,
          4803,
          4733,
          4688,
          4683,
          4410,
          4251,
          4201,
          4115,
          3957,
          3842,
          3497,
          3351,
          3327,
          3213,
          3159,
          2995,
          2987,
          2976,
          2945,
          2764,
          2757,
          2587,
          2584,
          2574,
          2564,
          2529,
          2439,
          2315,
          2114,
          2098,
          2091,
          2064,
          2021,
          1986,
          1964,
          1909,
          1877,
          1827,
          1803,
          1798,
          1790,
          1756,
          1719,
          1715,
          1707,
          1680,
          1619,
          1565,
          1518,
          1500,
          1458,
          1446,
          1428,
          1416,
          1374,
          1361,
          1353,
          1332,
          1325,
          1234,
          1218,
          1210,
          1196,
          1106,
          1100,
          1097,
          1086,
          1073,
          1064,
          1036,
          1029,
          1003,
          995,
          994,
          992,
          969,
          962,
          957,
          921,
          916,
          893,
          880,
          860,
          856,
          843,
          829,
          826,
          823,
          815,
          799,
          798,
          745,
          737,
          734,
          730,
          713,
          712,
          709,
          688,
          659,
          653,
          643,
          620,
          608,
          607,
          595,
          569,
          557,
          547,
          534,
          529,
          518,
          514,
          493,
          490,
          457,
          454,
          450,
          439,
          418,
          406,
          406,
          383,
          368,
          366,
          363,
          341,
          340,
          337,
          337,
          326,
          314,
          313,
          295,
          290,
          273,
          267,
          254,
          237,
          235,
          233,
          229,
          224,
          218,
          217,
          217,
          210,
          209,
          208,
          199,
          197,
          185,
          182,
          167,
          162,
          139,
          139,
          137,
          135,
          133,
          129,
          127,
          119,
          115,
          99,
          97,
          95,
          91,
          87,
          83,
          74,
          73,
          68,
          67,
          66,
          54,
          46,
          45,
          43,
          41,
          41,
          38,
          36,
          34,
          33,
          32,
          31,
          31,
          31,
          29,
          28,
          27,
          26,
          25,
          25,
          25,
          23,
          23,
          22,
          20,
          19,
          19,
          18,
          18,
          18,
          18,
          17,
          17,
          16,
          16,
          16,
          15,
          15,
          14,
          14,
          14,
          14,
          14,
          14,
          13,
          13,
          13,
          13,
          12,
          12,
          12,
          11,
          11,
          11,
          11,
          11,
          11,
          11,
          10,
          10,
          10,
          10,
          9,
          9,
          9,
          9,
          9,
          9,
          9,
          8,
          8,
          8,
          8,
          8,
          8,
          7,
          7,
          7,
          7,
          7,
          7,
          7,
          6,
          6,
          6,
          6,
          6,
          5,
          5,
          5,
          5,
          5,
          5,
          5,
          4,
          4,
          4,
          4,
          4,
          4,
          4,
          4,
          4,
          4,
          4,
          4,
          4,
          3,
          3,
          3,
          3,
          3,
          3,
          3,
          3,
          3,
          3,
          3,
          3,
          3,
          3,
          3,
          3,
          3,
          3,
          2,
          2,
          2,
          2,
          2,
          2,
          2,
          2,
          2,
          2,
          2,
          2,
          2,
          2,
          2,
          2,
          2,
          2,
          2,
          2,
          2,
          2,
          2,
          2,
          2,
          2,
          2,
          2,
          2,
          2,
          2,
          2,
          2,
          2,
          2,
          2,
          2,
          2,
          2,
          2,
          2,
          2,
          2,
          2,
          2,
          2,
          2,
          2,
          2,
          1,
          1,
          1,
          1,
          1,
          1,
          1,
          1,
          1,
          1,
          1,
          1,
          1,
          1,
          1,
          1,
          1,
          1,
          1,
          1,
          1,
          1,
          1,
          1,
          1,
          1,
          1,
          1,
          1,
          1,
          1,
          1,
          1,
          1,
          1,
          1,
          1,
          1,
          1,
          1,
          1,
          1,
          1,
          1,
          1,
          1,
          1,
          1,
          1,
          1,
          1,
          1,
          1,
          1,
          1,
          1,
          1,
          1,
          1,
          1,
          1,
          1,
          1,
          1,
          1,
          1,
          1,
          1,
          1,
          1,
          1,
          1,
          1,
          1,
          1,
          1,
          1,
          1,
          1,
          1,
          1,
          1,
          1,
          1,
          1,
          1,
          1,
          1,
          1,
          1,
          1,
          1,
          1,
          1,
          1,
          1,
          1,
          1,
          1,
          1,
          1
         ],
         "yaxis": "y"
        }
       ],
       "layout": {
        "barmode": "relative",
        "legend": {
         "tracegroupgap": 0
        },
        "margin": {
         "t": 60
        },
        "template": {
         "data": {
          "bar": [
           {
            "error_x": {
             "color": "#2a3f5f"
            },
            "error_y": {
             "color": "#2a3f5f"
            },
            "marker": {
             "line": {
              "color": "#E5ECF6",
              "width": 0.5
             },
             "pattern": {
              "fillmode": "overlay",
              "size": 10,
              "solidity": 0.2
             }
            },
            "type": "bar"
           }
          ],
          "barpolar": [
           {
            "marker": {
             "line": {
              "color": "#E5ECF6",
              "width": 0.5
             },
             "pattern": {
              "fillmode": "overlay",
              "size": 10,
              "solidity": 0.2
             }
            },
            "type": "barpolar"
           }
          ],
          "carpet": [
           {
            "aaxis": {
             "endlinecolor": "#2a3f5f",
             "gridcolor": "white",
             "linecolor": "white",
             "minorgridcolor": "white",
             "startlinecolor": "#2a3f5f"
            },
            "baxis": {
             "endlinecolor": "#2a3f5f",
             "gridcolor": "white",
             "linecolor": "white",
             "minorgridcolor": "white",
             "startlinecolor": "#2a3f5f"
            },
            "type": "carpet"
           }
          ],
          "choropleth": [
           {
            "colorbar": {
             "outlinewidth": 0,
             "ticks": ""
            },
            "type": "choropleth"
           }
          ],
          "contour": [
           {
            "colorbar": {
             "outlinewidth": 0,
             "ticks": ""
            },
            "colorscale": [
             [
              0,
              "#0d0887"
             ],
             [
              0.1111111111111111,
              "#46039f"
             ],
             [
              0.2222222222222222,
              "#7201a8"
             ],
             [
              0.3333333333333333,
              "#9c179e"
             ],
             [
              0.4444444444444444,
              "#bd3786"
             ],
             [
              0.5555555555555556,
              "#d8576b"
             ],
             [
              0.6666666666666666,
              "#ed7953"
             ],
             [
              0.7777777777777778,
              "#fb9f3a"
             ],
             [
              0.8888888888888888,
              "#fdca26"
             ],
             [
              1,
              "#f0f921"
             ]
            ],
            "type": "contour"
           }
          ],
          "contourcarpet": [
           {
            "colorbar": {
             "outlinewidth": 0,
             "ticks": ""
            },
            "type": "contourcarpet"
           }
          ],
          "heatmap": [
           {
            "colorbar": {
             "outlinewidth": 0,
             "ticks": ""
            },
            "colorscale": [
             [
              0,
              "#0d0887"
             ],
             [
              0.1111111111111111,
              "#46039f"
             ],
             [
              0.2222222222222222,
              "#7201a8"
             ],
             [
              0.3333333333333333,
              "#9c179e"
             ],
             [
              0.4444444444444444,
              "#bd3786"
             ],
             [
              0.5555555555555556,
              "#d8576b"
             ],
             [
              0.6666666666666666,
              "#ed7953"
             ],
             [
              0.7777777777777778,
              "#fb9f3a"
             ],
             [
              0.8888888888888888,
              "#fdca26"
             ],
             [
              1,
              "#f0f921"
             ]
            ],
            "type": "heatmap"
           }
          ],
          "heatmapgl": [
           {
            "colorbar": {
             "outlinewidth": 0,
             "ticks": ""
            },
            "colorscale": [
             [
              0,
              "#0d0887"
             ],
             [
              0.1111111111111111,
              "#46039f"
             ],
             [
              0.2222222222222222,
              "#7201a8"
             ],
             [
              0.3333333333333333,
              "#9c179e"
             ],
             [
              0.4444444444444444,
              "#bd3786"
             ],
             [
              0.5555555555555556,
              "#d8576b"
             ],
             [
              0.6666666666666666,
              "#ed7953"
             ],
             [
              0.7777777777777778,
              "#fb9f3a"
             ],
             [
              0.8888888888888888,
              "#fdca26"
             ],
             [
              1,
              "#f0f921"
             ]
            ],
            "type": "heatmapgl"
           }
          ],
          "histogram": [
           {
            "marker": {
             "pattern": {
              "fillmode": "overlay",
              "size": 10,
              "solidity": 0.2
             }
            },
            "type": "histogram"
           }
          ],
          "histogram2d": [
           {
            "colorbar": {
             "outlinewidth": 0,
             "ticks": ""
            },
            "colorscale": [
             [
              0,
              "#0d0887"
             ],
             [
              0.1111111111111111,
              "#46039f"
             ],
             [
              0.2222222222222222,
              "#7201a8"
             ],
             [
              0.3333333333333333,
              "#9c179e"
             ],
             [
              0.4444444444444444,
              "#bd3786"
             ],
             [
              0.5555555555555556,
              "#d8576b"
             ],
             [
              0.6666666666666666,
              "#ed7953"
             ],
             [
              0.7777777777777778,
              "#fb9f3a"
             ],
             [
              0.8888888888888888,
              "#fdca26"
             ],
             [
              1,
              "#f0f921"
             ]
            ],
            "type": "histogram2d"
           }
          ],
          "histogram2dcontour": [
           {
            "colorbar": {
             "outlinewidth": 0,
             "ticks": ""
            },
            "colorscale": [
             [
              0,
              "#0d0887"
             ],
             [
              0.1111111111111111,
              "#46039f"
             ],
             [
              0.2222222222222222,
              "#7201a8"
             ],
             [
              0.3333333333333333,
              "#9c179e"
             ],
             [
              0.4444444444444444,
              "#bd3786"
             ],
             [
              0.5555555555555556,
              "#d8576b"
             ],
             [
              0.6666666666666666,
              "#ed7953"
             ],
             [
              0.7777777777777778,
              "#fb9f3a"
             ],
             [
              0.8888888888888888,
              "#fdca26"
             ],
             [
              1,
              "#f0f921"
             ]
            ],
            "type": "histogram2dcontour"
           }
          ],
          "mesh3d": [
           {
            "colorbar": {
             "outlinewidth": 0,
             "ticks": ""
            },
            "type": "mesh3d"
           }
          ],
          "parcoords": [
           {
            "line": {
             "colorbar": {
              "outlinewidth": 0,
              "ticks": ""
             }
            },
            "type": "parcoords"
           }
          ],
          "pie": [
           {
            "automargin": true,
            "type": "pie"
           }
          ],
          "scatter": [
           {
            "fillpattern": {
             "fillmode": "overlay",
             "size": 10,
             "solidity": 0.2
            },
            "type": "scatter"
           }
          ],
          "scatter3d": [
           {
            "line": {
             "colorbar": {
              "outlinewidth": 0,
              "ticks": ""
             }
            },
            "marker": {
             "colorbar": {
              "outlinewidth": 0,
              "ticks": ""
             }
            },
            "type": "scatter3d"
           }
          ],
          "scattercarpet": [
           {
            "marker": {
             "colorbar": {
              "outlinewidth": 0,
              "ticks": ""
             }
            },
            "type": "scattercarpet"
           }
          ],
          "scattergeo": [
           {
            "marker": {
             "colorbar": {
              "outlinewidth": 0,
              "ticks": ""
             }
            },
            "type": "scattergeo"
           }
          ],
          "scattergl": [
           {
            "marker": {
             "colorbar": {
              "outlinewidth": 0,
              "ticks": ""
             }
            },
            "type": "scattergl"
           }
          ],
          "scattermapbox": [
           {
            "marker": {
             "colorbar": {
              "outlinewidth": 0,
              "ticks": ""
             }
            },
            "type": "scattermapbox"
           }
          ],
          "scatterpolar": [
           {
            "marker": {
             "colorbar": {
              "outlinewidth": 0,
              "ticks": ""
             }
            },
            "type": "scatterpolar"
           }
          ],
          "scatterpolargl": [
           {
            "marker": {
             "colorbar": {
              "outlinewidth": 0,
              "ticks": ""
             }
            },
            "type": "scatterpolargl"
           }
          ],
          "scatterternary": [
           {
            "marker": {
             "colorbar": {
              "outlinewidth": 0,
              "ticks": ""
             }
            },
            "type": "scatterternary"
           }
          ],
          "surface": [
           {
            "colorbar": {
             "outlinewidth": 0,
             "ticks": ""
            },
            "colorscale": [
             [
              0,
              "#0d0887"
             ],
             [
              0.1111111111111111,
              "#46039f"
             ],
             [
              0.2222222222222222,
              "#7201a8"
             ],
             [
              0.3333333333333333,
              "#9c179e"
             ],
             [
              0.4444444444444444,
              "#bd3786"
             ],
             [
              0.5555555555555556,
              "#d8576b"
             ],
             [
              0.6666666666666666,
              "#ed7953"
             ],
             [
              0.7777777777777778,
              "#fb9f3a"
             ],
             [
              0.8888888888888888,
              "#fdca26"
             ],
             [
              1,
              "#f0f921"
             ]
            ],
            "type": "surface"
           }
          ],
          "table": [
           {
            "cells": {
             "fill": {
              "color": "#EBF0F8"
             },
             "line": {
              "color": "white"
             }
            },
            "header": {
             "fill": {
              "color": "#C8D4E3"
             },
             "line": {
              "color": "white"
             }
            },
            "type": "table"
           }
          ]
         },
         "layout": {
          "annotationdefaults": {
           "arrowcolor": "#2a3f5f",
           "arrowhead": 0,
           "arrowwidth": 1
          },
          "autotypenumbers": "strict",
          "coloraxis": {
           "colorbar": {
            "outlinewidth": 0,
            "ticks": ""
           }
          },
          "colorscale": {
           "diverging": [
            [
             0,
             "#8e0152"
            ],
            [
             0.1,
             "#c51b7d"
            ],
            [
             0.2,
             "#de77ae"
            ],
            [
             0.3,
             "#f1b6da"
            ],
            [
             0.4,
             "#fde0ef"
            ],
            [
             0.5,
             "#f7f7f7"
            ],
            [
             0.6,
             "#e6f5d0"
            ],
            [
             0.7,
             "#b8e186"
            ],
            [
             0.8,
             "#7fbc41"
            ],
            [
             0.9,
             "#4d9221"
            ],
            [
             1,
             "#276419"
            ]
           ],
           "sequential": [
            [
             0,
             "#0d0887"
            ],
            [
             0.1111111111111111,
             "#46039f"
            ],
            [
             0.2222222222222222,
             "#7201a8"
            ],
            [
             0.3333333333333333,
             "#9c179e"
            ],
            [
             0.4444444444444444,
             "#bd3786"
            ],
            [
             0.5555555555555556,
             "#d8576b"
            ],
            [
             0.6666666666666666,
             "#ed7953"
            ],
            [
             0.7777777777777778,
             "#fb9f3a"
            ],
            [
             0.8888888888888888,
             "#fdca26"
            ],
            [
             1,
             "#f0f921"
            ]
           ],
           "sequentialminus": [
            [
             0,
             "#0d0887"
            ],
            [
             0.1111111111111111,
             "#46039f"
            ],
            [
             0.2222222222222222,
             "#7201a8"
            ],
            [
             0.3333333333333333,
             "#9c179e"
            ],
            [
             0.4444444444444444,
             "#bd3786"
            ],
            [
             0.5555555555555556,
             "#d8576b"
            ],
            [
             0.6666666666666666,
             "#ed7953"
            ],
            [
             0.7777777777777778,
             "#fb9f3a"
            ],
            [
             0.8888888888888888,
             "#fdca26"
            ],
            [
             1,
             "#f0f921"
            ]
           ]
          },
          "colorway": [
           "#636efa",
           "#EF553B",
           "#00cc96",
           "#ab63fa",
           "#FFA15A",
           "#19d3f3",
           "#FF6692",
           "#B6E880",
           "#FF97FF",
           "#FECB52"
          ],
          "font": {
           "color": "#2a3f5f"
          },
          "geo": {
           "bgcolor": "white",
           "lakecolor": "white",
           "landcolor": "#E5ECF6",
           "showlakes": true,
           "showland": true,
           "subunitcolor": "white"
          },
          "hoverlabel": {
           "align": "left"
          },
          "hovermode": "closest",
          "mapbox": {
           "style": "light"
          },
          "paper_bgcolor": "white",
          "plot_bgcolor": "#E5ECF6",
          "polar": {
           "angularaxis": {
            "gridcolor": "white",
            "linecolor": "white",
            "ticks": ""
           },
           "bgcolor": "#E5ECF6",
           "radialaxis": {
            "gridcolor": "white",
            "linecolor": "white",
            "ticks": ""
           }
          },
          "scene": {
           "xaxis": {
            "backgroundcolor": "#E5ECF6",
            "gridcolor": "white",
            "gridwidth": 2,
            "linecolor": "white",
            "showbackground": true,
            "ticks": "",
            "zerolinecolor": "white"
           },
           "yaxis": {
            "backgroundcolor": "#E5ECF6",
            "gridcolor": "white",
            "gridwidth": 2,
            "linecolor": "white",
            "showbackground": true,
            "ticks": "",
            "zerolinecolor": "white"
           },
           "zaxis": {
            "backgroundcolor": "#E5ECF6",
            "gridcolor": "white",
            "gridwidth": 2,
            "linecolor": "white",
            "showbackground": true,
            "ticks": "",
            "zerolinecolor": "white"
           }
          },
          "shapedefaults": {
           "line": {
            "color": "#2a3f5f"
           }
          },
          "ternary": {
           "aaxis": {
            "gridcolor": "white",
            "linecolor": "white",
            "ticks": ""
           },
           "baxis": {
            "gridcolor": "white",
            "linecolor": "white",
            "ticks": ""
           },
           "bgcolor": "#E5ECF6",
           "caxis": {
            "gridcolor": "white",
            "linecolor": "white",
            "ticks": ""
           }
          },
          "title": {
           "x": 0.05
          },
          "xaxis": {
           "automargin": true,
           "gridcolor": "white",
           "linecolor": "white",
           "ticks": "",
           "title": {
            "standoff": 15
           },
           "zerolinecolor": "white",
           "zerolinewidth": 2
          },
          "yaxis": {
           "automargin": true,
           "gridcolor": "white",
           "linecolor": "white",
           "ticks": "",
           "title": {
            "standoff": 15
           },
           "zerolinecolor": "white",
           "zerolinewidth": 2
          }
         }
        },
        "xaxis": {
         "anchor": "y",
         "domain": [
          0,
          1
         ],
         "title": {
          "text": "runtime"
         }
        },
        "yaxis": {
         "anchor": "x",
         "domain": [
          0,
          1
         ],
         "title": {
          "text": "sum of count"
         }
        }
       }
      }
     },
     "metadata": {},
     "output_type": "display_data"
    }
   ],
   "source": [
    "import plotly.express as px\n",
    "\n",
    "graph = px.histogram(df2, x = df2.index, y = 'count' )\n",
    "\n",
    "graph.show()"
   ]
  }
 ],
 "metadata": {
  "kernelspec": {
   "display_name": "base",
   "language": "python",
   "name": "python3"
  },
  "language_info": {
   "codemirror_mode": {
    "name": "ipython",
    "version": 3
   },
   "file_extension": ".py",
   "mimetype": "text/x-python",
   "name": "python",
   "nbconvert_exporter": "python",
   "pygments_lexer": "ipython3",
   "version": "3.12.4"
  }
 },
 "nbformat": 4,
 "nbformat_minor": 2
}
