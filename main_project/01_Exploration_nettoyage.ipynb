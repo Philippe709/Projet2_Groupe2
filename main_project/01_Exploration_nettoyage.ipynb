{
 "cells": [
  {
   "cell_type": "code",
   "execution_count": 202,
   "metadata": {},
   "outputs": [],
   "source": [
    "import pandas as pd\n",
    "import numpy as np"
   ]
  },
  {
   "cell_type": "code",
   "execution_count": 203,
   "metadata": {},
   "outputs": [
    {
     "name": "stderr",
     "output_type": "stream",
     "text": [
      "C:\\Users\\phili\\AppData\\Local\\Temp\\ipykernel_14136\\3519201361.py:2: DtypeWarning: Columns (7) have mixed types. Specify dtype option on import or set low_memory=False.\n",
      "  data_title_basics = pd.read_csv('title.basics.tsv.gz', sep='\\t', compression='gzip', na_values=(r'\\N'))\n"
     ]
    },
    {
     "name": "stdout",
     "output_type": "stream",
     "text": [
      "<class 'pandas.core.frame.DataFrame'>\n",
      "RangeIndex: 11268596 entries, 0 to 11268595\n",
      "Data columns (total 8 columns):\n",
      " #   Column          Dtype  \n",
      "---  ------          -----  \n",
      " 0   tconst          object \n",
      " 1   titleType       object \n",
      " 2   primaryTitle    object \n",
      " 3   originalTitle   object \n",
      " 4   isAdult         float64\n",
      " 5   startYear       float64\n",
      " 6   runtimeMinutes  object \n",
      " 7   genres          object \n",
      "dtypes: float64(2), object(6)\n",
      "memory usage: 687.8+ MB\n"
     ]
    }
   ],
   "source": [
    "# chargement de données, suppression \"endYear\" \n",
    "data_title_basics = pd.read_csv('title.basics.tsv.gz', sep='\\t', compression='gzip', na_values=(r'\\N'))\n",
    "title_basics = data_title_basics.drop(['endYear'], axis=1)\n",
    "title_basics.info()"
   ]
  },
  {
   "cell_type": "code",
   "execution_count": 204,
   "metadata": {},
   "outputs": [],
   "source": [
    "# sélection des films à partir des années 1990\n",
    "# title_basics = title_basics[title_basics['startYear'] > '1889-12-31']\n",
    "# title_basics['startYear'].info()"
   ]
  },
  {
   "cell_type": "code",
   "execution_count": 205,
   "metadata": {},
   "outputs": [
    {
     "data": {
      "text/plain": [
       "tconst                  0\n",
       "titleType               0\n",
       "primaryTitle           19\n",
       "originalTitle          19\n",
       "isAdult                 1\n",
       "startYear         1417152\n",
       "runtimeMinutes    7710785\n",
       "genres             501560\n",
       "dtype: int64"
      ]
     },
     "execution_count": 205,
     "metadata": {},
     "output_type": "execute_result"
    }
   ],
   "source": [
    "# vérifier les valeurs manquantes\n",
    "title_basics.isnull().sum()"
   ]
  },
  {
   "cell_type": "code",
   "execution_count": 206,
   "metadata": {},
   "outputs": [],
   "source": [
    "# modifier le type de données\n",
    "title_basics['startYear'] = pd.to_datetime(title_basics['startYear'], format = '%Y')"
   ]
  },
  {
   "cell_type": "code",
   "execution_count": 207,
   "metadata": {},
   "outputs": [
    {
     "data": {
      "text/plain": [
       "Timestamp('2024-01-01 00:00:00')"
      ]
     },
     "execution_count": 207,
     "metadata": {},
     "output_type": "execute_result"
    }
   ],
   "source": [
    "# conserver uniquement les films jusque 2024\n",
    "title_basics = title_basics[title_basics['startYear'] <= '2024-12-31']\n",
    "title_basics['startYear'].max()"
   ]
  },
  {
   "cell_type": "code",
   "execution_count": 208,
   "metadata": {},
   "outputs": [
    {
     "data": {
      "text/plain": [
       "titleType\n",
       "tvEpisode       7409895\n",
       "short            990508\n",
       "movie            594497\n",
       "video            299456\n",
       "tvSeries         250464\n",
       "tvMovie          144774\n",
       "tvMiniSeries      53993\n",
       "tvSpecial         50028\n",
       "videoGame         39424\n",
       "tvShort           10372\n",
       "tvPilot               1\n",
       "Name: count, dtype: int64"
      ]
     },
     "execution_count": 208,
     "metadata": {},
     "output_type": "execute_result"
    }
   ],
   "source": [
    "title_basics['titleType'].value_counts()"
   ]
  },
  {
   "cell_type": "code",
   "execution_count": 209,
   "metadata": {},
   "outputs": [
    {
     "data": {
      "text/plain": [
       "titleType\n",
       "short       990508\n",
       "movie       594497\n",
       "tvSeries    250464\n",
       "Name: count, dtype: int64"
      ]
     },
     "execution_count": 209,
     "metadata": {},
     "output_type": "execute_result"
    }
   ],
   "source": [
    "# suppression des types pas nécessaire\n",
    "title_basics = title_basics[(title_basics['titleType'] == 'short') | (title_basics['titleType'] == 'movie') |\n",
    "                            (title_basics['titleType'] == 'tvSeries')]\n",
    "title_basics['titleType'].value_counts()"
   ]
  },
  {
   "cell_type": "code",
   "execution_count": 210,
   "metadata": {},
   "outputs": [],
   "source": [
    "# films = title_basics[(title_basics['titleType'] == 'movie') | (title_basics['titleType'] == 'short')]\n",
    "# yearly_counts = films['startYear'].dt.year.value_counts().reset_index()\n",
    "# yearly_counts.columns = ['Year', 'Count']\n"
   ]
  },
  {
   "cell_type": "code",
   "execution_count": 211,
   "metadata": {},
   "outputs": [],
   "source": [
    "# import matplotlib.pyplot as plt\n",
    "# plt.figure(figsize=(15,10))\n",
    "# plt.bar(x=yearly_counts['Year'], height=yearly_counts['Count'])\n",
    "# plt.title(\"R�partition des films par p�riode de sortie\")\n",
    "# plt.show()"
   ]
  },
  {
   "cell_type": "code",
   "execution_count": 212,
   "metadata": {},
   "outputs": [
    {
     "data": {
      "image/png": "[encoded data removed]",
      "text/plain": [
       "<Figure size 640x480 with 1 Axes>"
      ]
     },
     "metadata": {},
     "output_type": "display_data"
    }
   ],
   "source": [
    "# répartition des films par types\n",
    "import matplotlib.pyplot as plt\n",
    "valeurs_uniques = title_basics['titleType'].value_counts()\n",
    "plt.pie(valeurs_uniques, labels=valeurs_uniques.index, autopct='%1.1f%%')\n",
    "plt.title(\"Répartition des films par type\")\n",
    "plt.show()"
   ]
  },
  {
   "cell_type": "code",
   "execution_count": 213,
   "metadata": {},
   "outputs": [
    {
     "data": {
      "text/plain": [
       "5"
      ]
     },
     "execution_count": 213,
     "metadata": {},
     "output_type": "execute_result"
    }
   ],
   "source": [
    "# colonnes primary et original title\n",
    "title_basics['primaryTitle'].isnull().sum()\n"
   ]
  },
  {
   "cell_type": "code",
   "execution_count": 214,
   "metadata": {},
   "outputs": [
    {
     "data": {
      "text/plain": [
       "5"
      ]
     },
     "execution_count": 214,
     "metadata": {},
     "output_type": "execute_result"
    }
   ],
   "source": [
    "title_basics['originalTitle'].isnull().sum()"
   ]
  },
  {
   "cell_type": "code",
   "execution_count": 215,
   "metadata": {},
   "outputs": [],
   "source": [
    "# colonne isadult : modifier le type de données\n",
    "title_basics['isAdult'] = title_basics['isAdult'].astype(bool)"
   ]
  },
  {
   "cell_type": "code",
   "execution_count": 216,
   "metadata": {},
   "outputs": [
    {
     "data": {
      "text/plain": [
       "59460.0"
      ]
     },
     "execution_count": 216,
     "metadata": {},
     "output_type": "execute_result"
    }
   ],
   "source": [
    "# colonne runtimeMinutes\n",
    "title_basics['runtimeMinutes'] = title_basics['runtimeMinutes'].astype(float)\n",
    "title_basics['runtimeMinutes'].max()"
   ]
  },
  {
   "cell_type": "code",
   "execution_count": 217,
   "metadata": {},
   "outputs": [
    {
     "data": {
      "text/plain": [
       "4248"
      ]
     },
     "execution_count": 217,
     "metadata": {},
     "output_type": "execute_result"
    }
   ],
   "source": [
    "# films groupes par durée\n",
    "moins_30 = title_basics[title_basics['runtimeMinutes'] < 30.0]\n",
    "moins_30.shape[0] #641022\n",
    "\n",
    "entre_30_et_80 = title_basics[(title_basics['runtimeMinutes'] >= 30.0) & (title_basics['runtimeMinutes'] <= 80.0)]\n",
    "entre_30_et_80.shape[0] #256025\n",
    "\n",
    "\n",
    "entre_80_et_180 = title_basics[(title_basics['runtimeMinutes'] > 80.0) & (title_basics['runtimeMinutes'] <= 180.0)]\n",
    "entre_80_et_180.shape[0] #281744\n",
    "\n",
    "superieur_a_180 = title_basics[(title_basics['runtimeMinutes'] > 180.0)]\n",
    "superieur_a_180.shape[0] #4238\n"
   ]
  },
  {
   "cell_type": "code",
   "execution_count": 218,
   "metadata": {},
   "outputs": [
    {
     "data": {
      "image/png": "[encoded data removed]",
      "text/plain": [
       "<Figure size 640x480 with 1 Axes>"
      ]
     },
     "metadata": {},
     "output_type": "display_data"
    }
   ],
   "source": [
    "labels = ['moins_30', 'entre_30_et_80', 'entre_80_et_180', 'superieur_a_180']\n",
    "values = [641022, 256025, 281744, 4238]\n",
    "\n",
    "plt.pie(values, labels=labels, autopct='%1.1f%%')\n",
    "plt.title(\"Répartition des films par durée\")\n",
    "plt.show()"
   ]
  },
  {
   "cell_type": "code",
   "execution_count": 219,
   "metadata": {},
   "outputs": [
    {
     "data": {
      "text/plain": [
       "240.0"
      ]
     },
     "execution_count": 219,
     "metadata": {},
     "output_type": "execute_result"
    }
   ],
   "source": [
    "# suppression des films dont la durée est supérieure à 240\n",
    "title_basics = title_basics[title_basics['runtimeMinutes'] <= 240.0]\n",
    "title_basics['runtimeMinutes'].max()"
   ]
  },
  {
   "cell_type": "code",
   "execution_count": 220,
   "metadata": {},
   "outputs": [],
   "source": [
    "title_basics = title_basics.dropna()"
   ]
  },
  {
   "cell_type": "code",
   "execution_count": 221,
   "metadata": {},
   "outputs": [
    {
     "name": "stdout",
     "output_type": "stream",
     "text": [
      "<class 'pandas.core.frame.DataFrame'>\n",
      "Index: 1155274 entries, 0 to 11268594\n",
      "Data columns (total 8 columns):\n",
      " #   Column          Non-Null Count    Dtype         \n",
      "---  ------          --------------    -----         \n",
      " 0   tconst          1155274 non-null  object        \n",
      " 1   titleType       1155274 non-null  object        \n",
      " 2   primaryTitle    1155274 non-null  object        \n",
      " 3   originalTitle   1155274 non-null  object        \n",
      " 4   isAdult         1155274 non-null  bool          \n",
      " 5   startYear       1155274 non-null  datetime64[ns]\n",
      " 6   runtimeMinutes  1155274 non-null  float64       \n",
      " 7   genres          1155274 non-null  object        \n",
      "dtypes: bool(1), datetime64[ns](1), float64(1), object(5)\n",
      "memory usage: 71.6+ MB\n"
     ]
    }
   ],
   "source": [
    "title_basics.info()"
   ]
  },
  {
   "cell_type": "code",
   "execution_count": 222,
   "metadata": {},
   "outputs": [
    {
     "data": {
      "text/plain": [
       "tconst           0\n",
       "averageRating    0\n",
       "numVotes         0\n",
       "dtype: int64"
      ]
     },
     "execution_count": 222,
     "metadata": {},
     "output_type": "execute_result"
    }
   ],
   "source": [
    "ratings = pd.read_csv('title.ratings.tsv.gz', sep='\\t', compression='gzip', na_values=(r'\\N'))\n",
    "ratings.isnull().sum()\n"
   ]
  },
  {
   "cell_type": "code",
   "execution_count": 223,
   "metadata": {},
   "outputs": [
    {
     "name": "stdout",
     "output_type": "stream",
     "text": [
      "<class 'pandas.core.frame.DataFrame'>\n",
      "RangeIndex: 478908 entries, 0 to 478907\n",
      "Data columns (total 10 columns):\n",
      " #   Column          Non-Null Count   Dtype         \n",
      "---  ------          --------------   -----         \n",
      " 0   tconst          478908 non-null  object        \n",
      " 1   titleType       478908 non-null  object        \n",
      " 2   primaryTitle    478908 non-null  object        \n",
      " 3   originalTitle   478908 non-null  object        \n",
      " 4   isAdult         478908 non-null  bool          \n",
      " 5   startYear       478908 non-null  datetime64[ns]\n",
      " 6   runtimeMinutes  478908 non-null  float64       \n",
      " 7   genres          478908 non-null  object        \n",
      " 8   averageRating   478908 non-null  float64       \n",
      " 9   numVotes        478908 non-null  int64         \n",
      "dtypes: bool(1), datetime64[ns](1), float64(2), int64(1), object(5)\n",
      "memory usage: 33.3+ MB\n"
     ]
    }
   ],
   "source": [
    "merge1 = pd.merge(title_basics, ratings, how='inner', left_on='tconst', right_on='tconst')\n",
    "merge1.info()"
   ]
  },
  {
   "cell_type": "code",
   "execution_count": 224,
   "metadata": {},
   "outputs": [
    {
     "data": {
      "text/plain": [
       "tconst             0\n",
       "directors    4048745\n",
       "writers      4709711\n",
       "dtype: int64"
      ]
     },
     "execution_count": 224,
     "metadata": {},
     "output_type": "execute_result"
    }
   ],
   "source": [
    "crew = pd.read_csv('title.crew.tsv.gz', sep='\\t', compression='gzip', na_values=(r'\\N'))\n",
    "crew.isnull().sum()\n"
   ]
  },
  {
   "cell_type": "code",
   "execution_count": 225,
   "metadata": {},
   "outputs": [
    {
     "name": "stdout",
     "output_type": "stream",
     "text": [
      "<class 'pandas.core.frame.DataFrame'>\n",
      "RangeIndex: 477718 entries, 0 to 477717\n",
      "Data columns (total 12 columns):\n",
      " #   Column          Non-Null Count   Dtype         \n",
      "---  ------          --------------   -----         \n",
      " 0   tconst          477718 non-null  object        \n",
      " 1   titleType       477718 non-null  object        \n",
      " 2   primaryTitle    477718 non-null  object        \n",
      " 3   originalTitle   477718 non-null  object        \n",
      " 4   isAdult         477718 non-null  bool          \n",
      " 5   startYear       477718 non-null  datetime64[ns]\n",
      " 6   runtimeMinutes  477718 non-null  float64       \n",
      " 7   genres          477718 non-null  object        \n",
      " 8   averageRating   477718 non-null  float64       \n",
      " 9   numVotes        477718 non-null  int64         \n",
      " 10  directors       466501 non-null  object        \n",
      " 11  writers         412253 non-null  object        \n",
      "dtypes: bool(1), datetime64[ns](1), float64(2), int64(1), object(7)\n",
      "memory usage: 40.5+ MB\n"
     ]
    }
   ],
   "source": [
    "merge2 = pd.merge(merge1, crew, how='inner', left_on='tconst', right_on='tconst')\n",
    "merge2.info()"
   ]
  },
  {
   "cell_type": "code",
   "execution_count": 226,
   "metadata": {},
   "outputs": [
    {
     "name": "stdout",
     "output_type": "stream",
     "text": [
      "<class 'pandas.core.frame.DataFrame'>\n",
      "Index: 408930 entries, 8 to 477717\n",
      "Data columns (total 12 columns):\n",
      " #   Column          Non-Null Count   Dtype         \n",
      "---  ------          --------------   -----         \n",
      " 0   tconst          408930 non-null  object        \n",
      " 1   titleType       408930 non-null  object        \n",
      " 2   primaryTitle    408930 non-null  object        \n",
      " 3   originalTitle   408930 non-null  object        \n",
      " 4   isAdult         408930 non-null  bool          \n",
      " 5   startYear       408930 non-null  datetime64[ns]\n",
      " 6   runtimeMinutes  408930 non-null  float64       \n",
      " 7   genres          408930 non-null  object        \n",
      " 8   averageRating   408930 non-null  float64       \n",
      " 9   numVotes        408930 non-null  int64         \n",
      " 10  directors       408930 non-null  object        \n",
      " 11  writers         408930 non-null  object        \n",
      "dtypes: bool(1), datetime64[ns](1), float64(2), int64(1), object(7)\n",
      "memory usage: 37.8+ MB\n"
     ]
    }
   ],
   "source": [
    "merge2 = merge2.dropna()\n",
    "merge2.info()"
   ]
  },
  {
   "cell_type": "code",
   "execution_count": 227,
   "metadata": {},
   "outputs": [
    {
     "name": "stderr",
     "output_type": "stream",
     "text": [
      "C:\\Users\\phili\\AppData\\Local\\Temp\\ipykernel_14136\\724024398.py:3: DtypeWarning: Columns (24) have mixed types. Specify dtype option on import or set low_memory=False.\n",
      "  tmdb_full = pd.read_csv('tmdb_full.csv', sep=',', na_values=(r'\\N'), on_bad_lines='skip')\n"
     ]
    }
   ],
   "source": [
    "principals = pd.read_csv('title.principals.tsv.gz', sep='\\t', compression='gzip', na_values=(r'\\N'))\n",
    "name_basics = pd.read_csv('name.basics.tsv.gz', sep='\\t', compression='gzip', na_values=(r'\\N'))\n",
    "tmdb_full = pd.read_csv('tmdb_full.csv', sep=',', na_values=(r'\\N'), on_bad_lines='skip')"
   ]
  },
  {
   "cell_type": "code",
   "execution_count": 228,
   "metadata": {},
   "outputs": [],
   "source": [
    "principals = principals.drop(['job', 'characters'], axis=1)"
   ]
  },
  {
   "cell_type": "code",
   "execution_count": 229,
   "metadata": {},
   "outputs": [
    {
     "data": {
      "text/plain": [
       "Index(['nconst', 'primaryName', 'birthYear', 'deathYear', 'primaryProfession',\n",
       "       'knownForTitles'],\n",
       "      dtype='object')"
      ]
     },
     "execution_count": 229,
     "metadata": {},
     "output_type": "execute_result"
    }
   ],
   "source": [
    "name_basics.columns"
   ]
  },
  {
   "cell_type": "code",
   "execution_count": 230,
   "metadata": {},
   "outputs": [],
   "source": [
    "name_basics = name_basics.drop(['deathYear', 'primaryProfession'], axis=1)"
   ]
  },
  {
   "cell_type": "code",
   "execution_count": 231,
   "metadata": {},
   "outputs": [],
   "source": [
    "principals_name = pd.merge(principals, name_basics, left_on='nconst', right_on='nconst')"
   ]
  },
  {
   "cell_type": "code",
   "execution_count": 232,
   "metadata": {},
   "outputs": [
    {
     "name": "stdout",
     "output_type": "stream",
     "text": [
      "<class 'pandas.core.frame.DataFrame'>\n",
      "RangeIndex: 89435188 entries, 0 to 89435187\n",
      "Data columns (total 7 columns):\n",
      " #   Column          Dtype  \n",
      "---  ------          -----  \n",
      " 0   tconst          object \n",
      " 1   ordering        int64  \n",
      " 2   nconst          object \n",
      " 3   category        object \n",
      " 4   primaryName     object \n",
      " 5   birthYear       float64\n",
      " 6   knownForTitles  object \n",
      "dtypes: float64(1), int64(1), object(5)\n",
      "memory usage: 4.7+ GB\n"
     ]
    }
   ],
   "source": [
    "principals_name.info()"
   ]
  },
  {
   "cell_type": "code",
   "execution_count": 233,
   "metadata": {},
   "outputs": [],
   "source": [
    "principals_name2 = principals_name.loc[principals_name['tconst'].isin(merge2['tconst'])]"
   ]
  },
  {
   "cell_type": "code",
   "execution_count": 234,
   "metadata": {},
   "outputs": [
    {
     "data": {
      "text/html": [
       "<div>\n",
       "<style scoped>\n",
       "    .dataframe tbody tr th:only-of-type {\n",
       "        vertical-align: middle;\n",
       "    }\n",
       "\n",
       "    .dataframe tbody tr th {\n",
       "        vertical-align: top;\n",
       "    }\n",
       "\n",
       "    .dataframe thead th {\n",
       "        text-align: right;\n",
       "    }\n",
       "</style>\n",
       "<table border=\"1\" class=\"dataframe\">\n",
       "  <thead>\n",
       "    <tr style=\"text-align: right;\">\n",
       "      <th></th>\n",
       "      <th>tconst</th>\n",
       "      <th>ordering</th>\n",
       "      <th>nconst</th>\n",
       "      <th>category</th>\n",
       "      <th>primaryName</th>\n",
       "      <th>birthYear</th>\n",
       "      <th>knownForTitles</th>\n",
       "    </tr>\n",
       "  </thead>\n",
       "  <tbody>\n",
       "    <tr>\n",
       "      <th>27</th>\n",
       "      <td>tt0000009</td>\n",
       "      <td>1</td>\n",
       "      <td>nm0063086</td>\n",
       "      <td>actress</td>\n",
       "      <td>Blanche Bayliss</td>\n",
       "      <td>1878.0</td>\n",
       "      <td>tt0000009</td>\n",
       "    </tr>\n",
       "    <tr>\n",
       "      <th>28</th>\n",
       "      <td>tt0000009</td>\n",
       "      <td>2</td>\n",
       "      <td>nm0183823</td>\n",
       "      <td>actor</td>\n",
       "      <td>William Courtenay</td>\n",
       "      <td>1875.0</td>\n",
       "      <td>tt0000009,tt0020355,tt0021535,tt0020403</td>\n",
       "    </tr>\n",
       "    <tr>\n",
       "      <th>29</th>\n",
       "      <td>tt0000009</td>\n",
       "      <td>3</td>\n",
       "      <td>nm1309758</td>\n",
       "      <td>actor</td>\n",
       "      <td>Chauncey Depew</td>\n",
       "      <td>1834.0</td>\n",
       "      <td>tt0000009,tt0490842,tt1076833,tt4484306</td>\n",
       "    </tr>\n",
       "    <tr>\n",
       "      <th>30</th>\n",
       "      <td>tt0000009</td>\n",
       "      <td>4</td>\n",
       "      <td>nm0085156</td>\n",
       "      <td>director</td>\n",
       "      <td>Alexander Black</td>\n",
       "      <td>1859.0</td>\n",
       "      <td>tt0000009</td>\n",
       "    </tr>\n",
       "    <tr>\n",
       "      <th>31</th>\n",
       "      <td>tt0000009</td>\n",
       "      <td>5</td>\n",
       "      <td>nm0085156</td>\n",
       "      <td>writer</td>\n",
       "      <td>Alexander Black</td>\n",
       "      <td>1859.0</td>\n",
       "      <td>tt0000009</td>\n",
       "    </tr>\n",
       "    <tr>\n",
       "      <th>...</th>\n",
       "      <td>...</td>\n",
       "      <td>...</td>\n",
       "      <td>...</td>\n",
       "      <td>...</td>\n",
       "      <td>...</td>\n",
       "      <td>...</td>\n",
       "      <td>...</td>\n",
       "    </tr>\n",
       "    <tr>\n",
       "      <th>89434233</th>\n",
       "      <td>tt9916730</td>\n",
       "      <td>10</td>\n",
       "      <td>nm10538612</td>\n",
       "      <td>writer</td>\n",
       "      <td>Kiran Gawade</td>\n",
       "      <td>NaN</td>\n",
       "      <td>tt9916730</td>\n",
       "    </tr>\n",
       "    <tr>\n",
       "      <th>89434234</th>\n",
       "      <td>tt9916730</td>\n",
       "      <td>11</td>\n",
       "      <td>nm10538614</td>\n",
       "      <td>producer</td>\n",
       "      <td>Ujjwala Gawde</td>\n",
       "      <td>NaN</td>\n",
       "      <td>tt9916730</td>\n",
       "    </tr>\n",
       "    <tr>\n",
       "      <th>89434235</th>\n",
       "      <td>tt9916730</td>\n",
       "      <td>12</td>\n",
       "      <td>nm10538613</td>\n",
       "      <td>producer</td>\n",
       "      <td>Abhishek Jathar</td>\n",
       "      <td>NaN</td>\n",
       "      <td>tt9916730</td>\n",
       "    </tr>\n",
       "    <tr>\n",
       "      <th>89434236</th>\n",
       "      <td>tt9916730</td>\n",
       "      <td>13</td>\n",
       "      <td>nm1957275</td>\n",
       "      <td>cinematographer</td>\n",
       "      <td>Suresh Deshmane</td>\n",
       "      <td>NaN</td>\n",
       "      <td>tt9777766,tt1414828,tt9244936,tt7818136</td>\n",
       "    </tr>\n",
       "    <tr>\n",
       "      <th>89434237</th>\n",
       "      <td>tt9916730</td>\n",
       "      <td>14</td>\n",
       "      <td>nm9785908</td>\n",
       "      <td>editor</td>\n",
       "      <td>Rohita More</td>\n",
       "      <td>NaN</td>\n",
       "      <td>tt8307356,tt24803636,tt9916730</td>\n",
       "    </tr>\n",
       "  </tbody>\n",
       "</table>\n",
       "<p>6089482 rows × 7 columns</p>\n",
       "</div>"
      ],
      "text/plain": [
       "             tconst  ordering      nconst         category        primaryName  \\\n",
       "27        tt0000009         1   nm0063086          actress    Blanche Bayliss   \n",
       "28        tt0000009         2   nm0183823            actor  William Courtenay   \n",
       "29        tt0000009         3   nm1309758            actor     Chauncey Depew   \n",
       "30        tt0000009         4   nm0085156         director    Alexander Black   \n",
       "31        tt0000009         5   nm0085156           writer    Alexander Black   \n",
       "...             ...       ...         ...              ...                ...   \n",
       "89434233  tt9916730        10  nm10538612           writer       Kiran Gawade   \n",
       "89434234  tt9916730        11  nm10538614         producer      Ujjwala Gawde   \n",
       "89434235  tt9916730        12  nm10538613         producer    Abhishek Jathar   \n",
       "89434236  tt9916730        13   nm1957275  cinematographer    Suresh Deshmane   \n",
       "89434237  tt9916730        14   nm9785908           editor        Rohita More   \n",
       "\n",
       "          birthYear                           knownForTitles  \n",
       "27           1878.0                                tt0000009  \n",
       "28           1875.0  tt0000009,tt0020355,tt0021535,tt0020403  \n",
       "29           1834.0  tt0000009,tt0490842,tt1076833,tt4484306  \n",
       "30           1859.0                                tt0000009  \n",
       "31           1859.0                                tt0000009  \n",
       "...             ...                                      ...  \n",
       "89434233        NaN                                tt9916730  \n",
       "89434234        NaN                                tt9916730  \n",
       "89434235        NaN                                tt9916730  \n",
       "89434236        NaN  tt9777766,tt1414828,tt9244936,tt7818136  \n",
       "89434237        NaN           tt8307356,tt24803636,tt9916730  \n",
       "\n",
       "[6089482 rows x 7 columns]"
      ]
     },
     "execution_count": 234,
     "metadata": {},
     "output_type": "execute_result"
    }
   ],
   "source": [
    "principals_name2"
   ]
  },
  {
   "cell_type": "code",
   "execution_count": 235,
   "metadata": {},
   "outputs": [
    {
     "data": {
      "text/plain": [
       "category\n",
       "actor                  1983385\n",
       "actress                1107200\n",
       "writer                  631926\n",
       "producer                491084\n",
       "director                399567\n",
       "editor                  370865\n",
       "cinematographer         370809\n",
       "composer                308647\n",
       "self                    182079\n",
       "production_designer     136608\n",
       "casting_director         91176\n",
       "archive_footage          15768\n",
       "archive_sound              368\n",
       "Name: count, dtype: int64"
      ]
     },
     "execution_count": 235,
     "metadata": {},
     "output_type": "execute_result"
    }
   ],
   "source": [
    "principals_name2['category'].value_counts()"
   ]
  },
  {
   "cell_type": "code",
   "execution_count": 236,
   "metadata": {},
   "outputs": [],
   "source": [
    "# merge2[merge2['titleType'] == 'tvSeries']"
   ]
  },
  {
   "cell_type": "code",
   "execution_count": 237,
   "metadata": {},
   "outputs": [
    {
     "name": "stdout",
     "output_type": "stream",
     "text": [
      "<class 'pandas.core.frame.DataFrame'>\n",
      "Index: 4122078 entries, 27 to 89434233\n",
      "Data columns (total 7 columns):\n",
      " #   Column          Dtype  \n",
      "---  ------          -----  \n",
      " 0   tconst          object \n",
      " 1   ordering        int64  \n",
      " 2   nconst          object \n",
      " 3   category        object \n",
      " 4   primaryName     object \n",
      " 5   birthYear       float64\n",
      " 6   knownForTitles  object \n",
      "dtypes: float64(1), int64(1), object(5)\n",
      "memory usage: 251.6+ MB\n"
     ]
    }
   ],
   "source": [
    "principals_names2 = principals_name2[(principals_name2['category'] == 'actor') | (principals_name2['category'] == \n",
    "                                                      'actress') | (principals_name2['category'] == 'director') | \n",
    "                                                      (principals_name2['category'] == 'writer')]\n",
    "principals_names2.info()"
   ]
  },
  {
   "cell_type": "code",
   "execution_count": 238,
   "metadata": {},
   "outputs": [
    {
     "data": {
      "text/plain": [
       "category\n",
       "actor       1983385\n",
       "actress     1107200\n",
       "writer       631926\n",
       "director     399567\n",
       "Name: count, dtype: int64"
      ]
     },
     "execution_count": 238,
     "metadata": {},
     "output_type": "execute_result"
    }
   ],
   "source": [
    "principals_names2['category'].value_counts()"
   ]
  },
  {
   "cell_type": "code",
   "execution_count": 239,
   "metadata": {},
   "outputs": [
    {
     "data": {
      "text/plain": [
       "tconst                  0\n",
       "ordering                0\n",
       "nconst                  0\n",
       "category                0\n",
       "primaryName             0\n",
       "birthYear         1930953\n",
       "knownForTitles       3034\n",
       "dtype: int64"
      ]
     },
     "execution_count": 239,
     "metadata": {},
     "output_type": "execute_result"
    }
   ],
   "source": [
    "principals_names2.isna().sum()"
   ]
  },
  {
   "cell_type": "code",
   "execution_count": 240,
   "metadata": {},
   "outputs": [
    {
     "name": "stdout",
     "output_type": "stream",
     "text": [
      "<class 'pandas.core.frame.DataFrame'>\n",
      "Index: 4122078 entries, 27 to 89434233\n",
      "Data columns (total 7 columns):\n",
      " #   Column          Dtype  \n",
      "---  ------          -----  \n",
      " 0   tconst          object \n",
      " 1   ordering        int64  \n",
      " 2   nconst          object \n",
      " 3   category        object \n",
      " 4   primaryName     object \n",
      " 5   birthYear       float64\n",
      " 6   knownForTitles  object \n",
      "dtypes: float64(1), int64(1), object(5)\n",
      "memory usage: 251.6+ MB\n"
     ]
    }
   ],
   "source": [
    "principals_names3 = principals_names2.loc[principals_names2['tconst'].isin(merge2['tconst'])]\n",
    "principals_names3.info()\n"
   ]
  },
  {
   "cell_type": "code",
   "execution_count": 241,
   "metadata": {},
   "outputs": [
    {
     "data": {
      "text/html": [
       "<div>\n",
       "<style scoped>\n",
       "    .dataframe tbody tr th:only-of-type {\n",
       "        vertical-align: middle;\n",
       "    }\n",
       "\n",
       "    .dataframe tbody tr th {\n",
       "        vertical-align: top;\n",
       "    }\n",
       "\n",
       "    .dataframe thead th {\n",
       "        text-align: right;\n",
       "    }\n",
       "</style>\n",
       "<table border=\"1\" class=\"dataframe\">\n",
       "  <thead>\n",
       "    <tr style=\"text-align: right;\">\n",
       "      <th></th>\n",
       "      <th>tconst</th>\n",
       "      <th>ordering</th>\n",
       "      <th>nconst</th>\n",
       "      <th>category</th>\n",
       "      <th>primaryName</th>\n",
       "      <th>birthYear</th>\n",
       "      <th>knownForTitles</th>\n",
       "    </tr>\n",
       "  </thead>\n",
       "  <tbody>\n",
       "    <tr>\n",
       "      <th>27</th>\n",
       "      <td>tt0000009</td>\n",
       "      <td>1</td>\n",
       "      <td>nm0063086</td>\n",
       "      <td>actress</td>\n",
       "      <td>Blanche Bayliss</td>\n",
       "      <td>1878.0</td>\n",
       "      <td>tt0000009</td>\n",
       "    </tr>\n",
       "    <tr>\n",
       "      <th>28</th>\n",
       "      <td>tt0000009</td>\n",
       "      <td>2</td>\n",
       "      <td>nm0183823</td>\n",
       "      <td>actor</td>\n",
       "      <td>William Courtenay</td>\n",
       "      <td>1875.0</td>\n",
       "      <td>tt0000009,tt0020355,tt0021535,tt0020403</td>\n",
       "    </tr>\n",
       "    <tr>\n",
       "      <th>29</th>\n",
       "      <td>tt0000009</td>\n",
       "      <td>3</td>\n",
       "      <td>nm1309758</td>\n",
       "      <td>actor</td>\n",
       "      <td>Chauncey Depew</td>\n",
       "      <td>1834.0</td>\n",
       "      <td>tt0000009,tt0490842,tt1076833,tt4484306</td>\n",
       "    </tr>\n",
       "    <tr>\n",
       "      <th>30</th>\n",
       "      <td>tt0000009</td>\n",
       "      <td>4</td>\n",
       "      <td>nm0085156</td>\n",
       "      <td>director</td>\n",
       "      <td>Alexander Black</td>\n",
       "      <td>1859.0</td>\n",
       "      <td>tt0000009</td>\n",
       "    </tr>\n",
       "    <tr>\n",
       "      <th>31</th>\n",
       "      <td>tt0000009</td>\n",
       "      <td>5</td>\n",
       "      <td>nm0085156</td>\n",
       "      <td>writer</td>\n",
       "      <td>Alexander Black</td>\n",
       "      <td>1859.0</td>\n",
       "      <td>tt0000009</td>\n",
       "    </tr>\n",
       "  </tbody>\n",
       "</table>\n",
       "</div>"
      ],
      "text/plain": [
       "       tconst  ordering     nconst  category        primaryName  birthYear  \\\n",
       "27  tt0000009         1  nm0063086   actress    Blanche Bayliss     1878.0   \n",
       "28  tt0000009         2  nm0183823     actor  William Courtenay     1875.0   \n",
       "29  tt0000009         3  nm1309758     actor     Chauncey Depew     1834.0   \n",
       "30  tt0000009         4  nm0085156  director    Alexander Black     1859.0   \n",
       "31  tt0000009         5  nm0085156    writer    Alexander Black     1859.0   \n",
       "\n",
       "                             knownForTitles  \n",
       "27                                tt0000009  \n",
       "28  tt0000009,tt0020355,tt0021535,tt0020403  \n",
       "29  tt0000009,tt0490842,tt1076833,tt4484306  \n",
       "30                                tt0000009  \n",
       "31                                tt0000009  "
      ]
     },
     "execution_count": 241,
     "metadata": {},
     "output_type": "execute_result"
    }
   ],
   "source": [
    "principals_names3.head(5)"
   ]
  },
  {
   "cell_type": "code",
   "execution_count": 242,
   "metadata": {},
   "outputs": [
    {
     "data": {
      "text/plain": [
       "(4122078, 7)"
      ]
     },
     "execution_count": 242,
     "metadata": {},
     "output_type": "execute_result"
    }
   ],
   "source": [
    "principals_names3.shape"
   ]
  },
  {
   "cell_type": "code",
   "execution_count": 243,
   "metadata": {},
   "outputs": [
    {
     "name": "stdout",
     "output_type": "stream",
     "text": [
      "<class 'pandas.core.frame.DataFrame'>\n",
      "Index: 408930 entries, 8 to 477717\n",
      "Data columns (total 12 columns):\n",
      " #   Column          Non-Null Count   Dtype         \n",
      "---  ------          --------------   -----         \n",
      " 0   tconst          408930 non-null  object        \n",
      " 1   titleType       408930 non-null  object        \n",
      " 2   primaryTitle    408930 non-null  object        \n",
      " 3   originalTitle   408930 non-null  object        \n",
      " 4   isAdult         408930 non-null  bool          \n",
      " 5   startYear       408930 non-null  datetime64[ns]\n",
      " 6   runtimeMinutes  408930 non-null  float64       \n",
      " 7   genres          408930 non-null  object        \n",
      " 8   averageRating   408930 non-null  float64       \n",
      " 9   numVotes        408930 non-null  int64         \n",
      " 10  directors       408930 non-null  object        \n",
      " 11  writers         408930 non-null  object        \n",
      "dtypes: bool(1), datetime64[ns](1), float64(2), int64(1), object(7)\n",
      "memory usage: 37.8+ MB\n"
     ]
    }
   ],
   "source": [
    "merge2.info()"
   ]
  },
  {
   "cell_type": "code",
   "execution_count": 244,
   "metadata": {},
   "outputs": [
    {
     "data": {
      "text/plain": [
       "404973"
      ]
     },
     "execution_count": 244,
     "metadata": {},
     "output_type": "execute_result"
    }
   ],
   "source": [
    "principals_names3['tconst'].nunique()"
   ]
  },
  {
   "cell_type": "code",
   "execution_count": 245,
   "metadata": {},
   "outputs": [
    {
     "data": {
      "text/plain": [
       "408930"
      ]
     },
     "execution_count": 245,
     "metadata": {},
     "output_type": "execute_result"
    }
   ],
   "source": [
    "merge2['tconst'].nunique()"
   ]
  },
  {
   "cell_type": "code",
   "execution_count": 246,
   "metadata": {},
   "outputs": [
    {
     "name": "stdout",
     "output_type": "stream",
     "text": [
      "<class 'pandas.core.frame.DataFrame'>\n",
      "Index: 404973 entries, 8 to 477717\n",
      "Data columns (total 12 columns):\n",
      " #   Column          Non-Null Count   Dtype         \n",
      "---  ------          --------------   -----         \n",
      " 0   tconst          404973 non-null  object        \n",
      " 1   titleType       404973 non-null  object        \n",
      " 2   primaryTitle    404973 non-null  object        \n",
      " 3   originalTitle   404973 non-null  object        \n",
      " 4   isAdult         404973 non-null  bool          \n",
      " 5   startYear       404973 non-null  datetime64[ns]\n",
      " 6   runtimeMinutes  404973 non-null  float64       \n",
      " 7   genres          404973 non-null  object        \n",
      " 8   averageRating   404973 non-null  float64       \n",
      " 9   numVotes        404973 non-null  int64         \n",
      " 10  directors       404973 non-null  object        \n",
      " 11  writers         404973 non-null  object        \n",
      "dtypes: bool(1), datetime64[ns](1), float64(2), int64(1), object(7)\n",
      "memory usage: 37.5+ MB\n"
     ]
    }
   ],
   "source": [
    "merge3 = merge2.loc[merge2['tconst'].isin(principals_names3['tconst'])]\n",
    "merge3.info()"
   ]
  },
  {
   "cell_type": "code",
   "execution_count": 247,
   "metadata": {},
   "outputs": [
    {
     "name": "stderr",
     "output_type": "stream",
     "text": [
      "C:\\Users\\phili\\AppData\\Local\\Temp\\ipykernel_14136\\547653943.py:1: SettingWithCopyWarning: \n",
      "A value is trying to be set on a copy of a slice from a DataFrame.\n",
      "Try using .loc[row_indexer,col_indexer] = value instead\n",
      "\n",
      "See the caveats in the documentation: https://pandas.pydata.org/pandas-docs/stable/user_guide/indexing.html#returning-a-view-versus-a-copy\n",
      "  merge3['startYear'] = pd.to_datetime(merge3['startYear'], format='%Y-%m-%d')\n"
     ]
    }
   ],
   "source": [
    "merge3['startYear'] = pd.to_datetime(merge3['startYear'], format='%Y-%m-%d')"
   ]
  },
  {
   "cell_type": "code",
   "execution_count": 248,
   "metadata": {},
   "outputs": [
    {
     "name": "stdout",
     "output_type": "stream",
     "text": [
      "<class 'pandas.core.series.Series'>\n",
      "Index: 294974 entries, 3874 to 477717\n",
      "Series name: startYear\n",
      "Non-Null Count   Dtype         \n",
      "--------------   -----         \n",
      "294974 non-null  datetime64[ns]\n",
      "dtypes: datetime64[ns](1)\n",
      "memory usage: 4.5 MB\n"
     ]
    }
   ],
   "source": [
    "merge3 = merge3[merge3['startYear'] > '1989-12-31']\n",
    "merge3['startYear'].info()"
   ]
  },
  {
   "cell_type": "code",
   "execution_count": 249,
   "metadata": {},
   "outputs": [
    {
     "data": {
      "text/plain": [
       "category\n",
       "actor       1983385\n",
       "actress     1107200\n",
       "writer       631926\n",
       "director     399567\n",
       "Name: count, dtype: int64"
      ]
     },
     "execution_count": 249,
     "metadata": {},
     "output_type": "execute_result"
    }
   ],
   "source": [
    "principals_names3['category'].value_counts()"
   ]
  },
  {
   "cell_type": "code",
   "execution_count": 250,
   "metadata": {},
   "outputs": [
    {
     "data": {
      "text/plain": [
       "Index(['budget', 'homepage', 'id', 'imdb_id', 'original_language', 'overview',\n",
       "       'popularity', 'poster_path', 'production_countries', 'revenue',\n",
       "       'spoken_languages', 'vote_average', 'vote_count',\n",
       "       'production_companies_name'],\n",
       "      dtype='object')"
      ]
     },
     "execution_count": 250,
     "metadata": {},
     "output_type": "execute_result"
    }
   ],
   "source": [
    "# colonnes à conserver : \n",
    "list(tmdb_full.columns)\n",
    "col_a_garder = ['budget', 'homepage', 'id', 'imdb_id', 'original_language', 'overview', 'popularity',\n",
    " 'poster_path', 'production_countries', 'revenue', 'spoken_languages', 'vote_average', 'vote_count',\n",
    " 'production_companies_name']\n",
    "\n",
    "tmdb2 = tmdb_full.drop(columns=['backdrop_path', 'adult', 'genres', 'original_title', 'release_date',\n",
    "       'runtime', 'status', 'tagline', 'title',\n",
    "       'video', 'production_companies_country'], axis=1)\n",
    "tmdb2.columns"
   ]
  },
  {
   "cell_type": "code",
   "execution_count": 251,
   "metadata": {},
   "outputs": [
    {
     "data": {
      "text/plain": [
       "budget                            0\n",
       "homepage                     265310\n",
       "id                                0\n",
       "imdb_id                           0\n",
       "original_language                 0\n",
       "overview                      27060\n",
       "popularity                        0\n",
       "poster_path                   45413\n",
       "production_countries              0\n",
       "revenue                           0\n",
       "spoken_languages                  0\n",
       "vote_average                      0\n",
       "vote_count                        0\n",
       "production_companies_name         0\n",
       "dtype: int64"
      ]
     },
     "execution_count": 251,
     "metadata": {},
     "output_type": "execute_result"
    }
   ],
   "source": [
    "tmdb2.isnull().sum()"
   ]
  },
  {
   "cell_type": "code",
   "execution_count": 252,
   "metadata": {},
   "outputs": [
    {
     "name": "stdout",
     "output_type": "stream",
     "text": [
      "<class 'pandas.core.frame.DataFrame'>\n",
      "RangeIndex: 125434 entries, 0 to 125433\n",
      "Data columns (total 24 columns):\n",
      " #   Column                     Non-Null Count   Dtype         \n",
      "---  ------                     --------------   -----         \n",
      " 0   tconst                     125434 non-null  object        \n",
      " 1   titleType                  125434 non-null  object        \n",
      " 2   primaryTitle               125434 non-null  object        \n",
      " 3   originalTitle              125434 non-null  object        \n",
      " 4   isAdult                    125434 non-null  bool          \n",
      " 5   startYear                  125434 non-null  datetime64[ns]\n",
      " 6   runtimeMinutes             125434 non-null  float64       \n",
      " 7   genres                     125434 non-null  object        \n",
      " 8   averageRating              125434 non-null  float64       \n",
      " 9   numVotes                   125434 non-null  int64         \n",
      " 10  directors                  125434 non-null  object        \n",
      " 11  writers                    125434 non-null  object        \n",
      " 12  budget                     125434 non-null  int64         \n",
      " 13  id                         125434 non-null  int64         \n",
      " 14  original_language          125434 non-null  object        \n",
      " 15  overview                   119578 non-null  object        \n",
      " 16  popularity                 125434 non-null  float64       \n",
      " 17  poster_path                113184 non-null  object        \n",
      " 18  production_countries       125434 non-null  object        \n",
      " 19  revenue                    125434 non-null  int64         \n",
      " 20  spoken_languages           125434 non-null  object        \n",
      " 21  vote_average               125434 non-null  float64       \n",
      " 22  vote_count                 125434 non-null  int64         \n",
      " 23  production_companies_name  125434 non-null  object        \n",
      "dtypes: bool(1), datetime64[ns](1), float64(4), int64(5), object(13)\n",
      "memory usage: 22.1+ MB\n"
     ]
    }
   ],
   "source": [
    "bdd_merge = pd.merge(merge3, tmdb2, how='inner', left_on='tconst', right_on='imdb_id')\n",
    "bdd_merge = bdd_merge.drop(columns=['imdb_id', 'homepage'], axis=1)\n",
    "bdd_merge.info()"
   ]
  },
  {
   "cell_type": "code",
   "execution_count": 253,
   "metadata": {},
   "outputs": [
    {
     "data": {
      "text/plain": [
       "0"
      ]
     },
     "execution_count": 253,
     "metadata": {},
     "output_type": "execute_result"
    }
   ],
   "source": [
    "bdd_merge['vote_average'].isnull().sum()"
   ]
  },
  {
   "cell_type": "code",
   "execution_count": 254,
   "metadata": {},
   "outputs": [],
   "source": [
    "bdd_merge2 = bdd_merge.dropna()"
   ]
  },
  {
   "cell_type": "code",
   "execution_count": 255,
   "metadata": {},
   "outputs": [
    {
     "name": "stdout",
     "output_type": "stream",
     "text": [
      "<class 'pandas.core.frame.DataFrame'>\n",
      "Index: 108541 entries, 0 to 125433\n",
      "Data columns (total 24 columns):\n",
      " #   Column                     Non-Null Count   Dtype         \n",
      "---  ------                     --------------   -----         \n",
      " 0   tconst                     108541 non-null  object        \n",
      " 1   titleType                  108541 non-null  object        \n",
      " 2   primaryTitle               108541 non-null  object        \n",
      " 3   originalTitle              108541 non-null  object        \n",
      " 4   isAdult                    108541 non-null  bool          \n",
      " 5   startYear                  108541 non-null  datetime64[ns]\n",
      " 6   runtimeMinutes             108541 non-null  float64       \n",
      " 7   genres                     108541 non-null  object        \n",
      " 8   averageRating              108541 non-null  float64       \n",
      " 9   numVotes                   108541 non-null  int64         \n",
      " 10  directors                  108541 non-null  object        \n",
      " 11  writers                    108541 non-null  object        \n",
      " 12  budget                     108541 non-null  int64         \n",
      " 13  id                         108541 non-null  int64         \n",
      " 14  original_language          108541 non-null  object        \n",
      " 15  overview                   108541 non-null  object        \n",
      " 16  popularity                 108541 non-null  float64       \n",
      " 17  poster_path                108541 non-null  object        \n",
      " 18  production_countries       108541 non-null  object        \n",
      " 19  revenue                    108541 non-null  int64         \n",
      " 20  spoken_languages           108541 non-null  object        \n",
      " 21  vote_average               108541 non-null  float64       \n",
      " 22  vote_count                 108541 non-null  int64         \n",
      " 23  production_companies_name  108541 non-null  object        \n",
      "dtypes: bool(1), datetime64[ns](1), float64(4), int64(5), object(13)\n",
      "memory usage: 20.0+ MB\n"
     ]
    }
   ],
   "source": [
    "bdd_merge2.info()"
   ]
  },
  {
   "cell_type": "code",
   "execution_count": 256,
   "metadata": {},
   "outputs": [
    {
     "data": {
      "text/plain": [
       "tconst                       0\n",
       "titleType                    0\n",
       "primaryTitle                 0\n",
       "originalTitle                0\n",
       "isAdult                      0\n",
       "startYear                    0\n",
       "runtimeMinutes               0\n",
       "genres                       0\n",
       "averageRating                0\n",
       "numVotes                     0\n",
       "directors                    0\n",
       "writers                      0\n",
       "budget                       0\n",
       "id                           0\n",
       "original_language            0\n",
       "overview                     0\n",
       "popularity                   0\n",
       "poster_path                  0\n",
       "production_countries         0\n",
       "revenue                      0\n",
       "spoken_languages             0\n",
       "vote_average                 0\n",
       "vote_count                   0\n",
       "production_companies_name    0\n",
       "dtype: int64"
      ]
     },
     "execution_count": 256,
     "metadata": {},
     "output_type": "execute_result"
    }
   ],
   "source": [
    "bdd_merge2.isnull().sum()"
   ]
  },
  {
   "cell_type": "code",
   "execution_count": 257,
   "metadata": {},
   "outputs": [
    {
     "data": {
      "text/plain": [
       "108541"
      ]
     },
     "execution_count": 257,
     "metadata": {},
     "output_type": "execute_result"
    }
   ],
   "source": [
    "principals_names3 = principals_names3.loc[principals_names3['tconst'].isin(bdd_merge2['tconst'])]\n",
    "principals_names3['tconst'].nunique()"
   ]
  },
  {
   "cell_type": "code",
   "execution_count": 258,
   "metadata": {},
   "outputs": [
    {
     "data": {
      "text/plain": [
       "category\n",
       "actor       571852\n",
       "actress     338430\n",
       "writer      190203\n",
       "director    118751\n",
       "Name: count, dtype: int64"
      ]
     },
     "execution_count": 258,
     "metadata": {},
     "output_type": "execute_result"
    }
   ],
   "source": [
    "principals_names3['category'].value_counts()"
   ]
  },
  {
   "cell_type": "code",
   "execution_count": 259,
   "metadata": {},
   "outputs": [
    {
     "data": {
      "text/plain": [
       "108541"
      ]
     },
     "execution_count": 259,
     "metadata": {},
     "output_type": "execute_result"
    }
   ],
   "source": [
    "principals_names3['tconst'].nunique()"
   ]
  },
  {
   "cell_type": "code",
   "execution_count": 260,
   "metadata": {},
   "outputs": [
    {
     "data": {
      "text/plain": [
       "108541"
      ]
     },
     "execution_count": 260,
     "metadata": {},
     "output_type": "execute_result"
    }
   ],
   "source": [
    "bdd_merge2['tconst'].nunique()"
   ]
  },
  {
   "cell_type": "code",
   "execution_count": 261,
   "metadata": {},
   "outputs": [
    {
     "data": {
      "text/html": [
       "<div>\n",
       "<style scoped>\n",
       "    .dataframe tbody tr th:only-of-type {\n",
       "        vertical-align: middle;\n",
       "    }\n",
       "\n",
       "    .dataframe tbody tr th {\n",
       "        vertical-align: top;\n",
       "    }\n",
       "\n",
       "    .dataframe thead th {\n",
       "        text-align: right;\n",
       "    }\n",
       "</style>\n",
       "<table border=\"1\" class=\"dataframe\">\n",
       "  <thead>\n",
       "    <tr style=\"text-align: right;\">\n",
       "      <th></th>\n",
       "      <th>tconst</th>\n",
       "      <th>ordering</th>\n",
       "      <th>nconst</th>\n",
       "      <th>category</th>\n",
       "      <th>primaryName</th>\n",
       "      <th>birthYear</th>\n",
       "      <th>knownForTitles</th>\n",
       "    </tr>\n",
       "  </thead>\n",
       "  <tbody>\n",
       "    <tr>\n",
       "      <th>89432984</th>\n",
       "      <td>tt9916362</td>\n",
       "      <td>9</td>\n",
       "      <td>nm3084436</td>\n",
       "      <td>actor</td>\n",
       "      <td>Asier Oruesagasti</td>\n",
       "      <td>NaN</td>\n",
       "      <td>tt0826183,tt1060244,tt2213962,tt1267497</td>\n",
       "    </tr>\n",
       "    <tr>\n",
       "      <th>89432985</th>\n",
       "      <td>tt9916362</td>\n",
       "      <td>10</td>\n",
       "      <td>nm0881986</td>\n",
       "      <td>actress</td>\n",
       "      <td>Elena Uriz</td>\n",
       "      <td>NaN</td>\n",
       "      <td>tt14230388,tt4924942,tt11892482,tt15734582</td>\n",
       "    </tr>\n",
       "    <tr>\n",
       "      <th>89432986</th>\n",
       "      <td>tt9916362</td>\n",
       "      <td>11</td>\n",
       "      <td>nm1893148</td>\n",
       "      <td>director</td>\n",
       "      <td>Pablo Agüero</td>\n",
       "      <td>1977.0</td>\n",
       "      <td>tt2953182,tt0800964,tt1403041,tt1143153</td>\n",
       "    </tr>\n",
       "    <tr>\n",
       "      <th>89432987</th>\n",
       "      <td>tt9916362</td>\n",
       "      <td>12</td>\n",
       "      <td>nm1893148</td>\n",
       "      <td>writer</td>\n",
       "      <td>Pablo Agüero</td>\n",
       "      <td>1977.0</td>\n",
       "      <td>tt2953182,tt0800964,tt1403041,tt1143153</td>\n",
       "    </tr>\n",
       "    <tr>\n",
       "      <th>89432988</th>\n",
       "      <td>tt9916362</td>\n",
       "      <td>13</td>\n",
       "      <td>nm3471432</td>\n",
       "      <td>writer</td>\n",
       "      <td>Katell Guillou</td>\n",
       "      <td>NaN</td>\n",
       "      <td>tt9916362,tt12339398,tt33254419,tt8368232</td>\n",
       "    </tr>\n",
       "  </tbody>\n",
       "</table>\n",
       "</div>"
      ],
      "text/plain": [
       "             tconst  ordering     nconst  category        primaryName  \\\n",
       "89432984  tt9916362         9  nm3084436     actor  Asier Oruesagasti   \n",
       "89432985  tt9916362        10  nm0881986   actress         Elena Uriz   \n",
       "89432986  tt9916362        11  nm1893148  director       Pablo Agüero   \n",
       "89432987  tt9916362        12  nm1893148    writer       Pablo Agüero   \n",
       "89432988  tt9916362        13  nm3471432    writer     Katell Guillou   \n",
       "\n",
       "          birthYear                              knownForTitles  \n",
       "89432984        NaN     tt0826183,tt1060244,tt2213962,tt1267497  \n",
       "89432985        NaN  tt14230388,tt4924942,tt11892482,tt15734582  \n",
       "89432986     1977.0     tt2953182,tt0800964,tt1403041,tt1143153  \n",
       "89432987     1977.0     tt2953182,tt0800964,tt1403041,tt1143153  \n",
       "89432988        NaN   tt9916362,tt12339398,tt33254419,tt8368232  "
      ]
     },
     "execution_count": 261,
     "metadata": {},
     "output_type": "execute_result"
    }
   ],
   "source": [
    "principals_names3.tail(5)"
   ]
  },
  {
   "cell_type": "code",
   "execution_count": 262,
   "metadata": {},
   "outputs": [
    {
     "data": {
      "text/html": [
       "<div>\n",
       "<style scoped>\n",
       "    .dataframe tbody tr th:only-of-type {\n",
       "        vertical-align: middle;\n",
       "    }\n",
       "\n",
       "    .dataframe tbody tr th {\n",
       "        vertical-align: top;\n",
       "    }\n",
       "\n",
       "    .dataframe thead th {\n",
       "        text-align: right;\n",
       "    }\n",
       "</style>\n",
       "<table border=\"1\" class=\"dataframe\">\n",
       "  <thead>\n",
       "    <tr style=\"text-align: right;\">\n",
       "      <th></th>\n",
       "      <th>tconst</th>\n",
       "      <th>ordering</th>\n",
       "      <th>nconst</th>\n",
       "      <th>category</th>\n",
       "      <th>primaryName</th>\n",
       "      <th>birthYear</th>\n",
       "      <th>knownForTitles</th>\n",
       "    </tr>\n",
       "  </thead>\n",
       "  <tbody>\n",
       "    <tr>\n",
       "      <th>146987</th>\n",
       "      <td>tt0015724</td>\n",
       "      <td>1</td>\n",
       "      <td>nm0844752</td>\n",
       "      <td>actor</td>\n",
       "      <td>Rafael Sánchez Navarro</td>\n",
       "      <td>NaN</td>\n",
       "      <td>tt0247969,tt0154984,tt0222593,tt2784826</td>\n",
       "    </tr>\n",
       "    <tr>\n",
       "      <th>146988</th>\n",
       "      <td>tt0015724</td>\n",
       "      <td>2</td>\n",
       "      <td>nm0869732</td>\n",
       "      <td>actress</td>\n",
       "      <td>Cecilia Toussaint</td>\n",
       "      <td>1958.0</td>\n",
       "      <td>tt3980946,tt7314988,tt0245641,tt0352599</td>\n",
       "    </tr>\n",
       "    <tr>\n",
       "      <th>146989</th>\n",
       "      <td>tt0015724</td>\n",
       "      <td>3</td>\n",
       "      <td>nm0194720</td>\n",
       "      <td>actor</td>\n",
       "      <td>Miguel Córcega</td>\n",
       "      <td>1929.0</td>\n",
       "      <td>tt0233092,tt0212641,tt0213339,tt0210426</td>\n",
       "    </tr>\n",
       "  </tbody>\n",
       "</table>\n",
       "</div>"
      ],
      "text/plain": [
       "           tconst  ordering     nconst category             primaryName  \\\n",
       "146987  tt0015724         1  nm0844752    actor  Rafael Sánchez Navarro   \n",
       "146988  tt0015724         2  nm0869732  actress       Cecilia Toussaint   \n",
       "146989  tt0015724         3  nm0194720    actor          Miguel Córcega   \n",
       "\n",
       "        birthYear                           knownForTitles  \n",
       "146987        NaN  tt0247969,tt0154984,tt0222593,tt2784826  \n",
       "146988     1958.0  tt3980946,tt7314988,tt0245641,tt0352599  \n",
       "146989     1929.0  tt0233092,tt0212641,tt0213339,tt0210426  "
      ]
     },
     "execution_count": 262,
     "metadata": {},
     "output_type": "execute_result"
    }
   ],
   "source": [
    "actors = principals_names3[(principals_names3['category'] == 'actor') | (principals_names3['category'] == 'actress')]\n",
    "actors.head(3)"
   ]
  },
  {
   "cell_type": "code",
   "execution_count": 263,
   "metadata": {},
   "outputs": [
    {
     "data": {
      "text/html": [
       "<div>\n",
       "<style scoped>\n",
       "    .dataframe tbody tr th:only-of-type {\n",
       "        vertical-align: middle;\n",
       "    }\n",
       "\n",
       "    .dataframe tbody tr th {\n",
       "        vertical-align: top;\n",
       "    }\n",
       "\n",
       "    .dataframe thead th {\n",
       "        text-align: right;\n",
       "    }\n",
       "</style>\n",
       "<table border=\"1\" class=\"dataframe\">\n",
       "  <thead>\n",
       "    <tr style=\"text-align: right;\">\n",
       "      <th></th>\n",
       "      <th>tconst</th>\n",
       "      <th>primaryName</th>\n",
       "    </tr>\n",
       "  </thead>\n",
       "  <tbody>\n",
       "    <tr>\n",
       "      <th>0</th>\n",
       "      <td>tt0015724</td>\n",
       "      <td>[Rafael Sánchez Navarro, Cecilia Toussaint, Mi...</td>\n",
       "    </tr>\n",
       "    <tr>\n",
       "      <th>1</th>\n",
       "      <td>tt0035423</td>\n",
       "      <td>[Meg Ryan, Hugh Jackman, Liev Schreiber, Breck...</td>\n",
       "    </tr>\n",
       "    <tr>\n",
       "      <th>2</th>\n",
       "      <td>tt0040844</td>\n",
       "      <td>[Edward D. Wood Jr., Duke Moore, Don Nagel, Ru...</td>\n",
       "    </tr>\n",
       "    <tr>\n",
       "      <th>3</th>\n",
       "      <td>tt0050396</td>\n",
       "      <td>[Duke Moore, Dudley Manlove, Jeannie Stevens]</td>\n",
       "    </tr>\n",
       "    <tr>\n",
       "      <th>4</th>\n",
       "      <td>tt0059097</td>\n",
       "      <td>[Peter Reusse, Anne-Kathrein Kretzschmar, Hans...</td>\n",
       "    </tr>\n",
       "    <tr>\n",
       "      <th>...</th>\n",
       "      <td>...</td>\n",
       "      <td>...</td>\n",
       "    </tr>\n",
       "    <tr>\n",
       "      <th>100640</th>\n",
       "      <td>tt9914766</td>\n",
       "      <td>[Inês Sá Frias, Salvador Nery]</td>\n",
       "    </tr>\n",
       "    <tr>\n",
       "      <th>100641</th>\n",
       "      <td>tt9914942</td>\n",
       "      <td>[Biel Rossell, Maria Morera, Francesca Piñón, ...</td>\n",
       "    </tr>\n",
       "    <tr>\n",
       "      <th>100642</th>\n",
       "      <td>tt9916190</td>\n",
       "      <td>[Patrick Gallagher, Akie Kotabe, Takayuki Suzu...</td>\n",
       "    </tr>\n",
       "    <tr>\n",
       "      <th>100643</th>\n",
       "      <td>tt9916270</td>\n",
       "      <td>[Sergio Castellitto, Lorenzo Richelmy, Anna Fo...</td>\n",
       "    </tr>\n",
       "    <tr>\n",
       "      <th>100644</th>\n",
       "      <td>tt9916362</td>\n",
       "      <td>[Amaia Aberasturi, Alex Brendemühl, Daniel Fan...</td>\n",
       "    </tr>\n",
       "  </tbody>\n",
       "</table>\n",
       "<p>100645 rows × 2 columns</p>\n",
       "</div>"
      ],
      "text/plain": [
       "           tconst                                        primaryName\n",
       "0       tt0015724  [Rafael Sánchez Navarro, Cecilia Toussaint, Mi...\n",
       "1       tt0035423  [Meg Ryan, Hugh Jackman, Liev Schreiber, Breck...\n",
       "2       tt0040844  [Edward D. Wood Jr., Duke Moore, Don Nagel, Ru...\n",
       "3       tt0050396      [Duke Moore, Dudley Manlove, Jeannie Stevens]\n",
       "4       tt0059097  [Peter Reusse, Anne-Kathrein Kretzschmar, Hans...\n",
       "...           ...                                                ...\n",
       "100640  tt9914766                     [Inês Sá Frias, Salvador Nery]\n",
       "100641  tt9914942  [Biel Rossell, Maria Morera, Francesca Piñón, ...\n",
       "100642  tt9916190  [Patrick Gallagher, Akie Kotabe, Takayuki Suzu...\n",
       "100643  tt9916270  [Sergio Castellitto, Lorenzo Richelmy, Anna Fo...\n",
       "100644  tt9916362  [Amaia Aberasturi, Alex Brendemühl, Daniel Fan...\n",
       "\n",
       "[100645 rows x 2 columns]"
      ]
     },
     "execution_count": 263,
     "metadata": {},
     "output_type": "execute_result"
    }
   ],
   "source": [
    "actors_name = actors.groupby('tconst')['primaryName'].apply(list).reset_index()\n",
    "actors_name"
   ]
  },
  {
   "cell_type": "code",
   "execution_count": 264,
   "metadata": {},
   "outputs": [
    {
     "data": {
      "text/html": [
       "<div>\n",
       "<style scoped>\n",
       "    .dataframe tbody tr th:only-of-type {\n",
       "        vertical-align: middle;\n",
       "    }\n",
       "\n",
       "    .dataframe tbody tr th {\n",
       "        vertical-align: top;\n",
       "    }\n",
       "\n",
       "    .dataframe thead th {\n",
       "        text-align: right;\n",
       "    }\n",
       "</style>\n",
       "<table border=\"1\" class=\"dataframe\">\n",
       "  <thead>\n",
       "    <tr style=\"text-align: right;\">\n",
       "      <th></th>\n",
       "      <th>tconst</th>\n",
       "      <th>ordering</th>\n",
       "      <th>nconst</th>\n",
       "      <th>category</th>\n",
       "      <th>primaryName</th>\n",
       "      <th>birthYear</th>\n",
       "      <th>knownForTitles</th>\n",
       "    </tr>\n",
       "  </thead>\n",
       "  <tbody>\n",
       "    <tr>\n",
       "      <th>146987</th>\n",
       "      <td>tt0015724</td>\n",
       "      <td>1</td>\n",
       "      <td>nm0844752</td>\n",
       "      <td>actor</td>\n",
       "      <td>Rafael Sánchez Navarro</td>\n",
       "      <td>NaN</td>\n",
       "      <td>tt0247969,tt0154984,tt0222593,tt2784826</td>\n",
       "    </tr>\n",
       "    <tr>\n",
       "      <th>146988</th>\n",
       "      <td>tt0015724</td>\n",
       "      <td>2</td>\n",
       "      <td>nm0869732</td>\n",
       "      <td>actress</td>\n",
       "      <td>Cecilia Toussaint</td>\n",
       "      <td>1958.0</td>\n",
       "      <td>tt3980946,tt7314988,tt0245641,tt0352599</td>\n",
       "    </tr>\n",
       "    <tr>\n",
       "      <th>146989</th>\n",
       "      <td>tt0015724</td>\n",
       "      <td>3</td>\n",
       "      <td>nm0194720</td>\n",
       "      <td>actor</td>\n",
       "      <td>Miguel Córcega</td>\n",
       "      <td>1929.0</td>\n",
       "      <td>tt0233092,tt0212641,tt0213339,tt0210426</td>\n",
       "    </tr>\n",
       "    <tr>\n",
       "      <th>146990</th>\n",
       "      <td>tt0015724</td>\n",
       "      <td>4</td>\n",
       "      <td>nm0650495</td>\n",
       "      <td>actress</td>\n",
       "      <td>Regina Orozco</td>\n",
       "      <td>1964.0</td>\n",
       "      <td>tt0117394,tt1567609,tt0015724,tt0110590</td>\n",
       "    </tr>\n",
       "    <tr>\n",
       "      <th>146991</th>\n",
       "      <td>tt0015724</td>\n",
       "      <td>5</td>\n",
       "      <td>nm0941279</td>\n",
       "      <td>actor</td>\n",
       "      <td>Abel Woolrich</td>\n",
       "      <td>NaN</td>\n",
       "      <td>tt0120746,tt0129332,tt0472043,tt0091557</td>\n",
       "    </tr>\n",
       "    <tr>\n",
       "      <th>146992</th>\n",
       "      <td>tt0015724</td>\n",
       "      <td>6</td>\n",
       "      <td>nm0761055</td>\n",
       "      <td>actor</td>\n",
       "      <td>Salvador Sánchez</td>\n",
       "      <td>1943.0</td>\n",
       "      <td>tt0421401,tt0233469,tt0213342,tt0236493</td>\n",
       "    </tr>\n",
       "    <tr>\n",
       "      <th>146993</th>\n",
       "      <td>tt0015724</td>\n",
       "      <td>7</td>\n",
       "      <td>nm0670427</td>\n",
       "      <td>actor</td>\n",
       "      <td>Boris Peguero</td>\n",
       "      <td>NaN</td>\n",
       "      <td>tt0015724,tt2803220,tt34259431,tt0109437</td>\n",
       "    </tr>\n",
       "    <tr>\n",
       "      <th>146994</th>\n",
       "      <td>tt0015724</td>\n",
       "      <td>8</td>\n",
       "      <td>nm0190923</td>\n",
       "      <td>actor</td>\n",
       "      <td>Daniel Cubillo</td>\n",
       "      <td>NaN</td>\n",
       "      <td>tt0283004,tt0455753,tt0015724,tt0285599</td>\n",
       "    </tr>\n",
       "    <tr>\n",
       "      <th>146995</th>\n",
       "      <td>tt0015724</td>\n",
       "      <td>9</td>\n",
       "      <td>nm0673414</td>\n",
       "      <td>actor</td>\n",
       "      <td>Rene Pereyra</td>\n",
       "      <td>NaN</td>\n",
       "      <td>tt0181865,tt0247196,tt2376336,tt0222868</td>\n",
       "    </tr>\n",
       "    <tr>\n",
       "      <th>146996</th>\n",
       "      <td>tt0015724</td>\n",
       "      <td>10</td>\n",
       "      <td>nm0144514</td>\n",
       "      <td>actor</td>\n",
       "      <td>Óscar Castañeda</td>\n",
       "      <td>NaN</td>\n",
       "      <td>tt0186734,tt0159930,tt0117394,tt0163561</td>\n",
       "    </tr>\n",
       "  </tbody>\n",
       "</table>\n",
       "</div>"
      ],
      "text/plain": [
       "           tconst  ordering     nconst category             primaryName  \\\n",
       "146987  tt0015724         1  nm0844752    actor  Rafael Sánchez Navarro   \n",
       "146988  tt0015724         2  nm0869732  actress       Cecilia Toussaint   \n",
       "146989  tt0015724         3  nm0194720    actor          Miguel Córcega   \n",
       "146990  tt0015724         4  nm0650495  actress           Regina Orozco   \n",
       "146991  tt0015724         5  nm0941279    actor           Abel Woolrich   \n",
       "146992  tt0015724         6  nm0761055    actor        Salvador Sánchez   \n",
       "146993  tt0015724         7  nm0670427    actor           Boris Peguero   \n",
       "146994  tt0015724         8  nm0190923    actor          Daniel Cubillo   \n",
       "146995  tt0015724         9  nm0673414    actor            Rene Pereyra   \n",
       "146996  tt0015724        10  nm0144514    actor         Óscar Castañeda   \n",
       "\n",
       "        birthYear                            knownForTitles  \n",
       "146987        NaN   tt0247969,tt0154984,tt0222593,tt2784826  \n",
       "146988     1958.0   tt3980946,tt7314988,tt0245641,tt0352599  \n",
       "146989     1929.0   tt0233092,tt0212641,tt0213339,tt0210426  \n",
       "146990     1964.0   tt0117394,tt1567609,tt0015724,tt0110590  \n",
       "146991        NaN   tt0120746,tt0129332,tt0472043,tt0091557  \n",
       "146992     1943.0   tt0421401,tt0233469,tt0213342,tt0236493  \n",
       "146993        NaN  tt0015724,tt2803220,tt34259431,tt0109437  \n",
       "146994        NaN   tt0283004,tt0455753,tt0015724,tt0285599  \n",
       "146995        NaN   tt0181865,tt0247196,tt2376336,tt0222868  \n",
       "146996        NaN   tt0186734,tt0159930,tt0117394,tt0163561  "
      ]
     },
     "execution_count": 264,
     "metadata": {},
     "output_type": "execute_result"
    }
   ],
   "source": [
    "actors[actors['tconst'] == 'tt0015724']"
   ]
  },
  {
   "cell_type": "code",
   "execution_count": 265,
   "metadata": {},
   "outputs": [
    {
     "data": {
      "text/html": [
       "<div>\n",
       "<style scoped>\n",
       "    .dataframe tbody tr th:only-of-type {\n",
       "        vertical-align: middle;\n",
       "    }\n",
       "\n",
       "    .dataframe tbody tr th {\n",
       "        vertical-align: top;\n",
       "    }\n",
       "\n",
       "    .dataframe thead th {\n",
       "        text-align: right;\n",
       "    }\n",
       "</style>\n",
       "<table border=\"1\" class=\"dataframe\">\n",
       "  <thead>\n",
       "    <tr style=\"text-align: right;\">\n",
       "      <th></th>\n",
       "      <th>tconst</th>\n",
       "      <th>ordering</th>\n",
       "    </tr>\n",
       "  </thead>\n",
       "  <tbody>\n",
       "    <tr>\n",
       "      <th>0</th>\n",
       "      <td>tt0015724</td>\n",
       "      <td>[1, 2, 3, 4, 5, 6, 7, 8, 9, 10]</td>\n",
       "    </tr>\n",
       "    <tr>\n",
       "      <th>1</th>\n",
       "      <td>tt0035423</td>\n",
       "      <td>[1, 2, 3, 4, 5, 6, 7, 8, 9, 10]</td>\n",
       "    </tr>\n",
       "    <tr>\n",
       "      <th>2</th>\n",
       "      <td>tt0040844</td>\n",
       "      <td>[1, 2, 3, 4, 5, 6, 7, 8, 9, 10]</td>\n",
       "    </tr>\n",
       "    <tr>\n",
       "      <th>3</th>\n",
       "      <td>tt0050396</td>\n",
       "      <td>[1, 2, 3]</td>\n",
       "    </tr>\n",
       "    <tr>\n",
       "      <th>4</th>\n",
       "      <td>tt0059097</td>\n",
       "      <td>[1, 2, 3, 4, 5, 6, 7, 8, 9, 10]</td>\n",
       "    </tr>\n",
       "    <tr>\n",
       "      <th>...</th>\n",
       "      <td>...</td>\n",
       "      <td>...</td>\n",
       "    </tr>\n",
       "    <tr>\n",
       "      <th>100640</th>\n",
       "      <td>tt9914766</td>\n",
       "      <td>[1, 2]</td>\n",
       "    </tr>\n",
       "    <tr>\n",
       "      <th>100641</th>\n",
       "      <td>tt9914942</td>\n",
       "      <td>[1, 2, 3, 4, 5, 6, 7, 8, 9, 10]</td>\n",
       "    </tr>\n",
       "    <tr>\n",
       "      <th>100642</th>\n",
       "      <td>tt9916190</td>\n",
       "      <td>[1, 2, 3, 4, 5, 6, 7, 8, 9, 10]</td>\n",
       "    </tr>\n",
       "    <tr>\n",
       "      <th>100643</th>\n",
       "      <td>tt9916270</td>\n",
       "      <td>[1, 2, 3, 4, 5, 6, 7, 8, 9, 10]</td>\n",
       "    </tr>\n",
       "    <tr>\n",
       "      <th>100644</th>\n",
       "      <td>tt9916362</td>\n",
       "      <td>[1, 2, 3, 4, 5, 6, 7, 8, 9, 10]</td>\n",
       "    </tr>\n",
       "  </tbody>\n",
       "</table>\n",
       "<p>100645 rows × 2 columns</p>\n",
       "</div>"
      ],
      "text/plain": [
       "           tconst                         ordering\n",
       "0       tt0015724  [1, 2, 3, 4, 5, 6, 7, 8, 9, 10]\n",
       "1       tt0035423  [1, 2, 3, 4, 5, 6, 7, 8, 9, 10]\n",
       "2       tt0040844  [1, 2, 3, 4, 5, 6, 7, 8, 9, 10]\n",
       "3       tt0050396                        [1, 2, 3]\n",
       "4       tt0059097  [1, 2, 3, 4, 5, 6, 7, 8, 9, 10]\n",
       "...           ...                              ...\n",
       "100640  tt9914766                           [1, 2]\n",
       "100641  tt9914942  [1, 2, 3, 4, 5, 6, 7, 8, 9, 10]\n",
       "100642  tt9916190  [1, 2, 3, 4, 5, 6, 7, 8, 9, 10]\n",
       "100643  tt9916270  [1, 2, 3, 4, 5, 6, 7, 8, 9, 10]\n",
       "100644  tt9916362  [1, 2, 3, 4, 5, 6, 7, 8, 9, 10]\n",
       "\n",
       "[100645 rows x 2 columns]"
      ]
     },
     "execution_count": 265,
     "metadata": {},
     "output_type": "execute_result"
    }
   ],
   "source": [
    "actors_order = actors.groupby('tconst')['ordering'].apply(list).reset_index()\n",
    "actors_order"
   ]
  },
  {
   "cell_type": "code",
   "execution_count": 266,
   "metadata": {},
   "outputs": [
    {
     "data": {
      "text/html": [
       "<div>\n",
       "<style scoped>\n",
       "    .dataframe tbody tr th:only-of-type {\n",
       "        vertical-align: middle;\n",
       "    }\n",
       "\n",
       "    .dataframe tbody tr th {\n",
       "        vertical-align: top;\n",
       "    }\n",
       "\n",
       "    .dataframe thead th {\n",
       "        text-align: right;\n",
       "    }\n",
       "</style>\n",
       "<table border=\"1\" class=\"dataframe\">\n",
       "  <thead>\n",
       "    <tr style=\"text-align: right;\">\n",
       "      <th></th>\n",
       "      <th>tconst</th>\n",
       "      <th>primaryName</th>\n",
       "      <th>ordering</th>\n",
       "    </tr>\n",
       "  </thead>\n",
       "  <tbody>\n",
       "    <tr>\n",
       "      <th>0</th>\n",
       "      <td>tt0015724</td>\n",
       "      <td>[Rafael Sánchez Navarro, Cecilia Toussaint, Mi...</td>\n",
       "      <td>[1, 2, 3, 4, 5, 6, 7, 8, 9, 10]</td>\n",
       "    </tr>\n",
       "    <tr>\n",
       "      <th>1</th>\n",
       "      <td>tt0035423</td>\n",
       "      <td>[Meg Ryan, Hugh Jackman, Liev Schreiber, Breck...</td>\n",
       "      <td>[1, 2, 3, 4, 5, 6, 7, 8, 9, 10]</td>\n",
       "    </tr>\n",
       "    <tr>\n",
       "      <th>2</th>\n",
       "      <td>tt0040844</td>\n",
       "      <td>[Edward D. Wood Jr., Duke Moore, Don Nagel, Ru...</td>\n",
       "      <td>[1, 2, 3, 4, 5, 6, 7, 8, 9, 10]</td>\n",
       "    </tr>\n",
       "  </tbody>\n",
       "</table>\n",
       "</div>"
      ],
      "text/plain": [
       "      tconst                                        primaryName  \\\n",
       "0  tt0015724  [Rafael Sánchez Navarro, Cecilia Toussaint, Mi...   \n",
       "1  tt0035423  [Meg Ryan, Hugh Jackman, Liev Schreiber, Breck...   \n",
       "2  tt0040844  [Edward D. Wood Jr., Duke Moore, Don Nagel, Ru...   \n",
       "\n",
       "                          ordering  \n",
       "0  [1, 2, 3, 4, 5, 6, 7, 8, 9, 10]  \n",
       "1  [1, 2, 3, 4, 5, 6, 7, 8, 9, 10]  \n",
       "2  [1, 2, 3, 4, 5, 6, 7, 8, 9, 10]  "
      ]
     },
     "execution_count": 266,
     "metadata": {},
     "output_type": "execute_result"
    }
   ],
   "source": [
    "actors2 = actors_name.merge(actors_order, on='tconst', how='left')\n",
    "actors2.head(3)"
   ]
  },
  {
   "cell_type": "code",
   "execution_count": 267,
   "metadata": {},
   "outputs": [
    {
     "data": {
      "text/html": [
       "<div>\n",
       "<style scoped>\n",
       "    .dataframe tbody tr th:only-of-type {\n",
       "        vertical-align: middle;\n",
       "    }\n",
       "\n",
       "    .dataframe tbody tr th {\n",
       "        vertical-align: top;\n",
       "    }\n",
       "\n",
       "    .dataframe thead th {\n",
       "        text-align: right;\n",
       "    }\n",
       "</style>\n",
       "<table border=\"1\" class=\"dataframe\">\n",
       "  <thead>\n",
       "    <tr style=\"text-align: right;\">\n",
       "      <th></th>\n",
       "      <th>tconst</th>\n",
       "      <th>titleType</th>\n",
       "      <th>primaryTitle</th>\n",
       "      <th>originalTitle</th>\n",
       "      <th>isAdult</th>\n",
       "      <th>startYear</th>\n",
       "      <th>runtimeMinutes</th>\n",
       "      <th>genres</th>\n",
       "      <th>averageRating</th>\n",
       "      <th>numVotes</th>\n",
       "      <th>...</th>\n",
       "      <th>popularity</th>\n",
       "      <th>poster_path</th>\n",
       "      <th>production_countries</th>\n",
       "      <th>revenue</th>\n",
       "      <th>spoken_languages</th>\n",
       "      <th>vote_average</th>\n",
       "      <th>vote_count</th>\n",
       "      <th>production_companies_name</th>\n",
       "      <th>primaryName</th>\n",
       "      <th>ordering</th>\n",
       "    </tr>\n",
       "  </thead>\n",
       "  <tbody>\n",
       "    <tr>\n",
       "      <th>0</th>\n",
       "      <td>tt0015724</td>\n",
       "      <td>movie</td>\n",
       "      <td>Dama de noche</td>\n",
       "      <td>Dama de noche</td>\n",
       "      <td>False</td>\n",
       "      <td>1993-01-01</td>\n",
       "      <td>102.0</td>\n",
       "      <td>Drama,Mystery,Romance</td>\n",
       "      <td>6.3</td>\n",
       "      <td>31</td>\n",
       "      <td>...</td>\n",
       "      <td>0.833</td>\n",
       "      <td>/zCmyAl7VG6aZJqWZ7PFfj9e6ToU.jpg</td>\n",
       "      <td>['MX']</td>\n",
       "      <td>0</td>\n",
       "      <td>[]</td>\n",
       "      <td>7.000</td>\n",
       "      <td>6</td>\n",
       "      <td>['Centro de Capacitación Cinematográfica (CCC)']</td>\n",
       "      <td>[Rafael Sánchez Navarro, Cecilia Toussaint, Mi...</td>\n",
       "      <td>[1, 2, 3, 4, 5, 6, 7, 8, 9, 10]</td>\n",
       "    </tr>\n",
       "    <tr>\n",
       "      <th>1</th>\n",
       "      <td>tt0035423</td>\n",
       "      <td>movie</td>\n",
       "      <td>Kate &amp; Leopold</td>\n",
       "      <td>Kate &amp; Leopold</td>\n",
       "      <td>False</td>\n",
       "      <td>2001-01-01</td>\n",
       "      <td>118.0</td>\n",
       "      <td>Comedy,Fantasy,Romance</td>\n",
       "      <td>6.4</td>\n",
       "      <td>90646</td>\n",
       "      <td>...</td>\n",
       "      <td>15.770</td>\n",
       "      <td>/mUvikzKJJSg9khrVdxK8kg3TMHA.jpg</td>\n",
       "      <td>['US']</td>\n",
       "      <td>76019048</td>\n",
       "      <td>['en', 'fr', 'it']</td>\n",
       "      <td>6.326</td>\n",
       "      <td>1187</td>\n",
       "      <td>['Konrad Pictures', 'Miramax']</td>\n",
       "      <td>[Meg Ryan, Hugh Jackman, Liev Schreiber, Breck...</td>\n",
       "      <td>[1, 2, 3, 4, 5, 6, 7, 8, 9, 10]</td>\n",
       "    </tr>\n",
       "    <tr>\n",
       "      <th>2</th>\n",
       "      <td>tt0040844</td>\n",
       "      <td>short</td>\n",
       "      <td>Crossroads of Laredo</td>\n",
       "      <td>Crossroads of Laredo</td>\n",
       "      <td>False</td>\n",
       "      <td>1995-01-01</td>\n",
       "      <td>30.0</td>\n",
       "      <td>Short,Western</td>\n",
       "      <td>3.4</td>\n",
       "      <td>199</td>\n",
       "      <td>...</td>\n",
       "      <td>0.600</td>\n",
       "      <td>/atrGjxMSp6y4jvs7nojUrlsGFUb.jpg</td>\n",
       "      <td>[]</td>\n",
       "      <td>0</td>\n",
       "      <td>[]</td>\n",
       "      <td>2.800</td>\n",
       "      <td>5</td>\n",
       "      <td>['Wood-Thomas Pictures']</td>\n",
       "      <td>[Edward D. Wood Jr., Duke Moore, Don Nagel, Ru...</td>\n",
       "      <td>[1, 2, 3, 4, 5, 6, 7, 8, 9, 10]</td>\n",
       "    </tr>\n",
       "  </tbody>\n",
       "</table>\n",
       "<p>3 rows × 26 columns</p>\n",
       "</div>"
      ],
      "text/plain": [
       "      tconst titleType          primaryTitle         originalTitle  isAdult  \\\n",
       "0  tt0015724     movie         Dama de noche         Dama de noche    False   \n",
       "1  tt0035423     movie        Kate & Leopold        Kate & Leopold    False   \n",
       "2  tt0040844     short  Crossroads of Laredo  Crossroads of Laredo    False   \n",
       "\n",
       "   startYear  runtimeMinutes                  genres  averageRating  numVotes  \\\n",
       "0 1993-01-01           102.0   Drama,Mystery,Romance            6.3        31   \n",
       "1 2001-01-01           118.0  Comedy,Fantasy,Romance            6.4     90646   \n",
       "2 1995-01-01            30.0           Short,Western            3.4       199   \n",
       "\n",
       "   ... popularity                       poster_path  production_countries  \\\n",
       "0  ...      0.833  /zCmyAl7VG6aZJqWZ7PFfj9e6ToU.jpg                ['MX']   \n",
       "1  ...     15.770  /mUvikzKJJSg9khrVdxK8kg3TMHA.jpg                ['US']   \n",
       "2  ...      0.600  /atrGjxMSp6y4jvs7nojUrlsGFUb.jpg                    []   \n",
       "\n",
       "    revenue    spoken_languages vote_average  vote_count  \\\n",
       "0         0                  []        7.000           6   \n",
       "1  76019048  ['en', 'fr', 'it']        6.326        1187   \n",
       "2         0                  []        2.800           5   \n",
       "\n",
       "                          production_companies_name  \\\n",
       "0  ['Centro de Capacitación Cinematográfica (CCC)']   \n",
       "1                    ['Konrad Pictures', 'Miramax']   \n",
       "2                          ['Wood-Thomas Pictures']   \n",
       "\n",
       "                                         primaryName  \\\n",
       "0  [Rafael Sánchez Navarro, Cecilia Toussaint, Mi...   \n",
       "1  [Meg Ryan, Hugh Jackman, Liev Schreiber, Breck...   \n",
       "2  [Edward D. Wood Jr., Duke Moore, Don Nagel, Ru...   \n",
       "\n",
       "                          ordering  \n",
       "0  [1, 2, 3, 4, 5, 6, 7, 8, 9, 10]  \n",
       "1  [1, 2, 3, 4, 5, 6, 7, 8, 9, 10]  \n",
       "2  [1, 2, 3, 4, 5, 6, 7, 8, 9, 10]  \n",
       "\n",
       "[3 rows x 26 columns]"
      ]
     },
     "execution_count": 267,
     "metadata": {},
     "output_type": "execute_result"
    }
   ],
   "source": [
    "movies_w_actors = bdd_merge2.merge(actors2, on='tconst', how='left')\n",
    "movies_w_actors.head(3)"
   ]
  },
  {
   "cell_type": "code",
   "execution_count": 268,
   "metadata": {},
   "outputs": [
    {
     "data": {
      "text/html": [
       "<div>\n",
       "<style scoped>\n",
       "    .dataframe tbody tr th:only-of-type {\n",
       "        vertical-align: middle;\n",
       "    }\n",
       "\n",
       "    .dataframe tbody tr th {\n",
       "        vertical-align: top;\n",
       "    }\n",
       "\n",
       "    .dataframe thead th {\n",
       "        text-align: right;\n",
       "    }\n",
       "</style>\n",
       "<table border=\"1\" class=\"dataframe\">\n",
       "  <thead>\n",
       "    <tr style=\"text-align: right;\">\n",
       "      <th></th>\n",
       "      <th>tconst</th>\n",
       "      <th>ordering</th>\n",
       "      <th>nconst</th>\n",
       "      <th>category</th>\n",
       "      <th>primaryName</th>\n",
       "      <th>birthYear</th>\n",
       "      <th>knownForTitles</th>\n",
       "    </tr>\n",
       "  </thead>\n",
       "  <tbody>\n",
       "    <tr>\n",
       "      <th>146997</th>\n",
       "      <td>tt0015724</td>\n",
       "      <td>11</td>\n",
       "      <td>nm0529960</td>\n",
       "      <td>director</td>\n",
       "      <td>Eva López Sánchez</td>\n",
       "      <td>1954.0</td>\n",
       "      <td>tt0151790,tt0314085,tt0015724,tt1139666</td>\n",
       "    </tr>\n",
       "    <tr>\n",
       "      <th>418485</th>\n",
       "      <td>tt0035423</td>\n",
       "      <td>11</td>\n",
       "      <td>nm0003506</td>\n",
       "      <td>director</td>\n",
       "      <td>James Mangold</td>\n",
       "      <td>1963.0</td>\n",
       "      <td>tt3315342,tt1950186,tt0358273,tt1462764</td>\n",
       "    </tr>\n",
       "    <tr>\n",
       "      <th>499455</th>\n",
       "      <td>tt0040844</td>\n",
       "      <td>11</td>\n",
       "      <td>nm0000248</td>\n",
       "      <td>director</td>\n",
       "      <td>Edward D. Wood Jr.</td>\n",
       "      <td>1924.0</td>\n",
       "      <td>tt0052077,tt0045826,tt0067479,tt0047127</td>\n",
       "    </tr>\n",
       "  </tbody>\n",
       "</table>\n",
       "</div>"
      ],
      "text/plain": [
       "           tconst  ordering     nconst  category         primaryName  \\\n",
       "146997  tt0015724        11  nm0529960  director   Eva López Sánchez   \n",
       "418485  tt0035423        11  nm0003506  director       James Mangold   \n",
       "499455  tt0040844        11  nm0000248  director  Edward D. Wood Jr.   \n",
       "\n",
       "        birthYear                           knownForTitles  \n",
       "146997     1954.0  tt0151790,tt0314085,tt0015724,tt1139666  \n",
       "418485     1963.0  tt3315342,tt1950186,tt0358273,tt1462764  \n",
       "499455     1924.0  tt0052077,tt0045826,tt0067479,tt0047127  "
      ]
     },
     "execution_count": 268,
     "metadata": {},
     "output_type": "execute_result"
    }
   ],
   "source": [
    "directors = principals_names3[principals_names3['category'] == 'director']\n",
    "directors.head(3)"
   ]
  },
  {
   "cell_type": "code",
   "execution_count": 269,
   "metadata": {},
   "outputs": [
    {
     "data": {
      "text/html": [
       "<div>\n",
       "<style scoped>\n",
       "    .dataframe tbody tr th:only-of-type {\n",
       "        vertical-align: middle;\n",
       "    }\n",
       "\n",
       "    .dataframe tbody tr th {\n",
       "        vertical-align: top;\n",
       "    }\n",
       "\n",
       "    .dataframe thead th {\n",
       "        text-align: right;\n",
       "    }\n",
       "</style>\n",
       "<table border=\"1\" class=\"dataframe\">\n",
       "  <thead>\n",
       "    <tr style=\"text-align: right;\">\n",
       "      <th></th>\n",
       "      <th>tconst</th>\n",
       "      <th>primaryName</th>\n",
       "    </tr>\n",
       "  </thead>\n",
       "  <tbody>\n",
       "    <tr>\n",
       "      <th>0</th>\n",
       "      <td>tt0015724</td>\n",
       "      <td>[Eva López Sánchez]</td>\n",
       "    </tr>\n",
       "    <tr>\n",
       "      <th>1</th>\n",
       "      <td>tt0035423</td>\n",
       "      <td>[James Mangold]</td>\n",
       "    </tr>\n",
       "    <tr>\n",
       "      <th>2</th>\n",
       "      <td>tt0040844</td>\n",
       "      <td>[Edward D. Wood Jr.]</td>\n",
       "    </tr>\n",
       "    <tr>\n",
       "      <th>3</th>\n",
       "      <td>tt0050396</td>\n",
       "      <td>[Edward D. Wood Jr.]</td>\n",
       "    </tr>\n",
       "    <tr>\n",
       "      <th>4</th>\n",
       "      <td>tt0059097</td>\n",
       "      <td>[Frank Vogel]</td>\n",
       "    </tr>\n",
       "    <tr>\n",
       "      <th>...</th>\n",
       "      <td>...</td>\n",
       "      <td>...</td>\n",
       "    </tr>\n",
       "    <tr>\n",
       "      <th>107851</th>\n",
       "      <td>tt9914972</td>\n",
       "      <td>[Robert Coe, Warwick Ross]</td>\n",
       "    </tr>\n",
       "    <tr>\n",
       "      <th>107852</th>\n",
       "      <td>tt9915946</td>\n",
       "      <td>[Luis Ospina]</td>\n",
       "    </tr>\n",
       "    <tr>\n",
       "      <th>107853</th>\n",
       "      <td>tt9916190</td>\n",
       "      <td>[Fraser Precious]</td>\n",
       "    </tr>\n",
       "    <tr>\n",
       "      <th>107854</th>\n",
       "      <td>tt9916270</td>\n",
       "      <td>[Giacomo Cimini]</td>\n",
       "    </tr>\n",
       "    <tr>\n",
       "      <th>107855</th>\n",
       "      <td>tt9916362</td>\n",
       "      <td>[Pablo Agüero]</td>\n",
       "    </tr>\n",
       "  </tbody>\n",
       "</table>\n",
       "<p>107856 rows × 2 columns</p>\n",
       "</div>"
      ],
      "text/plain": [
       "           tconst                 primaryName\n",
       "0       tt0015724         [Eva López Sánchez]\n",
       "1       tt0035423             [James Mangold]\n",
       "2       tt0040844        [Edward D. Wood Jr.]\n",
       "3       tt0050396        [Edward D. Wood Jr.]\n",
       "4       tt0059097               [Frank Vogel]\n",
       "...           ...                         ...\n",
       "107851  tt9914972  [Robert Coe, Warwick Ross]\n",
       "107852  tt9915946               [Luis Ospina]\n",
       "107853  tt9916190           [Fraser Precious]\n",
       "107854  tt9916270            [Giacomo Cimini]\n",
       "107855  tt9916362              [Pablo Agüero]\n",
       "\n",
       "[107856 rows x 2 columns]"
      ]
     },
     "execution_count": 269,
     "metadata": {},
     "output_type": "execute_result"
    }
   ],
   "source": [
    "directors_name = directors.groupby('tconst')['primaryName'].apply(list).reset_index()\n",
    "directors_name"
   ]
  },
  {
   "cell_type": "code",
   "execution_count": 270,
   "metadata": {},
   "outputs": [
    {
     "data": {
      "text/html": [
       "<div>\n",
       "<style scoped>\n",
       "    .dataframe tbody tr th:only-of-type {\n",
       "        vertical-align: middle;\n",
       "    }\n",
       "\n",
       "    .dataframe tbody tr th {\n",
       "        vertical-align: top;\n",
       "    }\n",
       "\n",
       "    .dataframe thead th {\n",
       "        text-align: right;\n",
       "    }\n",
       "</style>\n",
       "<table border=\"1\" class=\"dataframe\">\n",
       "  <thead>\n",
       "    <tr style=\"text-align: right;\">\n",
       "      <th></th>\n",
       "      <th>tconst</th>\n",
       "      <th>titleType</th>\n",
       "      <th>primaryTitle</th>\n",
       "      <th>originalTitle</th>\n",
       "      <th>isAdult</th>\n",
       "      <th>startYear</th>\n",
       "      <th>runtimeMinutes</th>\n",
       "      <th>genres</th>\n",
       "      <th>averageRating</th>\n",
       "      <th>numVotes</th>\n",
       "      <th>...</th>\n",
       "      <th>poster_path</th>\n",
       "      <th>production_countries</th>\n",
       "      <th>revenue</th>\n",
       "      <th>spoken_languages</th>\n",
       "      <th>vote_average</th>\n",
       "      <th>vote_count</th>\n",
       "      <th>production_companies_name</th>\n",
       "      <th>primaryName_x</th>\n",
       "      <th>ordering</th>\n",
       "      <th>primaryName_y</th>\n",
       "    </tr>\n",
       "  </thead>\n",
       "  <tbody>\n",
       "    <tr>\n",
       "      <th>0</th>\n",
       "      <td>tt0015724</td>\n",
       "      <td>movie</td>\n",
       "      <td>Dama de noche</td>\n",
       "      <td>Dama de noche</td>\n",
       "      <td>False</td>\n",
       "      <td>1993-01-01</td>\n",
       "      <td>102.0</td>\n",
       "      <td>Drama,Mystery,Romance</td>\n",
       "      <td>6.3</td>\n",
       "      <td>31</td>\n",
       "      <td>...</td>\n",
       "      <td>/zCmyAl7VG6aZJqWZ7PFfj9e6ToU.jpg</td>\n",
       "      <td>['MX']</td>\n",
       "      <td>0</td>\n",
       "      <td>[]</td>\n",
       "      <td>7.000</td>\n",
       "      <td>6</td>\n",
       "      <td>['Centro de Capacitación Cinematográfica (CCC)']</td>\n",
       "      <td>[Rafael Sánchez Navarro, Cecilia Toussaint, Mi...</td>\n",
       "      <td>[1, 2, 3, 4, 5, 6, 7, 8, 9, 10]</td>\n",
       "      <td>[Eva López Sánchez]</td>\n",
       "    </tr>\n",
       "    <tr>\n",
       "      <th>1</th>\n",
       "      <td>tt0035423</td>\n",
       "      <td>movie</td>\n",
       "      <td>Kate &amp; Leopold</td>\n",
       "      <td>Kate &amp; Leopold</td>\n",
       "      <td>False</td>\n",
       "      <td>2001-01-01</td>\n",
       "      <td>118.0</td>\n",
       "      <td>Comedy,Fantasy,Romance</td>\n",
       "      <td>6.4</td>\n",
       "      <td>90646</td>\n",
       "      <td>...</td>\n",
       "      <td>/mUvikzKJJSg9khrVdxK8kg3TMHA.jpg</td>\n",
       "      <td>['US']</td>\n",
       "      <td>76019048</td>\n",
       "      <td>['en', 'fr', 'it']</td>\n",
       "      <td>6.326</td>\n",
       "      <td>1187</td>\n",
       "      <td>['Konrad Pictures', 'Miramax']</td>\n",
       "      <td>[Meg Ryan, Hugh Jackman, Liev Schreiber, Breck...</td>\n",
       "      <td>[1, 2, 3, 4, 5, 6, 7, 8, 9, 10]</td>\n",
       "      <td>[James Mangold]</td>\n",
       "    </tr>\n",
       "    <tr>\n",
       "      <th>2</th>\n",
       "      <td>tt0040844</td>\n",
       "      <td>short</td>\n",
       "      <td>Crossroads of Laredo</td>\n",
       "      <td>Crossroads of Laredo</td>\n",
       "      <td>False</td>\n",
       "      <td>1995-01-01</td>\n",
       "      <td>30.0</td>\n",
       "      <td>Short,Western</td>\n",
       "      <td>3.4</td>\n",
       "      <td>199</td>\n",
       "      <td>...</td>\n",
       "      <td>/atrGjxMSp6y4jvs7nojUrlsGFUb.jpg</td>\n",
       "      <td>[]</td>\n",
       "      <td>0</td>\n",
       "      <td>[]</td>\n",
       "      <td>2.800</td>\n",
       "      <td>5</td>\n",
       "      <td>['Wood-Thomas Pictures']</td>\n",
       "      <td>[Edward D. Wood Jr., Duke Moore, Don Nagel, Ru...</td>\n",
       "      <td>[1, 2, 3, 4, 5, 6, 7, 8, 9, 10]</td>\n",
       "      <td>[Edward D. Wood Jr.]</td>\n",
       "    </tr>\n",
       "  </tbody>\n",
       "</table>\n",
       "<p>3 rows × 27 columns</p>\n",
       "</div>"
      ],
      "text/plain": [
       "      tconst titleType          primaryTitle         originalTitle  isAdult  \\\n",
       "0  tt0015724     movie         Dama de noche         Dama de noche    False   \n",
       "1  tt0035423     movie        Kate & Leopold        Kate & Leopold    False   \n",
       "2  tt0040844     short  Crossroads of Laredo  Crossroads of Laredo    False   \n",
       "\n",
       "   startYear  runtimeMinutes                  genres  averageRating  numVotes  \\\n",
       "0 1993-01-01           102.0   Drama,Mystery,Romance            6.3        31   \n",
       "1 2001-01-01           118.0  Comedy,Fantasy,Romance            6.4     90646   \n",
       "2 1995-01-01            30.0           Short,Western            3.4       199   \n",
       "\n",
       "   ...                       poster_path production_countries   revenue  \\\n",
       "0  ...  /zCmyAl7VG6aZJqWZ7PFfj9e6ToU.jpg               ['MX']         0   \n",
       "1  ...  /mUvikzKJJSg9khrVdxK8kg3TMHA.jpg               ['US']  76019048   \n",
       "2  ...  /atrGjxMSp6y4jvs7nojUrlsGFUb.jpg                   []         0   \n",
       "\n",
       "     spoken_languages vote_average vote_count  \\\n",
       "0                  []        7.000          6   \n",
       "1  ['en', 'fr', 'it']        6.326       1187   \n",
       "2                  []        2.800          5   \n",
       "\n",
       "                          production_companies_name  \\\n",
       "0  ['Centro de Capacitación Cinematográfica (CCC)']   \n",
       "1                    ['Konrad Pictures', 'Miramax']   \n",
       "2                          ['Wood-Thomas Pictures']   \n",
       "\n",
       "                                       primaryName_x  \\\n",
       "0  [Rafael Sánchez Navarro, Cecilia Toussaint, Mi...   \n",
       "1  [Meg Ryan, Hugh Jackman, Liev Schreiber, Breck...   \n",
       "2  [Edward D. Wood Jr., Duke Moore, Don Nagel, Ru...   \n",
       "\n",
       "                          ordering         primaryName_y  \n",
       "0  [1, 2, 3, 4, 5, 6, 7, 8, 9, 10]   [Eva López Sánchez]  \n",
       "1  [1, 2, 3, 4, 5, 6, 7, 8, 9, 10]       [James Mangold]  \n",
       "2  [1, 2, 3, 4, 5, 6, 7, 8, 9, 10]  [Edward D. Wood Jr.]  \n",
       "\n",
       "[3 rows x 27 columns]"
      ]
     },
     "execution_count": 270,
     "metadata": {},
     "output_type": "execute_result"
    }
   ],
   "source": [
    "movies_w_directors = movies_w_actors.merge(directors_name, on='tconst', how='left')\n",
    "movies_w_directors.head(3)"
   ]
  },
  {
   "cell_type": "code",
   "execution_count": 271,
   "metadata": {},
   "outputs": [
    {
     "data": {
      "text/plain": [
       "Index(['tconst', 'titleType', 'primaryTitle', 'originalTitle', 'isAdult',\n",
       "       'startYear', 'runtimeMinutes', 'genres', 'averageRating', 'numVotes',\n",
       "       'writers', 'budget', 'original_language', 'overview', 'popularity',\n",
       "       'poster_path', 'production_countries', 'revenue', 'spoken_languages',\n",
       "       'vote_average', 'vote_count', 'production_companies_name',\n",
       "       'actors_name', 'rang_acteur_film', 'directors_name'],\n",
       "      dtype='object')"
      ]
     },
     "execution_count": 271,
     "metadata": {},
     "output_type": "execute_result"
    }
   ],
   "source": [
    "movies = movies_w_directors.rename(columns= {'primaryName_x': 'actors_name', 'ordering': 'rang_acteur_film', 'primaryName_y': 'directors_name'})\n",
    "movies = movies.drop(columns=['directors', 'id'], axis=1)\n",
    "movies.columns"
   ]
  },
  {
   "cell_type": "code",
   "execution_count": 272,
   "metadata": {},
   "outputs": [
    {
     "data": {
      "text/plain": [
       "Timestamp('1990-01-01 00:00:00')"
      ]
     },
     "execution_count": 272,
     "metadata": {},
     "output_type": "execute_result"
    }
   ],
   "source": [
    "movies['startYear'].min()"
   ]
  },
  {
   "cell_type": "code",
   "execution_count": 273,
   "metadata": {},
   "outputs": [
    {
     "data": {
      "text/html": [
       "<div>\n",
       "<style scoped>\n",
       "    .dataframe tbody tr th:only-of-type {\n",
       "        vertical-align: middle;\n",
       "    }\n",
       "\n",
       "    .dataframe tbody tr th {\n",
       "        vertical-align: top;\n",
       "    }\n",
       "\n",
       "    .dataframe thead th {\n",
       "        text-align: right;\n",
       "    }\n",
       "</style>\n",
       "<table border=\"1\" class=\"dataframe\">\n",
       "  <thead>\n",
       "    <tr style=\"text-align: right;\">\n",
       "      <th></th>\n",
       "      <th>tconst</th>\n",
       "      <th>genres</th>\n",
       "    </tr>\n",
       "  </thead>\n",
       "  <tbody>\n",
       "    <tr>\n",
       "      <th>0</th>\n",
       "      <td>tt0015724</td>\n",
       "      <td>[Drama,Mystery,Romance]</td>\n",
       "    </tr>\n",
       "    <tr>\n",
       "      <th>1</th>\n",
       "      <td>tt0035423</td>\n",
       "      <td>[Comedy,Fantasy,Romance]</td>\n",
       "    </tr>\n",
       "    <tr>\n",
       "      <th>2</th>\n",
       "      <td>tt0040844</td>\n",
       "      <td>[Short,Western]</td>\n",
       "    </tr>\n",
       "    <tr>\n",
       "      <th>3</th>\n",
       "      <td>tt0050396</td>\n",
       "      <td>[Horror,Short]</td>\n",
       "    </tr>\n",
       "    <tr>\n",
       "      <th>4</th>\n",
       "      <td>tt0059097</td>\n",
       "      <td>[Drama]</td>\n",
       "    </tr>\n",
       "    <tr>\n",
       "      <th>...</th>\n",
       "      <td>...</td>\n",
       "      <td>...</td>\n",
       "    </tr>\n",
       "    <tr>\n",
       "      <th>108536</th>\n",
       "      <td>tt9914972</td>\n",
       "      <td>[Documentary]</td>\n",
       "    </tr>\n",
       "    <tr>\n",
       "      <th>108537</th>\n",
       "      <td>tt9915946</td>\n",
       "      <td>[Documentary]</td>\n",
       "    </tr>\n",
       "    <tr>\n",
       "      <th>108538</th>\n",
       "      <td>tt9916190</td>\n",
       "      <td>[Action,Adventure,Thriller]</td>\n",
       "    </tr>\n",
       "    <tr>\n",
       "      <th>108539</th>\n",
       "      <td>tt9916270</td>\n",
       "      <td>[Thriller]</td>\n",
       "    </tr>\n",
       "    <tr>\n",
       "      <th>108540</th>\n",
       "      <td>tt9916362</td>\n",
       "      <td>[Drama,History]</td>\n",
       "    </tr>\n",
       "  </tbody>\n",
       "</table>\n",
       "<p>108541 rows × 2 columns</p>\n",
       "</div>"
      ],
      "text/plain": [
       "           tconst                       genres\n",
       "0       tt0015724      [Drama,Mystery,Romance]\n",
       "1       tt0035423     [Comedy,Fantasy,Romance]\n",
       "2       tt0040844              [Short,Western]\n",
       "3       tt0050396               [Horror,Short]\n",
       "4       tt0059097                      [Drama]\n",
       "...           ...                          ...\n",
       "108536  tt9914972                [Documentary]\n",
       "108537  tt9915946                [Documentary]\n",
       "108538  tt9916190  [Action,Adventure,Thriller]\n",
       "108539  tt9916270                   [Thriller]\n",
       "108540  tt9916362              [Drama,History]\n",
       "\n",
       "[108541 rows x 2 columns]"
      ]
     },
     "execution_count": 273,
     "metadata": {},
     "output_type": "execute_result"
    }
   ],
   "source": [
    "genres = movies.groupby('tconst')['genres'].apply(list).reset_index()\n",
    "genres"
   ]
  },
  {
   "cell_type": "code",
   "execution_count": 274,
   "metadata": {},
   "outputs": [
    {
     "data": {
      "text/html": [
       "<div>\n",
       "<style scoped>\n",
       "    .dataframe tbody tr th:only-of-type {\n",
       "        vertical-align: middle;\n",
       "    }\n",
       "\n",
       "    .dataframe tbody tr th {\n",
       "        vertical-align: top;\n",
       "    }\n",
       "\n",
       "    .dataframe thead th {\n",
       "        text-align: right;\n",
       "    }\n",
       "</style>\n",
       "<table border=\"1\" class=\"dataframe\">\n",
       "  <thead>\n",
       "    <tr style=\"text-align: right;\">\n",
       "      <th></th>\n",
       "      <th>tconst</th>\n",
       "      <th>titleType</th>\n",
       "      <th>primaryTitle</th>\n",
       "      <th>originalTitle</th>\n",
       "      <th>isAdult</th>\n",
       "      <th>startYear</th>\n",
       "      <th>runtimeMinutes</th>\n",
       "      <th>genres_x</th>\n",
       "      <th>averageRating</th>\n",
       "      <th>numVotes</th>\n",
       "      <th>...</th>\n",
       "      <th>production_countries</th>\n",
       "      <th>revenue</th>\n",
       "      <th>spoken_languages</th>\n",
       "      <th>vote_average</th>\n",
       "      <th>vote_count</th>\n",
       "      <th>production_companies_name</th>\n",
       "      <th>actors_name</th>\n",
       "      <th>rang_acteur_film</th>\n",
       "      <th>directors_name</th>\n",
       "      <th>genres_y</th>\n",
       "    </tr>\n",
       "  </thead>\n",
       "  <tbody>\n",
       "    <tr>\n",
       "      <th>0</th>\n",
       "      <td>tt0015724</td>\n",
       "      <td>movie</td>\n",
       "      <td>Dama de noche</td>\n",
       "      <td>Dama de noche</td>\n",
       "      <td>False</td>\n",
       "      <td>1993-01-01</td>\n",
       "      <td>102.0</td>\n",
       "      <td>Drama,Mystery,Romance</td>\n",
       "      <td>6.3</td>\n",
       "      <td>31</td>\n",
       "      <td>...</td>\n",
       "      <td>['MX']</td>\n",
       "      <td>0</td>\n",
       "      <td>[]</td>\n",
       "      <td>7.000</td>\n",
       "      <td>6</td>\n",
       "      <td>['Centro de Capacitación Cinematográfica (CCC)']</td>\n",
       "      <td>[Rafael Sánchez Navarro, Cecilia Toussaint, Mi...</td>\n",
       "      <td>[1, 2, 3, 4, 5, 6, 7, 8, 9, 10]</td>\n",
       "      <td>[Eva López Sánchez]</td>\n",
       "      <td>[Drama,Mystery,Romance]</td>\n",
       "    </tr>\n",
       "    <tr>\n",
       "      <th>1</th>\n",
       "      <td>tt0035423</td>\n",
       "      <td>movie</td>\n",
       "      <td>Kate &amp; Leopold</td>\n",
       "      <td>Kate &amp; Leopold</td>\n",
       "      <td>False</td>\n",
       "      <td>2001-01-01</td>\n",
       "      <td>118.0</td>\n",
       "      <td>Comedy,Fantasy,Romance</td>\n",
       "      <td>6.4</td>\n",
       "      <td>90646</td>\n",
       "      <td>...</td>\n",
       "      <td>['US']</td>\n",
       "      <td>76019048</td>\n",
       "      <td>['en', 'fr', 'it']</td>\n",
       "      <td>6.326</td>\n",
       "      <td>1187</td>\n",
       "      <td>['Konrad Pictures', 'Miramax']</td>\n",
       "      <td>[Meg Ryan, Hugh Jackman, Liev Schreiber, Breck...</td>\n",
       "      <td>[1, 2, 3, 4, 5, 6, 7, 8, 9, 10]</td>\n",
       "      <td>[James Mangold]</td>\n",
       "      <td>[Comedy,Fantasy,Romance]</td>\n",
       "    </tr>\n",
       "    <tr>\n",
       "      <th>2</th>\n",
       "      <td>tt0040844</td>\n",
       "      <td>short</td>\n",
       "      <td>Crossroads of Laredo</td>\n",
       "      <td>Crossroads of Laredo</td>\n",
       "      <td>False</td>\n",
       "      <td>1995-01-01</td>\n",
       "      <td>30.0</td>\n",
       "      <td>Short,Western</td>\n",
       "      <td>3.4</td>\n",
       "      <td>199</td>\n",
       "      <td>...</td>\n",
       "      <td>[]</td>\n",
       "      <td>0</td>\n",
       "      <td>[]</td>\n",
       "      <td>2.800</td>\n",
       "      <td>5</td>\n",
       "      <td>['Wood-Thomas Pictures']</td>\n",
       "      <td>[Edward D. Wood Jr., Duke Moore, Don Nagel, Ru...</td>\n",
       "      <td>[1, 2, 3, 4, 5, 6, 7, 8, 9, 10]</td>\n",
       "      <td>[Edward D. Wood Jr.]</td>\n",
       "      <td>[Short,Western]</td>\n",
       "    </tr>\n",
       "  </tbody>\n",
       "</table>\n",
       "<p>3 rows × 26 columns</p>\n",
       "</div>"
      ],
      "text/plain": [
       "      tconst titleType          primaryTitle         originalTitle  isAdult  \\\n",
       "0  tt0015724     movie         Dama de noche         Dama de noche    False   \n",
       "1  tt0035423     movie        Kate & Leopold        Kate & Leopold    False   \n",
       "2  tt0040844     short  Crossroads of Laredo  Crossroads of Laredo    False   \n",
       "\n",
       "   startYear  runtimeMinutes                genres_x  averageRating  numVotes  \\\n",
       "0 1993-01-01           102.0   Drama,Mystery,Romance            6.3        31   \n",
       "1 2001-01-01           118.0  Comedy,Fantasy,Romance            6.4     90646   \n",
       "2 1995-01-01            30.0           Short,Western            3.4       199   \n",
       "\n",
       "   ... production_countries   revenue    spoken_languages vote_average  \\\n",
       "0  ...               ['MX']         0                  []        7.000   \n",
       "1  ...               ['US']  76019048  ['en', 'fr', 'it']        6.326   \n",
       "2  ...                   []         0                  []        2.800   \n",
       "\n",
       "   vote_count                         production_companies_name  \\\n",
       "0           6  ['Centro de Capacitación Cinematográfica (CCC)']   \n",
       "1        1187                    ['Konrad Pictures', 'Miramax']   \n",
       "2           5                          ['Wood-Thomas Pictures']   \n",
       "\n",
       "                                         actors_name  \\\n",
       "0  [Rafael Sánchez Navarro, Cecilia Toussaint, Mi...   \n",
       "1  [Meg Ryan, Hugh Jackman, Liev Schreiber, Breck...   \n",
       "2  [Edward D. Wood Jr., Duke Moore, Don Nagel, Ru...   \n",
       "\n",
       "                  rang_acteur_film        directors_name  \\\n",
       "0  [1, 2, 3, 4, 5, 6, 7, 8, 9, 10]   [Eva López Sánchez]   \n",
       "1  [1, 2, 3, 4, 5, 6, 7, 8, 9, 10]       [James Mangold]   \n",
       "2  [1, 2, 3, 4, 5, 6, 7, 8, 9, 10]  [Edward D. Wood Jr.]   \n",
       "\n",
       "                   genres_y  \n",
       "0   [Drama,Mystery,Romance]  \n",
       "1  [Comedy,Fantasy,Romance]  \n",
       "2           [Short,Western]  \n",
       "\n",
       "[3 rows x 26 columns]"
      ]
     },
     "execution_count": 274,
     "metadata": {},
     "output_type": "execute_result"
    }
   ],
   "source": [
    "movies2 = movies.merge(genres, on='tconst', how='left')\n",
    "movies2.head(3)"
   ]
  },
  {
   "cell_type": "code",
   "execution_count": 275,
   "metadata": {},
   "outputs": [
    {
     "data": {
      "text/plain": [
       "Index(['tconst', 'titleType', 'primaryTitle', 'originalTitle', 'isAdult',\n",
       "       'startYear', 'runtimeMinutes', 'averageRating', 'numVotes', 'writers',\n",
       "       'budget', 'original_language', 'overview', 'popularity', 'poster_path',\n",
       "       'production_countries', 'revenue', 'spoken_languages', 'vote_average',\n",
       "       'vote_count', 'production_companies_name', 'actors_name',\n",
       "       'rang_acteur_film', 'directors_name', 'genres_y'],\n",
       "      dtype='object')"
      ]
     },
     "execution_count": 275,
     "metadata": {},
     "output_type": "execute_result"
    }
   ],
   "source": [
    "movies2 = movies2.drop(columns='genres_x', axis=1)\n",
    "movies2.columns"
   ]
  },
  {
   "cell_type": "code",
   "execution_count": 276,
   "metadata": {},
   "outputs": [
    {
     "data": {
      "text/plain": [
       "Index(['tconst', 'titleType', 'primaryTitle', 'originalTitle', 'isAdult',\n",
       "       'startYear', 'runtimeMinutes', 'averageRating', 'numVotes', 'writers',\n",
       "       'budget', 'original_language', 'overview', 'popularity', 'poster_path',\n",
       "       'production_countries', 'revenue', 'spoken_languages', 'vote_average',\n",
       "       'vote_count', 'production_companies_name', 'actors_name',\n",
       "       'rang_acteur_film', 'directors_name', 'genres'],\n",
       "      dtype='object')"
      ]
     },
     "execution_count": 276,
     "metadata": {},
     "output_type": "execute_result"
    }
   ],
   "source": [
    "movies2 = movies2.rename(columns= {'genres_y': 'genres'})\n",
    "movies2.columns"
   ]
  },
  {
   "cell_type": "code",
   "execution_count": 277,
   "metadata": {},
   "outputs": [
    {
     "data": {
      "text/plain": [
       "108541"
      ]
     },
     "execution_count": 277,
     "metadata": {},
     "output_type": "execute_result"
    }
   ],
   "source": [
    "movies2['tconst'].nunique()"
   ]
  },
  {
   "cell_type": "code",
   "execution_count": 278,
   "metadata": {},
   "outputs": [
    {
     "data": {
      "text/plain": [
       "original_language\n",
       "en    53658\n",
       "fr     6404\n",
       "es     5963\n",
       "ja     4766\n",
       "de     3161\n",
       "      ...  \n",
       "cr        1\n",
       "ba        1\n",
       "mg        1\n",
       "lg        1\n",
       "ay        1\n",
       "Name: count, Length: 139, dtype: int64"
      ]
     },
     "execution_count": 278,
     "metadata": {},
     "output_type": "execute_result"
    }
   ],
   "source": [
    "movies2['original_language'].value_counts()"
   ]
  },
  {
   "cell_type": "code",
   "execution_count": 279,
   "metadata": {},
   "outputs": [
    {
     "data": {
      "text/plain": [
       "original_language\n",
       "en    53658\n",
       "fr     6404\n",
       "Name: count, dtype: int64"
      ]
     },
     "execution_count": 279,
     "metadata": {},
     "output_type": "execute_result"
    }
   ],
   "source": [
    "movie3 = movies2[(movies2['original_language'] == 'fr') | (movies2['original_language'] == 'en')]\n",
    "movie3['original_language'].value_counts()"
   ]
  },
  {
   "cell_type": "code",
   "execution_count": 280,
   "metadata": {},
   "outputs": [
    {
     "data": {
      "text/plain": [
       "array(['actor', 'actress', 'director', 'writer'], dtype=object)"
      ]
     },
     "execution_count": 280,
     "metadata": {},
     "output_type": "execute_result"
    }
   ],
   "source": [
    "principals_names3['category'].unique()"
   ]
  },
  {
   "cell_type": "code",
   "execution_count": 281,
   "metadata": {},
   "outputs": [
    {
     "data": {
      "text/html": [
       "<div>\n",
       "<style scoped>\n",
       "    .dataframe tbody tr th:only-of-type {\n",
       "        vertical-align: middle;\n",
       "    }\n",
       "\n",
       "    .dataframe tbody tr th {\n",
       "        vertical-align: top;\n",
       "    }\n",
       "\n",
       "    .dataframe thead th {\n",
       "        text-align: right;\n",
       "    }\n",
       "</style>\n",
       "<table border=\"1\" class=\"dataframe\">\n",
       "  <thead>\n",
       "    <tr style=\"text-align: right;\">\n",
       "      <th></th>\n",
       "      <th>tconst</th>\n",
       "      <th>titleType</th>\n",
       "      <th>primaryTitle</th>\n",
       "      <th>originalTitle</th>\n",
       "      <th>isAdult</th>\n",
       "      <th>startYear</th>\n",
       "      <th>runtimeMinutes</th>\n",
       "      <th>averageRating</th>\n",
       "      <th>numVotes</th>\n",
       "      <th>writers</th>\n",
       "      <th>...</th>\n",
       "      <th>production_countries</th>\n",
       "      <th>revenue</th>\n",
       "      <th>spoken_languages</th>\n",
       "      <th>vote_average</th>\n",
       "      <th>vote_count</th>\n",
       "      <th>production_companies_name</th>\n",
       "      <th>actors_name</th>\n",
       "      <th>rang_acteur_film</th>\n",
       "      <th>directors_name</th>\n",
       "      <th>genres</th>\n",
       "    </tr>\n",
       "  </thead>\n",
       "  <tbody>\n",
       "    <tr>\n",
       "      <th>0</th>\n",
       "      <td>tt0015724</td>\n",
       "      <td>movie</td>\n",
       "      <td>Dama de noche</td>\n",
       "      <td>Dama de noche</td>\n",
       "      <td>False</td>\n",
       "      <td>1993-01-01</td>\n",
       "      <td>102.0</td>\n",
       "      <td>6.3</td>\n",
       "      <td>31</td>\n",
       "      <td>nm0529960,nm1597742</td>\n",
       "      <td>...</td>\n",
       "      <td>['MX']</td>\n",
       "      <td>0</td>\n",
       "      <td>[]</td>\n",
       "      <td>7.000</td>\n",
       "      <td>6</td>\n",
       "      <td>['Centro de Capacitación Cinematográfica (CCC)']</td>\n",
       "      <td>[Rafael Sánchez Navarro, Cecilia Toussaint, Mi...</td>\n",
       "      <td>[1, 2, 3, 4, 5, 6, 7, 8, 9, 10]</td>\n",
       "      <td>[Eva López Sánchez]</td>\n",
       "      <td>[Drama,Mystery,Romance]</td>\n",
       "    </tr>\n",
       "    <tr>\n",
       "      <th>1</th>\n",
       "      <td>tt0035423</td>\n",
       "      <td>movie</td>\n",
       "      <td>Kate &amp; Leopold</td>\n",
       "      <td>Kate &amp; Leopold</td>\n",
       "      <td>False</td>\n",
       "      <td>2001-01-01</td>\n",
       "      <td>118.0</td>\n",
       "      <td>6.4</td>\n",
       "      <td>90646</td>\n",
       "      <td>nm0737216,nm0003506</td>\n",
       "      <td>...</td>\n",
       "      <td>['US']</td>\n",
       "      <td>76019048</td>\n",
       "      <td>['en', 'fr', 'it']</td>\n",
       "      <td>6.326</td>\n",
       "      <td>1187</td>\n",
       "      <td>['Konrad Pictures', 'Miramax']</td>\n",
       "      <td>[Meg Ryan, Hugh Jackman, Liev Schreiber, Breck...</td>\n",
       "      <td>[1, 2, 3, 4, 5, 6, 7, 8, 9, 10]</td>\n",
       "      <td>[James Mangold]</td>\n",
       "      <td>[Comedy,Fantasy,Romance]</td>\n",
       "    </tr>\n",
       "    <tr>\n",
       "      <th>2</th>\n",
       "      <td>tt0040844</td>\n",
       "      <td>short</td>\n",
       "      <td>Crossroads of Laredo</td>\n",
       "      <td>Crossroads of Laredo</td>\n",
       "      <td>False</td>\n",
       "      <td>1995-01-01</td>\n",
       "      <td>30.0</td>\n",
       "      <td>3.4</td>\n",
       "      <td>199</td>\n",
       "      <td>nm0298215,nm0000248</td>\n",
       "      <td>...</td>\n",
       "      <td>[]</td>\n",
       "      <td>0</td>\n",
       "      <td>[]</td>\n",
       "      <td>2.800</td>\n",
       "      <td>5</td>\n",
       "      <td>['Wood-Thomas Pictures']</td>\n",
       "      <td>[Edward D. Wood Jr., Duke Moore, Don Nagel, Ru...</td>\n",
       "      <td>[1, 2, 3, 4, 5, 6, 7, 8, 9, 10]</td>\n",
       "      <td>[Edward D. Wood Jr.]</td>\n",
       "      <td>[Short,Western]</td>\n",
       "    </tr>\n",
       "    <tr>\n",
       "      <th>3</th>\n",
       "      <td>tt0050396</td>\n",
       "      <td>short</td>\n",
       "      <td>Final Curtain</td>\n",
       "      <td>Final Curtain</td>\n",
       "      <td>False</td>\n",
       "      <td>2012-01-01</td>\n",
       "      <td>22.0</td>\n",
       "      <td>4.6</td>\n",
       "      <td>247</td>\n",
       "      <td>nm0000248</td>\n",
       "      <td>...</td>\n",
       "      <td>['US']</td>\n",
       "      <td>0</td>\n",
       "      <td>['en']</td>\n",
       "      <td>5.100</td>\n",
       "      <td>11</td>\n",
       "      <td>[]</td>\n",
       "      <td>[Duke Moore, Dudley Manlove, Jeannie Stevens]</td>\n",
       "      <td>[1, 2, 3]</td>\n",
       "      <td>[Edward D. Wood Jr.]</td>\n",
       "      <td>[Horror,Short]</td>\n",
       "    </tr>\n",
       "    <tr>\n",
       "      <th>9</th>\n",
       "      <td>tt0069049</td>\n",
       "      <td>movie</td>\n",
       "      <td>The Other Side of the Wind</td>\n",
       "      <td>The Other Side of the Wind</td>\n",
       "      <td>False</td>\n",
       "      <td>2018-01-01</td>\n",
       "      <td>122.0</td>\n",
       "      <td>6.7</td>\n",
       "      <td>8189</td>\n",
       "      <td>nm0000080,nm0462648</td>\n",
       "      <td>...</td>\n",
       "      <td>['FR', 'IR', 'US']</td>\n",
       "      <td>0</td>\n",
       "      <td>['en']</td>\n",
       "      <td>6.700</td>\n",
       "      <td>175</td>\n",
       "      <td>['SACI', \"Les Films de l'Astrophore\"]</td>\n",
       "      <td>[John Huston, Oja Kodar, Peter Bogdanovich, Su...</td>\n",
       "      <td>[1, 2, 3, 4, 5, 6, 7, 8, 9, 10]</td>\n",
       "      <td>[Orson Welles]</td>\n",
       "      <td>[Drama]</td>\n",
       "    </tr>\n",
       "    <tr>\n",
       "      <th>...</th>\n",
       "      <td>...</td>\n",
       "      <td>...</td>\n",
       "      <td>...</td>\n",
       "      <td>...</td>\n",
       "      <td>...</td>\n",
       "      <td>...</td>\n",
       "      <td>...</td>\n",
       "      <td>...</td>\n",
       "      <td>...</td>\n",
       "      <td>...</td>\n",
       "      <td>...</td>\n",
       "      <td>...</td>\n",
       "      <td>...</td>\n",
       "      <td>...</td>\n",
       "      <td>...</td>\n",
       "      <td>...</td>\n",
       "      <td>...</td>\n",
       "      <td>...</td>\n",
       "      <td>...</td>\n",
       "      <td>...</td>\n",
       "      <td>...</td>\n",
       "    </tr>\n",
       "    <tr>\n",
       "      <th>108526</th>\n",
       "      <td>tt9909186</td>\n",
       "      <td>short</td>\n",
       "      <td>Stucco</td>\n",
       "      <td>Stucco</td>\n",
       "      <td>False</td>\n",
       "      <td>2019-01-01</td>\n",
       "      <td>18.0</td>\n",
       "      <td>5.7</td>\n",
       "      <td>566</td>\n",
       "      <td>nm1232470,nm10535092</td>\n",
       "      <td>...</td>\n",
       "      <td>[]</td>\n",
       "      <td>0</td>\n",
       "      <td>['en']</td>\n",
       "      <td>5.200</td>\n",
       "      <td>21</td>\n",
       "      <td>[]</td>\n",
       "      <td>[Janina Gavankar, Michael Ealy, Colton Haynes,...</td>\n",
       "      <td>[1, 2, 3, 4, 5, 6, 7, 8, 9, 10]</td>\n",
       "      <td>[Janina Gavankar, Russo Schelling]</td>\n",
       "      <td>[Horror,Short]</td>\n",
       "    </tr>\n",
       "    <tr>\n",
       "      <th>108527</th>\n",
       "      <td>tt9909596</td>\n",
       "      <td>short</td>\n",
       "      <td>Cake Day</td>\n",
       "      <td>Cake Day</td>\n",
       "      <td>False</td>\n",
       "      <td>2020-01-01</td>\n",
       "      <td>15.0</td>\n",
       "      <td>7.2</td>\n",
       "      <td>26</td>\n",
       "      <td>nm3916458</td>\n",
       "      <td>...</td>\n",
       "      <td>[]</td>\n",
       "      <td>0</td>\n",
       "      <td>['en']</td>\n",
       "      <td>8.000</td>\n",
       "      <td>2</td>\n",
       "      <td>[]</td>\n",
       "      <td>[Blair Buchholz, Joe Buffalo, Cameron Crosby, ...</td>\n",
       "      <td>[1, 2, 3, 4, 5, 6, 7, 8, 9, 10]</td>\n",
       "      <td>[Phillip Thomas]</td>\n",
       "      <td>[Drama,Short]</td>\n",
       "    </tr>\n",
       "    <tr>\n",
       "      <th>108532</th>\n",
       "      <td>tt9913660</td>\n",
       "      <td>movie</td>\n",
       "      <td>No Apology</td>\n",
       "      <td>No Apology</td>\n",
       "      <td>False</td>\n",
       "      <td>2019-01-01</td>\n",
       "      <td>102.0</td>\n",
       "      <td>5.4</td>\n",
       "      <td>75</td>\n",
       "      <td>nm3014403</td>\n",
       "      <td>...</td>\n",
       "      <td>[]</td>\n",
       "      <td>0</td>\n",
       "      <td>['en']</td>\n",
       "      <td>8.000</td>\n",
       "      <td>1</td>\n",
       "      <td>[]</td>\n",
       "      <td>[Lydia Adair, Owen Bishop, Pierce Briggs, Kiar...</td>\n",
       "      <td>[1, 2, 3, 4, 5, 6, 7, 8, 9, 10]</td>\n",
       "      <td>[Gilbert Allan]</td>\n",
       "      <td>[Drama]</td>\n",
       "    </tr>\n",
       "    <tr>\n",
       "      <th>108536</th>\n",
       "      <td>tt9914972</td>\n",
       "      <td>movie</td>\n",
       "      <td>Blind Ambition</td>\n",
       "      <td>Blind Ambition</td>\n",
       "      <td>False</td>\n",
       "      <td>2021-01-01</td>\n",
       "      <td>96.0</td>\n",
       "      <td>7.1</td>\n",
       "      <td>315</td>\n",
       "      <td>nm5293094,nm5292318,nm6760227,nm0743916</td>\n",
       "      <td>...</td>\n",
       "      <td>['AU']</td>\n",
       "      <td>124375</td>\n",
       "      <td>['sn', 'fr', 'en']</td>\n",
       "      <td>7.600</td>\n",
       "      <td>5</td>\n",
       "      <td>['Third Man Films']</td>\n",
       "      <td>NaN</td>\n",
       "      <td>NaN</td>\n",
       "      <td>[Robert Coe, Warwick Ross]</td>\n",
       "      <td>[Documentary]</td>\n",
       "    </tr>\n",
       "    <tr>\n",
       "      <th>108538</th>\n",
       "      <td>tt9916190</td>\n",
       "      <td>movie</td>\n",
       "      <td>Safeguard</td>\n",
       "      <td>Safeguard</td>\n",
       "      <td>False</td>\n",
       "      <td>2020-01-01</td>\n",
       "      <td>95.0</td>\n",
       "      <td>3.6</td>\n",
       "      <td>262</td>\n",
       "      <td>nm7308376</td>\n",
       "      <td>...</td>\n",
       "      <td>['GB']</td>\n",
       "      <td>0</td>\n",
       "      <td>['en', 'ja']</td>\n",
       "      <td>6.500</td>\n",
       "      <td>2</td>\n",
       "      <td>[]</td>\n",
       "      <td>[Patrick Gallagher, Akie Kotabe, Takayuki Suzu...</td>\n",
       "      <td>[1, 2, 3, 4, 5, 6, 7, 8, 9, 10]</td>\n",
       "      <td>[Fraser Precious]</td>\n",
       "      <td>[Action,Adventure,Thriller]</td>\n",
       "    </tr>\n",
       "  </tbody>\n",
       "</table>\n",
       "<p>60062 rows × 25 columns</p>\n",
       "</div>"
      ],
      "text/plain": [
       "           tconst titleType                primaryTitle  \\\n",
       "0       tt0015724     movie               Dama de noche   \n",
       "1       tt0035423     movie              Kate & Leopold   \n",
       "2       tt0040844     short        Crossroads of Laredo   \n",
       "3       tt0050396     short               Final Curtain   \n",
       "9       tt0069049     movie  The Other Side of the Wind   \n",
       "...           ...       ...                         ...   \n",
       "108526  tt9909186     short                      Stucco   \n",
       "108527  tt9909596     short                    Cake Day   \n",
       "108532  tt9913660     movie                  No Apology   \n",
       "108536  tt9914972     movie              Blind Ambition   \n",
       "108538  tt9916190     movie                   Safeguard   \n",
       "\n",
       "                     originalTitle  isAdult  startYear  runtimeMinutes  \\\n",
       "0                    Dama de noche    False 1993-01-01           102.0   \n",
       "1                   Kate & Leopold    False 2001-01-01           118.0   \n",
       "2             Crossroads of Laredo    False 1995-01-01            30.0   \n",
       "3                    Final Curtain    False 2012-01-01            22.0   \n",
       "9       The Other Side of the Wind    False 2018-01-01           122.0   \n",
       "...                            ...      ...        ...             ...   \n",
       "108526                      Stucco    False 2019-01-01            18.0   \n",
       "108527                    Cake Day    False 2020-01-01            15.0   \n",
       "108532                  No Apology    False 2019-01-01           102.0   \n",
       "108536              Blind Ambition    False 2021-01-01            96.0   \n",
       "108538                   Safeguard    False 2020-01-01            95.0   \n",
       "\n",
       "        averageRating  numVotes                                  writers  ...  \\\n",
       "0                 6.3        31                      nm0529960,nm1597742  ...   \n",
       "1                 6.4     90646                      nm0737216,nm0003506  ...   \n",
       "2                 3.4       199                      nm0298215,nm0000248  ...   \n",
       "3                 4.6       247                                nm0000248  ...   \n",
       "9                 6.7      8189                      nm0000080,nm0462648  ...   \n",
       "...               ...       ...                                      ...  ...   \n",
       "108526            5.7       566                     nm1232470,nm10535092  ...   \n",
       "108527            7.2        26                                nm3916458  ...   \n",
       "108532            5.4        75                                nm3014403  ...   \n",
       "108536            7.1       315  nm5293094,nm5292318,nm6760227,nm0743916  ...   \n",
       "108538            3.6       262                                nm7308376  ...   \n",
       "\n",
       "        production_countries   revenue    spoken_languages  vote_average  \\\n",
       "0                     ['MX']         0                  []         7.000   \n",
       "1                     ['US']  76019048  ['en', 'fr', 'it']         6.326   \n",
       "2                         []         0                  []         2.800   \n",
       "3                     ['US']         0              ['en']         5.100   \n",
       "9         ['FR', 'IR', 'US']         0              ['en']         6.700   \n",
       "...                      ...       ...                 ...           ...   \n",
       "108526                    []         0              ['en']         5.200   \n",
       "108527                    []         0              ['en']         8.000   \n",
       "108532                    []         0              ['en']         8.000   \n",
       "108536                ['AU']    124375  ['sn', 'fr', 'en']         7.600   \n",
       "108538                ['GB']         0        ['en', 'ja']         6.500   \n",
       "\n",
       "       vote_count                         production_companies_name  \\\n",
       "0               6  ['Centro de Capacitación Cinematográfica (CCC)']   \n",
       "1            1187                    ['Konrad Pictures', 'Miramax']   \n",
       "2               5                          ['Wood-Thomas Pictures']   \n",
       "3              11                                                []   \n",
       "9             175             ['SACI', \"Les Films de l'Astrophore\"]   \n",
       "...           ...                                               ...   \n",
       "108526         21                                                []   \n",
       "108527          2                                                []   \n",
       "108532          1                                                []   \n",
       "108536          5                               ['Third Man Films']   \n",
       "108538          2                                                []   \n",
       "\n",
       "                                              actors_name  \\\n",
       "0       [Rafael Sánchez Navarro, Cecilia Toussaint, Mi...   \n",
       "1       [Meg Ryan, Hugh Jackman, Liev Schreiber, Breck...   \n",
       "2       [Edward D. Wood Jr., Duke Moore, Don Nagel, Ru...   \n",
       "3           [Duke Moore, Dudley Manlove, Jeannie Stevens]   \n",
       "9       [John Huston, Oja Kodar, Peter Bogdanovich, Su...   \n",
       "...                                                   ...   \n",
       "108526  [Janina Gavankar, Michael Ealy, Colton Haynes,...   \n",
       "108527  [Blair Buchholz, Joe Buffalo, Cameron Crosby, ...   \n",
       "108532  [Lydia Adair, Owen Bishop, Pierce Briggs, Kiar...   \n",
       "108536                                                NaN   \n",
       "108538  [Patrick Gallagher, Akie Kotabe, Takayuki Suzu...   \n",
       "\n",
       "                       rang_acteur_film                      directors_name  \\\n",
       "0       [1, 2, 3, 4, 5, 6, 7, 8, 9, 10]                 [Eva López Sánchez]   \n",
       "1       [1, 2, 3, 4, 5, 6, 7, 8, 9, 10]                     [James Mangold]   \n",
       "2       [1, 2, 3, 4, 5, 6, 7, 8, 9, 10]                [Edward D. Wood Jr.]   \n",
       "3                             [1, 2, 3]                [Edward D. Wood Jr.]   \n",
       "9       [1, 2, 3, 4, 5, 6, 7, 8, 9, 10]                      [Orson Welles]   \n",
       "...                                 ...                                 ...   \n",
       "108526  [1, 2, 3, 4, 5, 6, 7, 8, 9, 10]  [Janina Gavankar, Russo Schelling]   \n",
       "108527  [1, 2, 3, 4, 5, 6, 7, 8, 9, 10]                    [Phillip Thomas]   \n",
       "108532  [1, 2, 3, 4, 5, 6, 7, 8, 9, 10]                     [Gilbert Allan]   \n",
       "108536                              NaN          [Robert Coe, Warwick Ross]   \n",
       "108538  [1, 2, 3, 4, 5, 6, 7, 8, 9, 10]                   [Fraser Precious]   \n",
       "\n",
       "                             genres  \n",
       "0           [Drama,Mystery,Romance]  \n",
       "1          [Comedy,Fantasy,Romance]  \n",
       "2                   [Short,Western]  \n",
       "3                    [Horror,Short]  \n",
       "9                           [Drama]  \n",
       "...                             ...  \n",
       "108526               [Horror,Short]  \n",
       "108527                [Drama,Short]  \n",
       "108532                      [Drama]  \n",
       "108536                [Documentary]  \n",
       "108538  [Action,Adventure,Thriller]  \n",
       "\n",
       "[60062 rows x 25 columns]"
      ]
     },
     "execution_count": 281,
     "metadata": {},
     "output_type": "execute_result"
    }
   ],
   "source": [
    "movie3"
   ]
  },
  {
   "cell_type": "code",
   "execution_count": 282,
   "metadata": {},
   "outputs": [
    {
     "data": {
      "text/html": [
       "<div>\n",
       "<style scoped>\n",
       "    .dataframe tbody tr th:only-of-type {\n",
       "        vertical-align: middle;\n",
       "    }\n",
       "\n",
       "    .dataframe tbody tr th {\n",
       "        vertical-align: top;\n",
       "    }\n",
       "\n",
       "    .dataframe thead th {\n",
       "        text-align: right;\n",
       "    }\n",
       "</style>\n",
       "<table border=\"1\" class=\"dataframe\">\n",
       "  <thead>\n",
       "    <tr style=\"text-align: right;\">\n",
       "      <th></th>\n",
       "      <th>tconst</th>\n",
       "      <th>ordering</th>\n",
       "      <th>nconst</th>\n",
       "      <th>category</th>\n",
       "      <th>primaryName</th>\n",
       "      <th>birthYear</th>\n",
       "      <th>knownForTitles</th>\n",
       "    </tr>\n",
       "  </thead>\n",
       "  <tbody>\n",
       "    <tr>\n",
       "      <th>146998</th>\n",
       "      <td>tt0015724</td>\n",
       "      <td>12</td>\n",
       "      <td>nm0529960</td>\n",
       "      <td>writer</td>\n",
       "      <td>Eva López Sánchez</td>\n",
       "      <td>1954.0</td>\n",
       "      <td>tt0151790,tt0314085,tt0015724,tt1139666</td>\n",
       "    </tr>\n",
       "    <tr>\n",
       "      <th>146999</th>\n",
       "      <td>tt0015724</td>\n",
       "      <td>13</td>\n",
       "      <td>nm1597742</td>\n",
       "      <td>writer</td>\n",
       "      <td>David Martin del Campo</td>\n",
       "      <td>1952.0</td>\n",
       "      <td>tt0015724,tt1100057</td>\n",
       "    </tr>\n",
       "    <tr>\n",
       "      <th>418486</th>\n",
       "      <td>tt0035423</td>\n",
       "      <td>12</td>\n",
       "      <td>nm0737216</td>\n",
       "      <td>writer</td>\n",
       "      <td>Steven Rogers</td>\n",
       "      <td>NaN</td>\n",
       "      <td>tt5580036,tt0119313,tt2279339,tt0120686</td>\n",
       "    </tr>\n",
       "    <tr>\n",
       "      <th>418487</th>\n",
       "      <td>tt0035423</td>\n",
       "      <td>13</td>\n",
       "      <td>nm0003506</td>\n",
       "      <td>writer</td>\n",
       "      <td>James Mangold</td>\n",
       "      <td>1963.0</td>\n",
       "      <td>tt3315342,tt1950186,tt0358273,tt1462764</td>\n",
       "    </tr>\n",
       "    <tr>\n",
       "      <th>499456</th>\n",
       "      <td>tt0040844</td>\n",
       "      <td>12</td>\n",
       "      <td>nm0000248</td>\n",
       "      <td>writer</td>\n",
       "      <td>Edward D. Wood Jr.</td>\n",
       "      <td>1924.0</td>\n",
       "      <td>tt0052077,tt0045826,tt0067479,tt0047127</td>\n",
       "    </tr>\n",
       "    <tr>\n",
       "      <th>...</th>\n",
       "      <td>...</td>\n",
       "      <td>...</td>\n",
       "      <td>...</td>\n",
       "      <td>...</td>\n",
       "      <td>...</td>\n",
       "      <td>...</td>\n",
       "      <td>...</td>\n",
       "    </tr>\n",
       "    <tr>\n",
       "      <th>89432681</th>\n",
       "      <td>tt9916270</td>\n",
       "      <td>12</td>\n",
       "      <td>nm1480867</td>\n",
       "      <td>writer</td>\n",
       "      <td>Giacomo Cimini</td>\n",
       "      <td>1977.0</td>\n",
       "      <td>tt3215822,tt1433140,tt9916270,tt0819106</td>\n",
       "    </tr>\n",
       "    <tr>\n",
       "      <th>89432682</th>\n",
       "      <td>tt9916270</td>\n",
       "      <td>13</td>\n",
       "      <td>nm10538402</td>\n",
       "      <td>writer</td>\n",
       "      <td>Lorenzo Collalti</td>\n",
       "      <td>NaN</td>\n",
       "      <td>tt9916270</td>\n",
       "    </tr>\n",
       "    <tr>\n",
       "      <th>89432683</th>\n",
       "      <td>tt9916270</td>\n",
       "      <td>14</td>\n",
       "      <td>nm5584269</td>\n",
       "      <td>writer</td>\n",
       "      <td>Alessandro Regaldo</td>\n",
       "      <td>NaN</td>\n",
       "      <td>tt32919874,tt33074003,tt22681118,tt33074070</td>\n",
       "    </tr>\n",
       "    <tr>\n",
       "      <th>89432987</th>\n",
       "      <td>tt9916362</td>\n",
       "      <td>12</td>\n",
       "      <td>nm1893148</td>\n",
       "      <td>writer</td>\n",
       "      <td>Pablo Agüero</td>\n",
       "      <td>1977.0</td>\n",
       "      <td>tt2953182,tt0800964,tt1403041,tt1143153</td>\n",
       "    </tr>\n",
       "    <tr>\n",
       "      <th>89432988</th>\n",
       "      <td>tt9916362</td>\n",
       "      <td>13</td>\n",
       "      <td>nm3471432</td>\n",
       "      <td>writer</td>\n",
       "      <td>Katell Guillou</td>\n",
       "      <td>NaN</td>\n",
       "      <td>tt9916362,tt12339398,tt33254419,tt8368232</td>\n",
       "    </tr>\n",
       "  </tbody>\n",
       "</table>\n",
       "<p>190203 rows × 7 columns</p>\n",
       "</div>"
      ],
      "text/plain": [
       "             tconst  ordering      nconst category             primaryName  \\\n",
       "146998    tt0015724        12   nm0529960   writer       Eva López Sánchez   \n",
       "146999    tt0015724        13   nm1597742   writer  David Martin del Campo   \n",
       "418486    tt0035423        12   nm0737216   writer           Steven Rogers   \n",
       "418487    tt0035423        13   nm0003506   writer           James Mangold   \n",
       "499456    tt0040844        12   nm0000248   writer      Edward D. Wood Jr.   \n",
       "...             ...       ...         ...      ...                     ...   \n",
       "89432681  tt9916270        12   nm1480867   writer          Giacomo Cimini   \n",
       "89432682  tt9916270        13  nm10538402   writer        Lorenzo Collalti   \n",
       "89432683  tt9916270        14   nm5584269   writer      Alessandro Regaldo   \n",
       "89432987  tt9916362        12   nm1893148   writer            Pablo Agüero   \n",
       "89432988  tt9916362        13   nm3471432   writer          Katell Guillou   \n",
       "\n",
       "          birthYear                               knownForTitles  \n",
       "146998       1954.0      tt0151790,tt0314085,tt0015724,tt1139666  \n",
       "146999       1952.0                          tt0015724,tt1100057  \n",
       "418486          NaN      tt5580036,tt0119313,tt2279339,tt0120686  \n",
       "418487       1963.0      tt3315342,tt1950186,tt0358273,tt1462764  \n",
       "499456       1924.0      tt0052077,tt0045826,tt0067479,tt0047127  \n",
       "...             ...                                          ...  \n",
       "89432681     1977.0      tt3215822,tt1433140,tt9916270,tt0819106  \n",
       "89432682        NaN                                    tt9916270  \n",
       "89432683        NaN  tt32919874,tt33074003,tt22681118,tt33074070  \n",
       "89432987     1977.0      tt2953182,tt0800964,tt1403041,tt1143153  \n",
       "89432988        NaN    tt9916362,tt12339398,tt33254419,tt8368232  \n",
       "\n",
       "[190203 rows x 7 columns]"
      ]
     },
     "execution_count": 282,
     "metadata": {},
     "output_type": "execute_result"
    }
   ],
   "source": [
    "writers = principals_names3[principals_names3['category'] == 'writer']\n",
    "writers"
   ]
  },
  {
   "cell_type": "code",
   "execution_count": 283,
   "metadata": {},
   "outputs": [
    {
     "data": {
      "text/html": [
       "<div>\n",
       "<style scoped>\n",
       "    .dataframe tbody tr th:only-of-type {\n",
       "        vertical-align: middle;\n",
       "    }\n",
       "\n",
       "    .dataframe tbody tr th {\n",
       "        vertical-align: top;\n",
       "    }\n",
       "\n",
       "    .dataframe thead th {\n",
       "        text-align: right;\n",
       "    }\n",
       "</style>\n",
       "<table border=\"1\" class=\"dataframe\">\n",
       "  <thead>\n",
       "    <tr style=\"text-align: right;\">\n",
       "      <th></th>\n",
       "      <th>tconst</th>\n",
       "      <th>primaryName</th>\n",
       "    </tr>\n",
       "  </thead>\n",
       "  <tbody>\n",
       "    <tr>\n",
       "      <th>0</th>\n",
       "      <td>tt0015724</td>\n",
       "      <td>[Eva López Sánchez, David Martin del Campo]</td>\n",
       "    </tr>\n",
       "    <tr>\n",
       "      <th>1</th>\n",
       "      <td>tt0035423</td>\n",
       "      <td>[Steven Rogers, James Mangold]</td>\n",
       "    </tr>\n",
       "    <tr>\n",
       "      <th>2</th>\n",
       "      <td>tt0040844</td>\n",
       "      <td>[Edward D. Wood Jr.]</td>\n",
       "    </tr>\n",
       "    <tr>\n",
       "      <th>3</th>\n",
       "      <td>tt0050396</td>\n",
       "      <td>[Edward D. Wood Jr.]</td>\n",
       "    </tr>\n",
       "    <tr>\n",
       "      <th>4</th>\n",
       "      <td>tt0059097</td>\n",
       "      <td>[Manfred Freitag, Joachim Nestler, Dieter Scha...</td>\n",
       "    </tr>\n",
       "    <tr>\n",
       "      <th>...</th>\n",
       "      <td>...</td>\n",
       "      <td>...</td>\n",
       "    </tr>\n",
       "    <tr>\n",
       "      <th>107569</th>\n",
       "      <td>tt9914972</td>\n",
       "      <td>[Robert Coe, Paul Murphy, Madeleine Ross, Warw...</td>\n",
       "    </tr>\n",
       "    <tr>\n",
       "      <th>107570</th>\n",
       "      <td>tt9915946</td>\n",
       "      <td>[Luis Ospina]</td>\n",
       "    </tr>\n",
       "    <tr>\n",
       "      <th>107571</th>\n",
       "      <td>tt9916190</td>\n",
       "      <td>[Fraser Precious]</td>\n",
       "    </tr>\n",
       "    <tr>\n",
       "      <th>107572</th>\n",
       "      <td>tt9916270</td>\n",
       "      <td>[Giacomo Cimini, Lorenzo Collalti, Alessandro ...</td>\n",
       "    </tr>\n",
       "    <tr>\n",
       "      <th>107573</th>\n",
       "      <td>tt9916362</td>\n",
       "      <td>[Pablo Agüero, Katell Guillou]</td>\n",
       "    </tr>\n",
       "  </tbody>\n",
       "</table>\n",
       "<p>107574 rows × 2 columns</p>\n",
       "</div>"
      ],
      "text/plain": [
       "           tconst                                        primaryName\n",
       "0       tt0015724        [Eva López Sánchez, David Martin del Campo]\n",
       "1       tt0035423                     [Steven Rogers, James Mangold]\n",
       "2       tt0040844                               [Edward D. Wood Jr.]\n",
       "3       tt0050396                               [Edward D. Wood Jr.]\n",
       "4       tt0059097  [Manfred Freitag, Joachim Nestler, Dieter Scha...\n",
       "...           ...                                                ...\n",
       "107569  tt9914972  [Robert Coe, Paul Murphy, Madeleine Ross, Warw...\n",
       "107570  tt9915946                                      [Luis Ospina]\n",
       "107571  tt9916190                                  [Fraser Precious]\n",
       "107572  tt9916270  [Giacomo Cimini, Lorenzo Collalti, Alessandro ...\n",
       "107573  tt9916362                     [Pablo Agüero, Katell Guillou]\n",
       "\n",
       "[107574 rows x 2 columns]"
      ]
     },
     "execution_count": 283,
     "metadata": {},
     "output_type": "execute_result"
    }
   ],
   "source": [
    "writers_name = writers.groupby('tconst')['primaryName'].apply(list).reset_index()\n",
    "writers_name"
   ]
  },
  {
   "cell_type": "code",
   "execution_count": 284,
   "metadata": {},
   "outputs": [
    {
     "data": {
      "text/html": [
       "<div>\n",
       "<style scoped>\n",
       "    .dataframe tbody tr th:only-of-type {\n",
       "        vertical-align: middle;\n",
       "    }\n",
       "\n",
       "    .dataframe tbody tr th {\n",
       "        vertical-align: top;\n",
       "    }\n",
       "\n",
       "    .dataframe thead th {\n",
       "        text-align: right;\n",
       "    }\n",
       "</style>\n",
       "<table border=\"1\" class=\"dataframe\">\n",
       "  <thead>\n",
       "    <tr style=\"text-align: right;\">\n",
       "      <th></th>\n",
       "      <th>tconst</th>\n",
       "      <th>titleType</th>\n",
       "      <th>primaryTitle</th>\n",
       "      <th>originalTitle</th>\n",
       "      <th>isAdult</th>\n",
       "      <th>startYear</th>\n",
       "      <th>runtimeMinutes</th>\n",
       "      <th>averageRating</th>\n",
       "      <th>numVotes</th>\n",
       "      <th>writers</th>\n",
       "      <th>...</th>\n",
       "      <th>revenue</th>\n",
       "      <th>spoken_languages</th>\n",
       "      <th>vote_average</th>\n",
       "      <th>vote_count</th>\n",
       "      <th>production_companies_name</th>\n",
       "      <th>actors_name</th>\n",
       "      <th>rang_acteur_film</th>\n",
       "      <th>directors_name</th>\n",
       "      <th>genres</th>\n",
       "      <th>primaryName</th>\n",
       "    </tr>\n",
       "  </thead>\n",
       "  <tbody>\n",
       "    <tr>\n",
       "      <th>0</th>\n",
       "      <td>tt0015724</td>\n",
       "      <td>movie</td>\n",
       "      <td>Dama de noche</td>\n",
       "      <td>Dama de noche</td>\n",
       "      <td>False</td>\n",
       "      <td>1993-01-01</td>\n",
       "      <td>102.0</td>\n",
       "      <td>6.3</td>\n",
       "      <td>31</td>\n",
       "      <td>nm0529960,nm1597742</td>\n",
       "      <td>...</td>\n",
       "      <td>0</td>\n",
       "      <td>[]</td>\n",
       "      <td>7.000</td>\n",
       "      <td>6</td>\n",
       "      <td>['Centro de Capacitación Cinematográfica (CCC)']</td>\n",
       "      <td>[Rafael Sánchez Navarro, Cecilia Toussaint, Mi...</td>\n",
       "      <td>[1, 2, 3, 4, 5, 6, 7, 8, 9, 10]</td>\n",
       "      <td>[Eva López Sánchez]</td>\n",
       "      <td>[Drama,Mystery,Romance]</td>\n",
       "      <td>[Eva López Sánchez, David Martin del Campo]</td>\n",
       "    </tr>\n",
       "    <tr>\n",
       "      <th>1</th>\n",
       "      <td>tt0035423</td>\n",
       "      <td>movie</td>\n",
       "      <td>Kate &amp; Leopold</td>\n",
       "      <td>Kate &amp; Leopold</td>\n",
       "      <td>False</td>\n",
       "      <td>2001-01-01</td>\n",
       "      <td>118.0</td>\n",
       "      <td>6.4</td>\n",
       "      <td>90646</td>\n",
       "      <td>nm0737216,nm0003506</td>\n",
       "      <td>...</td>\n",
       "      <td>76019048</td>\n",
       "      <td>['en', 'fr', 'it']</td>\n",
       "      <td>6.326</td>\n",
       "      <td>1187</td>\n",
       "      <td>['Konrad Pictures', 'Miramax']</td>\n",
       "      <td>[Meg Ryan, Hugh Jackman, Liev Schreiber, Breck...</td>\n",
       "      <td>[1, 2, 3, 4, 5, 6, 7, 8, 9, 10]</td>\n",
       "      <td>[James Mangold]</td>\n",
       "      <td>[Comedy,Fantasy,Romance]</td>\n",
       "      <td>[Steven Rogers, James Mangold]</td>\n",
       "    </tr>\n",
       "    <tr>\n",
       "      <th>2</th>\n",
       "      <td>tt0040844</td>\n",
       "      <td>short</td>\n",
       "      <td>Crossroads of Laredo</td>\n",
       "      <td>Crossroads of Laredo</td>\n",
       "      <td>False</td>\n",
       "      <td>1995-01-01</td>\n",
       "      <td>30.0</td>\n",
       "      <td>3.4</td>\n",
       "      <td>199</td>\n",
       "      <td>nm0298215,nm0000248</td>\n",
       "      <td>...</td>\n",
       "      <td>0</td>\n",
       "      <td>[]</td>\n",
       "      <td>2.800</td>\n",
       "      <td>5</td>\n",
       "      <td>['Wood-Thomas Pictures']</td>\n",
       "      <td>[Edward D. Wood Jr., Duke Moore, Don Nagel, Ru...</td>\n",
       "      <td>[1, 2, 3, 4, 5, 6, 7, 8, 9, 10]</td>\n",
       "      <td>[Edward D. Wood Jr.]</td>\n",
       "      <td>[Short,Western]</td>\n",
       "      <td>[Edward D. Wood Jr.]</td>\n",
       "    </tr>\n",
       "  </tbody>\n",
       "</table>\n",
       "<p>3 rows × 26 columns</p>\n",
       "</div>"
      ],
      "text/plain": [
       "      tconst titleType          primaryTitle         originalTitle  isAdult  \\\n",
       "0  tt0015724     movie         Dama de noche         Dama de noche    False   \n",
       "1  tt0035423     movie        Kate & Leopold        Kate & Leopold    False   \n",
       "2  tt0040844     short  Crossroads of Laredo  Crossroads of Laredo    False   \n",
       "\n",
       "   startYear  runtimeMinutes  averageRating  numVotes              writers  \\\n",
       "0 1993-01-01           102.0            6.3        31  nm0529960,nm1597742   \n",
       "1 2001-01-01           118.0            6.4     90646  nm0737216,nm0003506   \n",
       "2 1995-01-01            30.0            3.4       199  nm0298215,nm0000248   \n",
       "\n",
       "   ...   revenue    spoken_languages vote_average  vote_count  \\\n",
       "0  ...         0                  []        7.000           6   \n",
       "1  ...  76019048  ['en', 'fr', 'it']        6.326        1187   \n",
       "2  ...         0                  []        2.800           5   \n",
       "\n",
       "                          production_companies_name  \\\n",
       "0  ['Centro de Capacitación Cinematográfica (CCC)']   \n",
       "1                    ['Konrad Pictures', 'Miramax']   \n",
       "2                          ['Wood-Thomas Pictures']   \n",
       "\n",
       "                                         actors_name  \\\n",
       "0  [Rafael Sánchez Navarro, Cecilia Toussaint, Mi...   \n",
       "1  [Meg Ryan, Hugh Jackman, Liev Schreiber, Breck...   \n",
       "2  [Edward D. Wood Jr., Duke Moore, Don Nagel, Ru...   \n",
       "\n",
       "                  rang_acteur_film        directors_name  \\\n",
       "0  [1, 2, 3, 4, 5, 6, 7, 8, 9, 10]   [Eva López Sánchez]   \n",
       "1  [1, 2, 3, 4, 5, 6, 7, 8, 9, 10]       [James Mangold]   \n",
       "2  [1, 2, 3, 4, 5, 6, 7, 8, 9, 10]  [Edward D. Wood Jr.]   \n",
       "\n",
       "                     genres                                  primaryName  \n",
       "0   [Drama,Mystery,Romance]  [Eva López Sánchez, David Martin del Campo]  \n",
       "1  [Comedy,Fantasy,Romance]               [Steven Rogers, James Mangold]  \n",
       "2           [Short,Western]                         [Edward D. Wood Jr.]  \n",
       "\n",
       "[3 rows x 26 columns]"
      ]
     },
     "execution_count": 284,
     "metadata": {},
     "output_type": "execute_result"
    }
   ],
   "source": [
    "movies4 = movie3.merge(writers_name, on='tconst', how='left')\n",
    "movies4.head(3)"
   ]
  },
  {
   "cell_type": "code",
   "execution_count": 285,
   "metadata": {},
   "outputs": [
    {
     "data": {
      "text/plain": [
       "(60062, 26)"
      ]
     },
     "execution_count": 285,
     "metadata": {},
     "output_type": "execute_result"
    }
   ],
   "source": [
    "movies4.shape"
   ]
  },
  {
   "cell_type": "code",
   "execution_count": 286,
   "metadata": {},
   "outputs": [
    {
     "data": {
      "text/plain": [
       "108541"
      ]
     },
     "execution_count": 286,
     "metadata": {},
     "output_type": "execute_result"
    }
   ],
   "source": [
    "principals_names3['tconst'].nunique()"
   ]
  },
  {
   "cell_type": "code",
   "execution_count": 287,
   "metadata": {},
   "outputs": [
    {
     "data": {
      "text/plain": [
       "60062"
      ]
     },
     "execution_count": 287,
     "metadata": {},
     "output_type": "execute_result"
    }
   ],
   "source": [
    "principals_names3 = principals_names3.loc[principals_names3['tconst'].isin(movies4['tconst'])]\n",
    "principals_names3['tconst'].nunique()"
   ]
  },
  {
   "cell_type": "code",
   "execution_count": 288,
   "metadata": {},
   "outputs": [
    {
     "data": {
      "text/html": [
       "<div>\n",
       "<style scoped>\n",
       "    .dataframe tbody tr th:only-of-type {\n",
       "        vertical-align: middle;\n",
       "    }\n",
       "\n",
       "    .dataframe tbody tr th {\n",
       "        vertical-align: top;\n",
       "    }\n",
       "\n",
       "    .dataframe thead th {\n",
       "        text-align: right;\n",
       "    }\n",
       "</style>\n",
       "<table border=\"1\" class=\"dataframe\">\n",
       "  <thead>\n",
       "    <tr style=\"text-align: right;\">\n",
       "      <th></th>\n",
       "      <th>tconst</th>\n",
       "      <th>titleType</th>\n",
       "      <th>primaryTitle</th>\n",
       "      <th>originalTitle</th>\n",
       "      <th>isAdult</th>\n",
       "      <th>startYear</th>\n",
       "      <th>runtimeMinutes</th>\n",
       "      <th>averageRating</th>\n",
       "      <th>numVotes</th>\n",
       "      <th>writers</th>\n",
       "      <th>...</th>\n",
       "      <th>spoken_languages</th>\n",
       "      <th>vote_average</th>\n",
       "      <th>vote_count</th>\n",
       "      <th>production_companies_name</th>\n",
       "      <th>actors_name</th>\n",
       "      <th>rang_acteur_film</th>\n",
       "      <th>directors_name</th>\n",
       "      <th>genres</th>\n",
       "      <th>primaryName</th>\n",
       "      <th>periode</th>\n",
       "    </tr>\n",
       "  </thead>\n",
       "  <tbody>\n",
       "    <tr>\n",
       "      <th>15333</th>\n",
       "      <td>tt0760319</td>\n",
       "      <td>movie</td>\n",
       "      <td>Night Feeders</td>\n",
       "      <td>Night Feeders</td>\n",
       "      <td>False</td>\n",
       "      <td>2006-01-01</td>\n",
       "      <td>83.0</td>\n",
       "      <td>4.6</td>\n",
       "      <td>420</td>\n",
       "      <td>nm0253953</td>\n",
       "      <td>...</td>\n",
       "      <td>['en']</td>\n",
       "      <td>3.6</td>\n",
       "      <td>8</td>\n",
       "      <td>['Synthetic Fur Productions', 'Allumination Fi...</td>\n",
       "      <td>[Donnie Evans, Brett Gentile, Mike Monzitta, M...</td>\n",
       "      <td>[1, 2, 3, 4, 5, 6, 7, 8, 9, 10]</td>\n",
       "      <td>[Jet Eller]</td>\n",
       "      <td>[Horror]</td>\n",
       "      <td>[Jet Eller]</td>\n",
       "      <td>2000</td>\n",
       "    </tr>\n",
       "    <tr>\n",
       "      <th>39219</th>\n",
       "      <td>tt2552316</td>\n",
       "      <td>movie</td>\n",
       "      <td>Sagrada: The Mystery of Creation</td>\n",
       "      <td>Sagrada: El misteri de la creació</td>\n",
       "      <td>False</td>\n",
       "      <td>2012-01-01</td>\n",
       "      <td>89.0</td>\n",
       "      <td>6.5</td>\n",
       "      <td>252</td>\n",
       "      <td>nm0369442</td>\n",
       "      <td>...</td>\n",
       "      <td>['ca', 'en', 'fr', 'es']</td>\n",
       "      <td>5.7</td>\n",
       "      <td>3</td>\n",
       "      <td>[]</td>\n",
       "      <td>[Jordi Bonet i Armengol, Etsuro Sotoo, Anna Hu...</td>\n",
       "      <td>[1, 2, 3, 4]</td>\n",
       "      <td>[Stefan Haupt]</td>\n",
       "      <td>[Documentary]</td>\n",
       "      <td>[Stefan Haupt]</td>\n",
       "      <td>2010</td>\n",
       "    </tr>\n",
       "    <tr>\n",
       "      <th>44488</th>\n",
       "      <td>tt3748354</td>\n",
       "      <td>movie</td>\n",
       "      <td>Prescient</td>\n",
       "      <td>Prescient</td>\n",
       "      <td>False</td>\n",
       "      <td>2015-01-01</td>\n",
       "      <td>81.0</td>\n",
       "      <td>5.0</td>\n",
       "      <td>74</td>\n",
       "      <td>nm1749939,nm4495568</td>\n",
       "      <td>...</td>\n",
       "      <td>[]</td>\n",
       "      <td>4.2</td>\n",
       "      <td>5</td>\n",
       "      <td>['Beautiful River Entertainment', 'Left Hand S...</td>\n",
       "      <td>[Michael Piccirilli, Pamelyn Chee, Pamelyn Che...</td>\n",
       "      <td>[1, 2, 3, 4, 5, 6, 7, 8, 9, 10, 11]</td>\n",
       "      <td>[Zi R. Lem]</td>\n",
       "      <td>[Drama,Sci-Fi,Thriller]</td>\n",
       "      <td>[Zi R. Lem, John Hannon]</td>\n",
       "      <td>2010</td>\n",
       "    </tr>\n",
       "    <tr>\n",
       "      <th>19112</th>\n",
       "      <td>tt10706724</td>\n",
       "      <td>movie</td>\n",
       "      <td>Afflatus</td>\n",
       "      <td>Afflatus</td>\n",
       "      <td>False</td>\n",
       "      <td>2019-01-01</td>\n",
       "      <td>59.0</td>\n",
       "      <td>7.6</td>\n",
       "      <td>10</td>\n",
       "      <td>nm10867989</td>\n",
       "      <td>...</td>\n",
       "      <td>['xx']</td>\n",
       "      <td>10.0</td>\n",
       "      <td>2</td>\n",
       "      <td>[]</td>\n",
       "      <td>NaN</td>\n",
       "      <td>NaN</td>\n",
       "      <td>[Peter Kovacs]</td>\n",
       "      <td>[Horror,Mystery]</td>\n",
       "      <td>[Peter Kovacs]</td>\n",
       "      <td>2010</td>\n",
       "    </tr>\n",
       "    <tr>\n",
       "      <th>6146</th>\n",
       "      <td>tt0160509</td>\n",
       "      <td>movie</td>\n",
       "      <td>Agnes Browne</td>\n",
       "      <td>Agnes Browne</td>\n",
       "      <td>False</td>\n",
       "      <td>1999-01-01</td>\n",
       "      <td>92.0</td>\n",
       "      <td>6.5</td>\n",
       "      <td>2252</td>\n",
       "      <td>nm0639983,nm0326089</td>\n",
       "      <td>...</td>\n",
       "      <td>['en']</td>\n",
       "      <td>6.5</td>\n",
       "      <td>27</td>\n",
       "      <td>[]</td>\n",
       "      <td>[Anjelica Huston, Marion O'Dwyer, Niall O'Shea...</td>\n",
       "      <td>[1, 2, 3, 4, 5, 6, 7, 8, 9, 10]</td>\n",
       "      <td>[Anjelica Huston]</td>\n",
       "      <td>[Comedy,Drama,Romance]</td>\n",
       "      <td>[Brendan O'Carroll, John Goldsmith]</td>\n",
       "      <td>1990</td>\n",
       "    </tr>\n",
       "  </tbody>\n",
       "</table>\n",
       "<p>5 rows × 27 columns</p>\n",
       "</div>"
      ],
      "text/plain": [
       "           tconst titleType                      primaryTitle  \\\n",
       "15333   tt0760319     movie                     Night Feeders   \n",
       "39219   tt2552316     movie  Sagrada: The Mystery of Creation   \n",
       "44488   tt3748354     movie                         Prescient   \n",
       "19112  tt10706724     movie                          Afflatus   \n",
       "6146    tt0160509     movie                      Agnes Browne   \n",
       "\n",
       "                           originalTitle  isAdult  startYear  runtimeMinutes  \\\n",
       "15333                      Night Feeders    False 2006-01-01            83.0   \n",
       "39219  Sagrada: El misteri de la creació    False 2012-01-01            89.0   \n",
       "44488                          Prescient    False 2015-01-01            81.0   \n",
       "19112                           Afflatus    False 2019-01-01            59.0   \n",
       "6146                        Agnes Browne    False 1999-01-01            92.0   \n",
       "\n",
       "       averageRating  numVotes              writers  ...  \\\n",
       "15333            4.6       420            nm0253953  ...   \n",
       "39219            6.5       252            nm0369442  ...   \n",
       "44488            5.0        74  nm1749939,nm4495568  ...   \n",
       "19112            7.6        10           nm10867989  ...   \n",
       "6146             6.5      2252  nm0639983,nm0326089  ...   \n",
       "\n",
       "               spoken_languages vote_average vote_count  \\\n",
       "15333                    ['en']          3.6          8   \n",
       "39219  ['ca', 'en', 'fr', 'es']          5.7          3   \n",
       "44488                        []          4.2          5   \n",
       "19112                    ['xx']         10.0          2   \n",
       "6146                     ['en']          6.5         27   \n",
       "\n",
       "                               production_companies_name  \\\n",
       "15333  ['Synthetic Fur Productions', 'Allumination Fi...   \n",
       "39219                                                 []   \n",
       "44488  ['Beautiful River Entertainment', 'Left Hand S...   \n",
       "19112                                                 []   \n",
       "6146                                                  []   \n",
       "\n",
       "                                             actors_name  \\\n",
       "15333  [Donnie Evans, Brett Gentile, Mike Monzitta, M...   \n",
       "39219  [Jordi Bonet i Armengol, Etsuro Sotoo, Anna Hu...   \n",
       "44488  [Michael Piccirilli, Pamelyn Chee, Pamelyn Che...   \n",
       "19112                                                NaN   \n",
       "6146   [Anjelica Huston, Marion O'Dwyer, Niall O'Shea...   \n",
       "\n",
       "                          rang_acteur_film     directors_name  \\\n",
       "15333      [1, 2, 3, 4, 5, 6, 7, 8, 9, 10]        [Jet Eller]   \n",
       "39219                         [1, 2, 3, 4]     [Stefan Haupt]   \n",
       "44488  [1, 2, 3, 4, 5, 6, 7, 8, 9, 10, 11]        [Zi R. Lem]   \n",
       "19112                                  NaN     [Peter Kovacs]   \n",
       "6146       [1, 2, 3, 4, 5, 6, 7, 8, 9, 10]  [Anjelica Huston]   \n",
       "\n",
       "                        genres                          primaryName  periode  \n",
       "15333                 [Horror]                          [Jet Eller]     2000  \n",
       "39219            [Documentary]                       [Stefan Haupt]     2010  \n",
       "44488  [Drama,Sci-Fi,Thriller]             [Zi R. Lem, John Hannon]     2010  \n",
       "19112         [Horror,Mystery]                       [Peter Kovacs]     2010  \n",
       "6146    [Comedy,Drama,Romance]  [Brendan O'Carroll, John Goldsmith]     1990  \n",
       "\n",
       "[5 rows x 27 columns]"
      ]
     },
     "execution_count": 288,
     "metadata": {},
     "output_type": "execute_result"
    }
   ],
   "source": [
    "def decenni(date):\n",
    "    date = str(date)\n",
    "    if date < '2000-01-01':\n",
    "        date = '1990'\n",
    "    elif date < '2010-01-01':\n",
    "        date = '2000'\n",
    "    elif date < '2020-01-01':\n",
    "        date = '2010'\n",
    "    else: \n",
    "        date = '2020'\n",
    "    return date\n",
    "\n",
    "movies4[\"periode\"] = movies4[\"startYear\"].apply(decenni)\n",
    "movies4.sample(5)\n"
   ]
  },
  {
   "cell_type": "code",
   "execution_count": 289,
   "metadata": {},
   "outputs": [
    {
     "data": {
      "text/plain": [
       "titleType\n",
       "movie       51239\n",
       "short        8668\n",
       "tvSeries      155\n",
       "Name: count, dtype: int64"
      ]
     },
     "execution_count": 289,
     "metadata": {},
     "output_type": "execute_result"
    }
   ],
   "source": [
    "movies4['titleType'].value_counts()"
   ]
  },
  {
   "cell_type": "code",
   "execution_count": 290,
   "metadata": {},
   "outputs": [
    {
     "name": "stdout",
     "output_type": "stream",
     "text": [
      "<class 'pandas.core.frame.DataFrame'>\n",
      "RangeIndex: 60062 entries, 0 to 60061\n",
      "Data columns (total 27 columns):\n",
      " #   Column                     Non-Null Count  Dtype         \n",
      "---  ------                     --------------  -----         \n",
      " 0   tconst                     60062 non-null  object        \n",
      " 1   titleType                  60062 non-null  object        \n",
      " 2   primaryTitle               60062 non-null  object        \n",
      " 3   originalTitle              60062 non-null  object        \n",
      " 4   isAdult                    60062 non-null  bool          \n",
      " 5   startYear                  60062 non-null  datetime64[ns]\n",
      " 6   runtimeMinutes             60062 non-null  float64       \n",
      " 7   averageRating              60062 non-null  float64       \n",
      " 8   numVotes                   60062 non-null  int64         \n",
      " 9   writers                    60062 non-null  object        \n",
      " 10  budget                     60062 non-null  int64         \n",
      " 11  original_language          60062 non-null  object        \n",
      " 12  overview                   60062 non-null  object        \n",
      " 13  popularity                 60062 non-null  float64       \n",
      " 14  poster_path                60062 non-null  object        \n",
      " 15  production_countries       60062 non-null  object        \n",
      " 16  revenue                    60062 non-null  int64         \n",
      " 17  spoken_languages           60062 non-null  object        \n",
      " 18  vote_average               60062 non-null  float64       \n",
      " 19  vote_count                 60062 non-null  int64         \n",
      " 20  production_companies_name  60062 non-null  object        \n",
      " 21  actors_name                54827 non-null  object        \n",
      " 22  rang_acteur_film           54827 non-null  object        \n",
      " 23  directors_name             59559 non-null  object        \n",
      " 24  genres                     60062 non-null  object        \n",
      " 25  primaryName                59335 non-null  object        \n",
      " 26  periode                    60062 non-null  object        \n",
      "dtypes: bool(1), datetime64[ns](1), float64(4), int64(4), object(17)\n",
      "memory usage: 12.0+ MB\n"
     ]
    }
   ],
   "source": [
    "movies4.info()"
   ]
  },
  {
   "cell_type": "code",
   "execution_count": 303,
   "metadata": {},
   "outputs": [],
   "source": [
    "df_movies4 = movies4\n",
    "\n",
    "def transfo_liste(x):\n",
    "  import ast\n",
    "  if isinstance(x, str):\n",
    "     return ast.literal_eval(x)\n",
    "  else:\n",
    "    return x\n",
    "\n",
    "df_movies4['genres_liste']= df_movies4['genres'].apply(transfo_liste)"
   ]
  },
  {
   "cell_type": "code",
   "execution_count": 304,
   "metadata": {},
   "outputs": [
    {
     "name": "stdout",
     "output_type": "stream",
     "text": [
      "<class 'pandas.core.frame.DataFrame'>\n",
      "RangeIndex: 60062 entries, 0 to 60061\n",
      "Data columns (total 28 columns):\n",
      " #   Column                     Non-Null Count  Dtype         \n",
      "---  ------                     --------------  -----         \n",
      " 0   tconst                     60062 non-null  object        \n",
      " 1   titleType                  60062 non-null  object        \n",
      " 2   primaryTitle               60062 non-null  object        \n",
      " 3   originalTitle              60062 non-null  object        \n",
      " 4   isAdult                    60062 non-null  bool          \n",
      " 5   startYear                  60062 non-null  datetime64[ns]\n",
      " 6   runtimeMinutes             60062 non-null  float64       \n",
      " 7   averageRating              60062 non-null  float64       \n",
      " 8   numVotes                   60062 non-null  int64         \n",
      " 9   writers                    60062 non-null  object        \n",
      " 10  budget                     60062 non-null  int64         \n",
      " 11  original_language          60062 non-null  object        \n",
      " 12  overview                   60062 non-null  object        \n",
      " 13  popularity                 60062 non-null  float64       \n",
      " 14  poster_path                60062 non-null  object        \n",
      " 15  production_countries       60062 non-null  object        \n",
      " 16  revenue                    60062 non-null  int64         \n",
      " 17  spoken_languages           60062 non-null  object        \n",
      " 18  vote_average               60062 non-null  float64       \n",
      " 19  vote_count                 60062 non-null  int64         \n",
      " 20  production_companies_name  60062 non-null  object        \n",
      " 21  actors_name                54827 non-null  object        \n",
      " 22  rang_acteur_film           54827 non-null  object        \n",
      " 23  directors_name             59559 non-null  object        \n",
      " 24  genres                     60062 non-null  object        \n",
      " 25  primaryName                59335 non-null  object        \n",
      " 26  periode                    60062 non-null  object        \n",
      " 27  genres_liste               60062 non-null  object        \n",
      "dtypes: bool(1), datetime64[ns](1), float64(4), int64(4), object(18)\n",
      "memory usage: 12.4+ MB\n"
     ]
    }
   ],
   "source": [
    "\n",
    "df_movies4.info()"
   ]
  },
  {
   "cell_type": "code",
   "execution_count": 293,
   "metadata": {},
   "outputs": [],
   "source": [
    " #df_movies4['genres_liste'] = df_movies4['genres_liste'].apply(lambda x: x[0].split(','))"
   ]
  },
  {
   "cell_type": "code",
   "execution_count": 294,
   "metadata": {},
   "outputs": [],
   "source": [
    "# tous_les_genres = set()\n",
    "# for genres in df_movies4['genres_liste']:\n",
    "#   tous_les_genres.update(genres)\n"
   ]
  },
  {
   "cell_type": "code",
   "execution_count": 295,
   "metadata": {},
   "outputs": [],
   "source": [
    "# for genre in tous_les_genres:\n",
    "#   df_movies4[f'genre_{genre}'] = df_movies4['genres_liste'].apply(lambda x: genre in x)\n",
    "\n",
    "# df_movies4"
   ]
  },
  {
   "cell_type": "code",
   "execution_count": 305,
   "metadata": {},
   "outputs": [
    {
     "data": {
      "text/plain": [
       "Index(['tconst', 'titleType', 'primaryTitle', 'originalTitle', 'isAdult',\n",
       "       'startYear', 'runtimeMinutes', 'averageRating', 'numVotes', 'writers',\n",
       "       'budget', 'original_language', 'overview', 'popularity', 'poster_path',\n",
       "       'production_countries', 'revenue', 'spoken_languages', 'vote_average',\n",
       "       'vote_count', 'production_companies_name', 'actors_name',\n",
       "       'rang_acteur_film', 'directors_name', 'genres', 'primaryName',\n",
       "       'periode', 'genres_liste'],\n",
       "      dtype='object')"
      ]
     },
     "execution_count": 305,
     "metadata": {},
     "output_type": "execute_result"
    }
   ],
   "source": [
    "df_movies4.columns"
   ]
  },
  {
   "cell_type": "code",
   "execution_count": 297,
   "metadata": {},
   "outputs": [],
   "source": [
    "# verfier que c'est l'input du ml \n",
    "\n",
    "# df_movies4.to_csv(\"df_movies4.csv\")"
   ]
  },
  {
   "cell_type": "code",
   "execution_count": 298,
   "metadata": {},
   "outputs": [
    {
     "data": {
      "text/plain": [
       "60062"
      ]
     },
     "execution_count": 298,
     "metadata": {},
     "output_type": "execute_result"
    }
   ],
   "source": [
    "df_movies4['tconst'].nunique()"
   ]
  },
  {
   "cell_type": "code",
   "execution_count": 299,
   "metadata": {},
   "outputs": [],
   "source": [
    "# df_movies4.to_csv('df_movies.csv')"
   ]
  },
  {
   "cell_type": "code",
   "execution_count": 300,
   "metadata": {},
   "outputs": [
    {
     "data": {
      "text/plain": [
       "periode\n",
       "2010    28571\n",
       "2000    12896\n",
       "2020    10975\n",
       "1990     7620\n",
       "Name: count, dtype: int64"
      ]
     },
     "execution_count": 300,
     "metadata": {},
     "output_type": "execute_result"
    }
   ],
   "source": [
    "df_movies4['periode'].value_counts()"
   ]
  },
  {
   "cell_type": "code",
   "execution_count": 306,
   "metadata": {},
   "outputs": [
    {
     "name": "stdout",
     "output_type": "stream",
     "text": [
      "<class 'pandas.core.frame.DataFrame'>\n",
      "Index: 53961 entries, 0 to 60061\n",
      "Data columns (total 26 columns):\n",
      " #   Column                     Non-Null Count  Dtype         \n",
      "---  ------                     --------------  -----         \n",
      " 0   tconst                     53961 non-null  object        \n",
      " 1   titleType                  53961 non-null  object        \n",
      " 2   primaryTitle               53961 non-null  object        \n",
      " 3   originalTitle              53961 non-null  object        \n",
      " 4   isAdult                    53961 non-null  bool          \n",
      " 5   startYear                  53961 non-null  datetime64[ns]\n",
      " 6   runtimeMinutes             53961 non-null  float64       \n",
      " 7   writers                    53961 non-null  object        \n",
      " 8   budget                     53961 non-null  int64         \n",
      " 9   original_language          53961 non-null  object        \n",
      " 10  overview                   53961 non-null  object        \n",
      " 11  popularity                 53961 non-null  float64       \n",
      " 12  poster_path                53961 non-null  object        \n",
      " 13  production_countries       53961 non-null  object        \n",
      " 14  revenue                    53961 non-null  int64         \n",
      " 15  spoken_languages           53961 non-null  object        \n",
      " 16  vote_average               53961 non-null  float64       \n",
      " 17  vote_count                 53961 non-null  int64         \n",
      " 18  production_companies_name  53961 non-null  object        \n",
      " 19  actors_name                53961 non-null  object        \n",
      " 20  rang_acteur_film           53961 non-null  object        \n",
      " 21  directors_name             53961 non-null  object        \n",
      " 22  genres                     53961 non-null  object        \n",
      " 23  primaryName                53961 non-null  object        \n",
      " 24  periode                    53961 non-null  object        \n",
      " 25  genres_liste               53961 non-null  object        \n",
      "dtypes: bool(1), datetime64[ns](1), float64(3), int64(3), object(18)\n",
      "memory usage: 10.8+ MB\n"
     ]
    }
   ],
   "source": [
    "df_movies4 = df_movies4.dropna()\n",
    "df_movies4 = df_movies4.drop(columns=['averageRating','numVotes'], axis= 1)\n",
    "df_movies4.info()"
   ]
  },
  {
   "cell_type": "code",
   "execution_count": 307,
   "metadata": {},
   "outputs": [
    {
     "data": {
      "text/plain": [
       "Index(['tconst', 'titleType', 'primaryTitle', 'originalTitle', 'isAdult',\n",
       "       'startYear', 'runtimeMinutes', 'writers', 'budget', 'original_language',\n",
       "       'overview', 'popularity', 'poster_path', 'production_countries',\n",
       "       'revenue', 'spoken_languages', 'vote_average', 'vote_count',\n",
       "       'production_companies_name', 'actors_name', 'rang_acteur_film',\n",
       "       'directors_name', 'genres', 'primaryName', 'periode', 'genres_liste'],\n",
       "      dtype='object')"
      ]
     },
     "execution_count": 307,
     "metadata": {},
     "output_type": "execute_result"
    }
   ],
   "source": [
    "df_movies4.columns"
   ]
  }
 ],
 "metadata": {
  "kernelspec": {
   "display_name": "base",
   "language": "python",
   "name": "python3"
  },
  "language_info": {
   "codemirror_mode": {
    "name": "ipython",
    "version": 3
   },
   "file_extension": ".py",
   "mimetype": "text/x-python",
   "name": "python",
   "nbconvert_exporter": "python",
   "pygments_lexer": "ipython3",
   "version": "3.12.4"
  }
 },
 "nbformat": 4,
 "nbformat_minor": 2
}
