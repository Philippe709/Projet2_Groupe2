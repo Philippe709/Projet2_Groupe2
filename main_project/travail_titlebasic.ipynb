{
 "cells": [
  {
   "cell_type": "code",
   "execution_count": 2,
   "metadata": {},
   "outputs": [],
   "source": [
    "import pandas as pd\n",
    "import numpy as np\n",
    "import matplotlib.pyplot as plt\n",
    "import plotly.express as px"
   ]
  },
  {
   "cell_type": "code",
   "execution_count": 13,
   "metadata": {},
   "outputs": [
    {
     "name": "stderr",
     "output_type": "stream",
     "text": [
      "C:\\Users\\Lenovo\\AppData\\Local\\Temp\\ipykernel_15420\\1015345584.py:1: DtypeWarning: Columns (7) have mixed types. Specify dtype option on import or set low_memory=False.\n",
      "  data_title_basics = pd.read_csv('title.basics.tsv.gz', sep='\\t', compression='gzip', na_values=(r'\\N'))\n"
     ]
    }
   ],
   "source": [
    "data_title_basics = pd.read_csv('title.basics.tsv.gz', sep='\\t', compression='gzip', na_values=(r'\\N'))"
   ]
  },
  {
   "cell_type": "code",
   "execution_count": 15,
   "metadata": {},
   "outputs": [],
   "source": [
    "# modifier le type from object to date de la colonne \"startYear\"\n",
    "data_title_basics['startYear'] = pd.to_datetime(data_title_basics['startYear'], format='%Y', errors='coerce')\n",
    "# modifier le type from object to bool de la colonne \"isAdult\"\n",
    "data_title_basics['isAdult'] = data_title_basics['isAdult'].astype('bool')"
   ]
  },
  {
   "cell_type": "code",
   "execution_count": 16,
   "metadata": {},
   "outputs": [
    {
     "name": "stdout",
     "output_type": "stream",
     "text": [
      "<class 'pandas.core.frame.DataFrame'>\n",
      "RangeIndex: 11217433 entries, 0 to 11217432\n",
      "Data columns (total 9 columns):\n",
      " #   Column          Dtype         \n",
      "---  ------          -----         \n",
      " 0   tconst          object        \n",
      " 1   titleType       object        \n",
      " 2   primaryTitle    object        \n",
      " 3   originalTitle   object        \n",
      " 4   isAdult         bool          \n",
      " 5   startYear       datetime64[ns]\n",
      " 6   endYear         float64       \n",
      " 7   runtimeMinutes  object        \n",
      " 8   genres          object        \n",
      "dtypes: bool(1), datetime64[ns](1), float64(1), object(6)\n",
      "memory usage: 695.4+ MB\n"
     ]
    },
    {
     "data": {
      "text/plain": [
       "tconst                   0\n",
       "titleType                0\n",
       "primaryTitle            19\n",
       "originalTitle           19\n",
       "isAdult                  0\n",
       "startYear          1416977\n",
       "endYear           11085659\n",
       "runtimeMinutes     7677725\n",
       "genres              500449\n",
       "dtype: int64"
      ]
     },
     "execution_count": 16,
     "metadata": {},
     "output_type": "execute_result"
    }
   ],
   "source": [
    "data_title_basics.info()\n",
    "data_title_basics.isnull().sum()"
   ]
  },
  {
   "cell_type": "code",
   "execution_count": 17,
   "metadata": {},
   "outputs": [
    {
     "name": "stdout",
     "output_type": "stream",
     "text": [
      "<class 'pandas.core.frame.DataFrame'>\n",
      "RangeIndex: 11217433 entries, 0 to 11217432\n",
      "Data columns (total 8 columns):\n",
      " #   Column          Dtype         \n",
      "---  ------          -----         \n",
      " 0   tconst          object        \n",
      " 1   titleType       object        \n",
      " 2   primaryTitle    object        \n",
      " 3   originalTitle   object        \n",
      " 4   isAdult         bool          \n",
      " 5   startYear       datetime64[ns]\n",
      " 6   runtimeMinutes  object        \n",
      " 7   genres          object        \n",
      "dtypes: bool(1), datetime64[ns](1), object(6)\n",
      "memory usage: 609.8+ MB\n"
     ]
    }
   ],
   "source": [
    "# checker s'il y a des lignes dupliquées\n",
    "data_title_basics.duplicated().sum()\n",
    "# supprimer la colonne endYear qui contient plus de 11 millions de valeurs manquantes\n",
    "data_title_basics.drop(['endYear'], axis= 1, inplace = True) \n",
    "data_title_basics.info()"
   ]
  },
  {
   "cell_type": "code",
   "execution_count": 18,
   "metadata": {},
   "outputs": [
    {
     "data": {
      "text/plain": [
       "titleType\n",
       "tvEpisode       8614784\n",
       "short           1026375\n",
       "movie            696417\n",
       "video            300230\n",
       "tvSeries         272387\n",
       "tvMovie          148747\n",
       "tvMiniSeries      57669\n",
       "tvSpecial         50023\n",
       "videoGame         40341\n",
       "tvShort           10459\n",
       "tvPilot               1\n",
       "Name: count, dtype: int64"
      ]
     },
     "execution_count": 18,
     "metadata": {},
     "output_type": "execute_result"
    }
   ],
   "source": [
    "# checker les valeurs unique, leur nombre pour chaque colonne quand nécessaire > aide à prendre une décision sur les données qui ne nous serviront pas dans l'analyse.\n",
    "data_title_basics['titleType'].value_counts()\n"
   ]
  },
  {
   "cell_type": "code",
   "execution_count": 20,
   "metadata": {},
   "outputs": [
    {
     "data": {
      "text/html": [
       "<div>\n",
       "<style scoped>\n",
       "    .dataframe tbody tr th:only-of-type {\n",
       "        vertical-align: middle;\n",
       "    }\n",
       "\n",
       "    .dataframe tbody tr th {\n",
       "        vertical-align: top;\n",
       "    }\n",
       "\n",
       "    .dataframe thead th {\n",
       "        text-align: right;\n",
       "    }\n",
       "</style>\n",
       "<table border=\"1\" class=\"dataframe\">\n",
       "  <thead>\n",
       "    <tr style=\"text-align: right;\">\n",
       "      <th></th>\n",
       "      <th>tconst</th>\n",
       "      <th>titleType</th>\n",
       "      <th>primaryTitle</th>\n",
       "      <th>originalTitle</th>\n",
       "      <th>isAdult</th>\n",
       "      <th>startYear</th>\n",
       "      <th>runtimeMinutes</th>\n",
       "      <th>genres</th>\n",
       "    </tr>\n",
       "  </thead>\n",
       "  <tbody>\n",
       "    <tr>\n",
       "      <th>30893</th>\n",
       "      <td>tt0031458</td>\n",
       "      <td>tvEpisode</td>\n",
       "      <td>El huésped del sevillano</td>\n",
       "      <td>El huésped del sevillano</td>\n",
       "      <td>False</td>\n",
       "      <td>1970-01-01</td>\n",
       "      <td>86.0</td>\n",
       "      <td>Musical</td>\n",
       "    </tr>\n",
       "    <tr>\n",
       "      <th>34968</th>\n",
       "      <td>tt0035599</td>\n",
       "      <td>tvSeries</td>\n",
       "      <td>Voice of Firestone Televues</td>\n",
       "      <td>Voice of Firestone Televues</td>\n",
       "      <td>False</td>\n",
       "      <td>1943-01-01</td>\n",
       "      <td>15.0</td>\n",
       "      <td>NaN</td>\n",
       "    </tr>\n",
       "    <tr>\n",
       "      <th>35169</th>\n",
       "      <td>tt0035803</td>\n",
       "      <td>tvSeries</td>\n",
       "      <td>The German Weekly Review</td>\n",
       "      <td>Die Deutsche Wochenschau</td>\n",
       "      <td>False</td>\n",
       "      <td>1940-01-01</td>\n",
       "      <td>NaN</td>\n",
       "      <td>Documentary,News</td>\n",
       "    </tr>\n",
       "    <tr>\n",
       "      <th>37597</th>\n",
       "      <td>tt0038276</td>\n",
       "      <td>tvSeries</td>\n",
       "      <td>You Are an Artist</td>\n",
       "      <td>You Are an Artist</td>\n",
       "      <td>False</td>\n",
       "      <td>1946-01-01</td>\n",
       "      <td>15.0</td>\n",
       "      <td>Talk-Show</td>\n",
       "    </tr>\n",
       "    <tr>\n",
       "      <th>38431</th>\n",
       "      <td>tt0039120</td>\n",
       "      <td>tvSeries</td>\n",
       "      <td>Americana</td>\n",
       "      <td>Americana</td>\n",
       "      <td>False</td>\n",
       "      <td>1947-01-01</td>\n",
       "      <td>30.0</td>\n",
       "      <td>Family,Game-Show</td>\n",
       "    </tr>\n",
       "    <tr>\n",
       "      <th>...</th>\n",
       "      <td>...</td>\n",
       "      <td>...</td>\n",
       "      <td>...</td>\n",
       "      <td>...</td>\n",
       "      <td>...</td>\n",
       "      <td>...</td>\n",
       "      <td>...</td>\n",
       "      <td>...</td>\n",
       "    </tr>\n",
       "    <tr>\n",
       "      <th>11217427</th>\n",
       "      <td>tt9916846</td>\n",
       "      <td>tvEpisode</td>\n",
       "      <td>Episode #3.18</td>\n",
       "      <td>Episode #3.18</td>\n",
       "      <td>False</td>\n",
       "      <td>2009-01-01</td>\n",
       "      <td>NaN</td>\n",
       "      <td>Action,Drama,Family</td>\n",
       "    </tr>\n",
       "    <tr>\n",
       "      <th>11217428</th>\n",
       "      <td>tt9916848</td>\n",
       "      <td>tvEpisode</td>\n",
       "      <td>Episode #3.17</td>\n",
       "      <td>Episode #3.17</td>\n",
       "      <td>False</td>\n",
       "      <td>2009-01-01</td>\n",
       "      <td>NaN</td>\n",
       "      <td>Action,Drama,Family</td>\n",
       "    </tr>\n",
       "    <tr>\n",
       "      <th>11217429</th>\n",
       "      <td>tt9916850</td>\n",
       "      <td>tvEpisode</td>\n",
       "      <td>Episode #3.19</td>\n",
       "      <td>Episode #3.19</td>\n",
       "      <td>False</td>\n",
       "      <td>2010-01-01</td>\n",
       "      <td>NaN</td>\n",
       "      <td>Action,Drama,Family</td>\n",
       "    </tr>\n",
       "    <tr>\n",
       "      <th>11217430</th>\n",
       "      <td>tt9916852</td>\n",
       "      <td>tvEpisode</td>\n",
       "      <td>Episode #3.20</td>\n",
       "      <td>Episode #3.20</td>\n",
       "      <td>False</td>\n",
       "      <td>2010-01-01</td>\n",
       "      <td>NaN</td>\n",
       "      <td>Action,Drama,Family</td>\n",
       "    </tr>\n",
       "    <tr>\n",
       "      <th>11217432</th>\n",
       "      <td>tt9916880</td>\n",
       "      <td>tvEpisode</td>\n",
       "      <td>Horrid Henry Knows It All</td>\n",
       "      <td>Horrid Henry Knows It All</td>\n",
       "      <td>False</td>\n",
       "      <td>2014-01-01</td>\n",
       "      <td>10</td>\n",
       "      <td>Adventure,Animation,Comedy</td>\n",
       "    </tr>\n",
       "  </tbody>\n",
       "</table>\n",
       "<p>8887171 rows × 8 columns</p>\n",
       "</div>"
      ],
      "text/plain": [
       "             tconst  titleType                 primaryTitle  \\\n",
       "30893     tt0031458  tvEpisode     El huésped del sevillano   \n",
       "34968     tt0035599   tvSeries  Voice of Firestone Televues   \n",
       "35169     tt0035803   tvSeries     The German Weekly Review   \n",
       "37597     tt0038276   tvSeries            You Are an Artist   \n",
       "38431     tt0039120   tvSeries                    Americana   \n",
       "...             ...        ...                          ...   \n",
       "11217427  tt9916846  tvEpisode                Episode #3.18   \n",
       "11217428  tt9916848  tvEpisode                Episode #3.17   \n",
       "11217429  tt9916850  tvEpisode                Episode #3.19   \n",
       "11217430  tt9916852  tvEpisode                Episode #3.20   \n",
       "11217432  tt9916880  tvEpisode    Horrid Henry Knows It All   \n",
       "\n",
       "                        originalTitle  isAdult  startYear runtimeMinutes  \\\n",
       "30893        El huésped del sevillano    False 1970-01-01           86.0   \n",
       "34968     Voice of Firestone Televues    False 1943-01-01           15.0   \n",
       "35169        Die Deutsche Wochenschau    False 1940-01-01            NaN   \n",
       "37597               You Are an Artist    False 1946-01-01           15.0   \n",
       "38431                       Americana    False 1947-01-01           30.0   \n",
       "...                               ...      ...        ...            ...   \n",
       "11217427                Episode #3.18    False 2009-01-01            NaN   \n",
       "11217428                Episode #3.17    False 2009-01-01            NaN   \n",
       "11217429                Episode #3.19    False 2010-01-01            NaN   \n",
       "11217430                Episode #3.20    False 2010-01-01            NaN   \n",
       "11217432    Horrid Henry Knows It All    False 2014-01-01             10   \n",
       "\n",
       "                              genres  \n",
       "30893                        Musical  \n",
       "34968                            NaN  \n",
       "35169               Documentary,News  \n",
       "37597                      Talk-Show  \n",
       "38431               Family,Game-Show  \n",
       "...                              ...  \n",
       "11217427         Action,Drama,Family  \n",
       "11217428         Action,Drama,Family  \n",
       "11217429         Action,Drama,Family  \n",
       "11217430         Action,Drama,Family  \n",
       "11217432  Adventure,Animation,Comedy  \n",
       "\n",
       "[8887171 rows x 8 columns]"
      ]
     },
     "execution_count": 20,
     "metadata": {},
     "output_type": "execute_result"
    }
   ],
   "source": [
    "df = data_title_basics[(data_title_basics['titleType'] == 'tvEpisode') | (data_title_basics['titleType'] == 'tvSeries')]\n",
    "df"
   ]
  },
  {
   "cell_type": "code",
   "execution_count": null,
   "metadata": {},
   "outputs": [],
   "source": [
    "# colonne 'titleType': supprimer les lignes qui sont autres que les types film, short, video\n",
    "types_a_supprimer = ['tvShort', 'tvMo vie', 'tvEpisode', 'tvSeries', 'videoGame', 'tvPilot', 'tvMiniSeries', 'tvSpecial']\n",
    "data_title_basics.drop(data_title_basics[data_title_basics['titleType'].isin(set(types_a_supprimer))].index, inplace=True)\n",
    "data_title_basics['titleType'].value_counts()\n",
    "data_title_basics['titleType'].isnull().sum()\n",
    "data_title_basics.tail(3)"
   ]
  },
  {
   "cell_type": "code",
   "execution_count": 6,
   "metadata": {},
   "outputs": [
    {
     "data": {
      "text/plain": [
       "0"
      ]
     },
     "execution_count": 6,
     "metadata": {},
     "output_type": "execute_result"
    }
   ],
   "source": [
    "# colonne 'startyear': checker les valeurs min et max > si début du film supérieur à 2024-12-31, à supprimer car pas de programmation sur des films pas encore sortis\n",
    "data_title_basics.drop(data_title_basics[data_title_basics['startYear'] > pd.to_datetime('2024-12-31')].index, inplace=True)\n",
    "data_title_basics['startYear'].max()\n",
    "# checker le nombre de valeur null et supprimer car ne serviront pas dans l'analyse (leur suppression n'aura pas de fort impact sur les données > 7% de la BDD apres nettoyage précédent de 2020125 rows)\n",
    "data_title_basics.dropna(subset=['startYear'], inplace=True) \n",
    "data_title_basics['startYear'].isnull().sum()"
   ]
  },
  {
   "cell_type": "code",
   "execution_count": 7,
   "metadata": {},
   "outputs": [
    {
     "name": "stdout",
     "output_type": "stream",
     "text": [
      "<class 'pandas.core.frame.DataFrame'>\n",
      "Index: 1283194 entries, 0 to 11217431\n",
      "Data columns (total 9 columns):\n",
      " #   Column          Non-Null Count    Dtype         \n",
      "---  ------          --------------    -----         \n",
      " 0   tconst          1283194 non-null  object        \n",
      " 1   titleType       1283194 non-null  object        \n",
      " 2   primaryTitle    1283191 non-null  object        \n",
      " 3   originalTitle   1283191 non-null  object        \n",
      " 4   isAdult         1283194 non-null  bool          \n",
      " 5   startYear       1283194 non-null  datetime64[ns]\n",
      " 6   runtimeMinutes  1283194 non-null  int32         \n",
      " 7   genres          1253982 non-null  object        \n",
      " 8   metrage         1283194 non-null  category      \n",
      "dtypes: bool(1), category(1), datetime64[ns](1), int32(1), object(5)\n",
      "memory usage: 75.9+ MB\n"
     ]
    }
   ],
   "source": [
    "# colonne 'runtimeMinutes': check nombre de valeurs nulles et supprimer, puis créer une colonne \"metrage\" qui va ctégoriser les films en fonction du nbr de minutes\n",
    "data_title_basics.dropna(subset=['runtimeMinutes'], inplace=True) # supprimer les valeurs nulles\n",
    "data_title_basics['runtimeMinutes'].isnull().sum()\n",
    "data_title_basics['runtimeMinutes'] = data_title_basics['runtimeMinutes'].astype('int') # modifier le type de la colonne\n",
    "data_title_basics['metrage'] = pd.cut(data_title_basics['runtimeMinutes'], # pd.cut > discrétiseldes données continues en catégories discrètes\n",
    "                       bins=[0, 60, np.inf], # définit les intervalles : < à 60 minutes='court_metrage', >= à 60 minutes = 'long_metrage'.\n",
    "                       labels=['court_metrage', 'long_metrage'], # étiquettes attribuées aux valeurs\n",
    "                       right=False)# indique que les intervalles sont semi-ouverts à gauche et fermés à droite. Par exemple, l'intervalle [0, 60) inclut les valeurs de 0 à 59, mais exclut 60\n",
    "data_title_basics.info()\n"
   ]
  },
  {
   "cell_type": "code",
   "execution_count": 8,
   "metadata": {},
   "outputs": [
    {
     "name": "stdout",
     "output_type": "stream",
     "text": [
      "<class 'pandas.core.frame.DataFrame'>\n",
      "Index: 1253982 entries, 0 to 11217431\n",
      "Data columns (total 9 columns):\n",
      " #   Column          Non-Null Count    Dtype         \n",
      "---  ------          --------------    -----         \n",
      " 0   tconst          1253982 non-null  object        \n",
      " 1   titleType       1253982 non-null  object        \n",
      " 2   primaryTitle    1253979 non-null  object        \n",
      " 3   originalTitle   1253979 non-null  object        \n",
      " 4   isAdult         1253982 non-null  bool          \n",
      " 5   startYear       1253982 non-null  datetime64[ns]\n",
      " 6   runtimeMinutes  1253982 non-null  int32         \n",
      " 7   genres          1253982 non-null  object        \n",
      " 8   metrage         1253982 non-null  category      \n",
      "dtypes: bool(1), category(1), datetime64[ns](1), int32(1), object(5)\n",
      "memory usage: 74.1+ MB\n"
     ]
    }
   ],
   "source": [
    "# colonne 'genre': supprimer les valeurs nulles\n",
    "data_title_basics.dropna(subset=['genres'], inplace=True)\n",
    "data_title_basics['genres'].isnull().sum()\n",
    "data_title_basics.info()"
   ]
  },
  {
   "cell_type": "code",
   "execution_count": 9,
   "metadata": {},
   "outputs": [
    {
     "name": "stdout",
     "output_type": "stream",
     "text": [
      "<class 'pandas.core.frame.DataFrame'>\n",
      "Index: 1253979 entries, 0 to 11217431\n",
      "Data columns (total 9 columns):\n",
      " #   Column          Non-Null Count    Dtype         \n",
      "---  ------          --------------    -----         \n",
      " 0   tconst          1253979 non-null  object        \n",
      " 1   titleType       1253979 non-null  object        \n",
      " 2   primaryTitle    1253979 non-null  object        \n",
      " 3   originalTitle   1253979 non-null  object        \n",
      " 4   isAdult         1253979 non-null  bool          \n",
      " 5   startYear       1253979 non-null  datetime64[ns]\n",
      " 6   runtimeMinutes  1253979 non-null  int32         \n",
      " 7   genres          1253979 non-null  object        \n",
      " 8   metrage         1253979 non-null  category      \n",
      "dtypes: bool(1), category(1), datetime64[ns](1), int32(1), object(5)\n",
      "memory usage: 74.1+ MB\n"
     ]
    }
   ],
   "source": [
    "# colonne 'primaryTitle' & 'originalTitle': check des valeurs nulles\n",
    "data_title_basics.dropna(subset=['primaryTitle'], inplace=True)\n",
    "data_title_basics['primaryTitle'].isnull().sum()\n",
    "data_title_basics.dropna(subset=['originalTitle'], inplace=True)\n",
    "data_title_basics['originalTitle'].isnull().sum()\n",
    "data_title_basics.info()"
   ]
  },
  {
   "cell_type": "code",
   "execution_count": 10,
   "metadata": {},
   "outputs": [
    {
     "name": "stdout",
     "output_type": "stream",
     "text": [
      "<class 'pandas.core.frame.DataFrame'>\n",
      "RangeIndex: 1253979 entries, 0 to 1253978\n",
      "Data columns (total 9 columns):\n",
      " #   Column          Non-Null Count    Dtype         \n",
      "---  ------          --------------    -----         \n",
      " 0   tconst          1253979 non-null  object        \n",
      " 1   titleType       1253979 non-null  object        \n",
      " 2   primaryTitle    1253979 non-null  object        \n",
      " 3   originalTitle   1253979 non-null  object        \n",
      " 4   isAdult         1253979 non-null  bool          \n",
      " 5   startYear       1253979 non-null  datetime64[ns]\n",
      " 6   runtimeMinutes  1253979 non-null  int32         \n",
      " 7   genres          1253979 non-null  object        \n",
      " 8   metrage         1253979 non-null  category      \n",
      "dtypes: bool(1), category(1), datetime64[ns](1), int32(1), object(5)\n",
      "memory usage: 64.6+ MB\n"
     ]
    }
   ],
   "source": [
    "data_title_basics.reset_index(drop=True, inplace=True) # reinitialiser les index en cas de multi-index ou souci d'indexation lors du nettoyage\n",
    "data_title_basics.index #  vérifier les index\n",
    "data_title_basics.info()"
   ]
  },
  {
   "cell_type": "code",
   "execution_count": 95,
   "metadata": {},
   "outputs": [
    {
     "data": {
      "application/vnd.plotly.v1+json": {
       "config": {
        "plotlyServerURL": "https://plot.ly"
       },
       "data": [
        {
         "alignmentgroup": "True",
         "hovertemplate": "Year=%{x}<br>Count=%{y}<extra></extra>",
         "legendgroup": "",
         "marker": {
          "color": "green",
          "pattern": {
           "shape": ""
          }
         },
         "name": "",
         "offsetgroup": "",
         "orientation": "v",
         "showlegend": false,
         "textposition": "auto",
         "type": "bar",
         "x": [
          2017,
          2018,
          2016,
          2014,
          2015,
          2013,
          2019,
          2012,
          2011,
          2020,
          2021,
          2010,
          2022,
          2023,
          2009,
          2008,
          2024,
          2007,
          2006,
          2005,
          2004,
          2003,
          2002,
          2001,
          2000
         ],
         "xaxis": "x",
         "y": [
          58421,
          58236,
          58023,
          57118,
          56074,
          54255,
          52728,
          51085,
          46909,
          46658,
          45465,
          43357,
          42396,
          40973,
          37581,
          31633,
          29128,
          27653,
          25813,
          24169,
          21022,
          17366,
          14772,
          12969,
          11591
         ],
         "yaxis": "y"
        }
       ],
       "layout": {
        "barmode": "relative",
        "legend": {
         "tracegroupgap": 0
        },
        "template": {
         "data": {
          "bar": [
           {
            "error_x": {
             "color": "#2a3f5f"
            },
            "error_y": {
             "color": "#2a3f5f"
            },
            "marker": {
             "line": {
              "color": "#E5ECF6",
              "width": 0.5
             },
             "pattern": {
              "fillmode": "overlay",
              "size": 10,
              "solidity": 0.2
             }
            },
            "type": "bar"
           }
          ],
          "barpolar": [
           {
            "marker": {
             "line": {
              "color": "#E5ECF6",
              "width": 0.5
             },
             "pattern": {
              "fillmode": "overlay",
              "size": 10,
              "solidity": 0.2
             }
            },
            "type": "barpolar"
           }
          ],
          "carpet": [
           {
            "aaxis": {
             "endlinecolor": "#2a3f5f",
             "gridcolor": "white",
             "linecolor": "white",
             "minorgridcolor": "white",
             "startlinecolor": "#2a3f5f"
            },
            "baxis": {
             "endlinecolor": "#2a3f5f",
             "gridcolor": "white",
             "linecolor": "white",
             "minorgridcolor": "white",
             "startlinecolor": "#2a3f5f"
            },
            "type": "carpet"
           }
          ],
          "choropleth": [
           {
            "colorbar": {
             "outlinewidth": 0,
             "ticks": ""
            },
            "type": "choropleth"
           }
          ],
          "contour": [
           {
            "colorbar": {
             "outlinewidth": 0,
             "ticks": ""
            },
            "colorscale": [
             [
              0,
              "#0d0887"
             ],
             [
              0.1111111111111111,
              "#46039f"
             ],
             [
              0.2222222222222222,
              "#7201a8"
             ],
             [
              0.3333333333333333,
              "#9c179e"
             ],
             [
              0.4444444444444444,
              "#bd3786"
             ],
             [
              0.5555555555555556,
              "#d8576b"
             ],
             [
              0.6666666666666666,
              "#ed7953"
             ],
             [
              0.7777777777777778,
              "#fb9f3a"
             ],
             [
              0.8888888888888888,
              "#fdca26"
             ],
             [
              1,
              "#f0f921"
             ]
            ],
            "type": "contour"
           }
          ],
          "contourcarpet": [
           {
            "colorbar": {
             "outlinewidth": 0,
             "ticks": ""
            },
            "type": "contourcarpet"
           }
          ],
          "heatmap": [
           {
            "colorbar": {
             "outlinewidth": 0,
             "ticks": ""
            },
            "colorscale": [
             [
              0,
              "#0d0887"
             ],
             [
              0.1111111111111111,
              "#46039f"
             ],
             [
              0.2222222222222222,
              "#7201a8"
             ],
             [
              0.3333333333333333,
              "#9c179e"
             ],
             [
              0.4444444444444444,
              "#bd3786"
             ],
             [
              0.5555555555555556,
              "#d8576b"
             ],
             [
              0.6666666666666666,
              "#ed7953"
             ],
             [
              0.7777777777777778,
              "#fb9f3a"
             ],
             [
              0.8888888888888888,
              "#fdca26"
             ],
             [
              1,
              "#f0f921"
             ]
            ],
            "type": "heatmap"
           }
          ],
          "heatmapgl": [
           {
            "colorbar": {
             "outlinewidth": 0,
             "ticks": ""
            },
            "colorscale": [
             [
              0,
              "#0d0887"
             ],
             [
              0.1111111111111111,
              "#46039f"
             ],
             [
              0.2222222222222222,
              "#7201a8"
             ],
             [
              0.3333333333333333,
              "#9c179e"
             ],
             [
              0.4444444444444444,
              "#bd3786"
             ],
             [
              0.5555555555555556,
              "#d8576b"
             ],
             [
              0.6666666666666666,
              "#ed7953"
             ],
             [
              0.7777777777777778,
              "#fb9f3a"
             ],
             [
              0.8888888888888888,
              "#fdca26"
             ],
             [
              1,
              "#f0f921"
             ]
            ],
            "type": "heatmapgl"
           }
          ],
          "histogram": [
           {
            "marker": {
             "pattern": {
              "fillmode": "overlay",
              "size": 10,
              "solidity": 0.2
             }
            },
            "type": "histogram"
           }
          ],
          "histogram2d": [
           {
            "colorbar": {
             "outlinewidth": 0,
             "ticks": ""
            },
            "colorscale": [
             [
              0,
              "#0d0887"
             ],
             [
              0.1111111111111111,
              "#46039f"
             ],
             [
              0.2222222222222222,
              "#7201a8"
             ],
             [
              0.3333333333333333,
              "#9c179e"
             ],
             [
              0.4444444444444444,
              "#bd3786"
             ],
             [
              0.5555555555555556,
              "#d8576b"
             ],
             [
              0.6666666666666666,
              "#ed7953"
             ],
             [
              0.7777777777777778,
              "#fb9f3a"
             ],
             [
              0.8888888888888888,
              "#fdca26"
             ],
             [
              1,
              "#f0f921"
             ]
            ],
            "type": "histogram2d"
           }
          ],
          "histogram2dcontour": [
           {
            "colorbar": {
             "outlinewidth": 0,
             "ticks": ""
            },
            "colorscale": [
             [
              0,
              "#0d0887"
             ],
             [
              0.1111111111111111,
              "#46039f"
             ],
             [
              0.2222222222222222,
              "#7201a8"
             ],
             [
              0.3333333333333333,
              "#9c179e"
             ],
             [
              0.4444444444444444,
              "#bd3786"
             ],
             [
              0.5555555555555556,
              "#d8576b"
             ],
             [
              0.6666666666666666,
              "#ed7953"
             ],
             [
              0.7777777777777778,
              "#fb9f3a"
             ],
             [
              0.8888888888888888,
              "#fdca26"
             ],
             [
              1,
              "#f0f921"
             ]
            ],
            "type": "histogram2dcontour"
           }
          ],
          "mesh3d": [
           {
            "colorbar": {
             "outlinewidth": 0,
             "ticks": ""
            },
            "type": "mesh3d"
           }
          ],
          "parcoords": [
           {
            "line": {
             "colorbar": {
              "outlinewidth": 0,
              "ticks": ""
             }
            },
            "type": "parcoords"
           }
          ],
          "pie": [
           {
            "automargin": true,
            "type": "pie"
           }
          ],
          "scatter": [
           {
            "fillpattern": {
             "fillmode": "overlay",
             "size": 10,
             "solidity": 0.2
            },
            "type": "scatter"
           }
          ],
          "scatter3d": [
           {
            "line": {
             "colorbar": {
              "outlinewidth": 0,
              "ticks": ""
             }
            },
            "marker": {
             "colorbar": {
              "outlinewidth": 0,
              "ticks": ""
             }
            },
            "type": "scatter3d"
           }
          ],
          "scattercarpet": [
           {
            "marker": {
             "colorbar": {
              "outlinewidth": 0,
              "ticks": ""
             }
            },
            "type": "scattercarpet"
           }
          ],
          "scattergeo": [
           {
            "marker": {
             "colorbar": {
              "outlinewidth": 0,
              "ticks": ""
             }
            },
            "type": "scattergeo"
           }
          ],
          "scattergl": [
           {
            "marker": {
             "colorbar": {
              "outlinewidth": 0,
              "ticks": ""
             }
            },
            "type": "scattergl"
           }
          ],
          "scattermapbox": [
           {
            "marker": {
             "colorbar": {
              "outlinewidth": 0,
              "ticks": ""
             }
            },
            "type": "scattermapbox"
           }
          ],
          "scatterpolar": [
           {
            "marker": {
             "colorbar": {
              "outlinewidth": 0,
              "ticks": ""
             }
            },
            "type": "scatterpolar"
           }
          ],
          "scatterpolargl": [
           {
            "marker": {
             "colorbar": {
              "outlinewidth": 0,
              "ticks": ""
             }
            },
            "type": "scatterpolargl"
           }
          ],
          "scatterternary": [
           {
            "marker": {
             "colorbar": {
              "outlinewidth": 0,
              "ticks": ""
             }
            },
            "type": "scatterternary"
           }
          ],
          "surface": [
           {
            "colorbar": {
             "outlinewidth": 0,
             "ticks": ""
            },
            "colorscale": [
             [
              0,
              "#0d0887"
             ],
             [
              0.1111111111111111,
              "#46039f"
             ],
             [
              0.2222222222222222,
              "#7201a8"
             ],
             [
              0.3333333333333333,
              "#9c179e"
             ],
             [
              0.4444444444444444,
              "#bd3786"
             ],
             [
              0.5555555555555556,
              "#d8576b"
             ],
             [
              0.6666666666666666,
              "#ed7953"
             ],
             [
              0.7777777777777778,
              "#fb9f3a"
             ],
             [
              0.8888888888888888,
              "#fdca26"
             ],
             [
              1,
              "#f0f921"
             ]
            ],
            "type": "surface"
           }
          ],
          "table": [
           {
            "cells": {
             "fill": {
              "color": "#EBF0F8"
             },
             "line": {
              "color": "white"
             }
            },
            "header": {
             "fill": {
              "color": "#C8D4E3"
             },
             "line": {
              "color": "white"
             }
            },
            "type": "table"
           }
          ]
         },
         "layout": {
          "annotationdefaults": {
           "arrowcolor": "#2a3f5f",
           "arrowhead": 0,
           "arrowwidth": 1
          },
          "autotypenumbers": "strict",
          "coloraxis": {
           "colorbar": {
            "outlinewidth": 0,
            "ticks": ""
           }
          },
          "colorscale": {
           "diverging": [
            [
             0,
             "#8e0152"
            ],
            [
             0.1,
             "#c51b7d"
            ],
            [
             0.2,
             "#de77ae"
            ],
            [
             0.3,
             "#f1b6da"
            ],
            [
             0.4,
             "#fde0ef"
            ],
            [
             0.5,
             "#f7f7f7"
            ],
            [
             0.6,
             "#e6f5d0"
            ],
            [
             0.7,
             "#b8e186"
            ],
            [
             0.8,
             "#7fbc41"
            ],
            [
             0.9,
             "#4d9221"
            ],
            [
             1,
             "#276419"
            ]
           ],
           "sequential": [
            [
             0,
             "#0d0887"
            ],
            [
             0.1111111111111111,
             "#46039f"
            ],
            [
             0.2222222222222222,
             "#7201a8"
            ],
            [
             0.3333333333333333,
             "#9c179e"
            ],
            [
             0.4444444444444444,
             "#bd3786"
            ],
            [
             0.5555555555555556,
             "#d8576b"
            ],
            [
             0.6666666666666666,
             "#ed7953"
            ],
            [
             0.7777777777777778,
             "#fb9f3a"
            ],
            [
             0.8888888888888888,
             "#fdca26"
            ],
            [
             1,
             "#f0f921"
            ]
           ],
           "sequentialminus": [
            [
             0,
             "#0d0887"
            ],
            [
             0.1111111111111111,
             "#46039f"
            ],
            [
             0.2222222222222222,
             "#7201a8"
            ],
            [
             0.3333333333333333,
             "#9c179e"
            ],
            [
             0.4444444444444444,
             "#bd3786"
            ],
            [
             0.5555555555555556,
             "#d8576b"
            ],
            [
             0.6666666666666666,
             "#ed7953"
            ],
            [
             0.7777777777777778,
             "#fb9f3a"
            ],
            [
             0.8888888888888888,
             "#fdca26"
            ],
            [
             1,
             "#f0f921"
            ]
           ]
          },
          "colorway": [
           "#636efa",
           "#EF553B",
           "#00cc96",
           "#ab63fa",
           "#FFA15A",
           "#19d3f3",
           "#FF6692",
           "#B6E880",
           "#FF97FF",
           "#FECB52"
          ],
          "font": {
           "color": "#2a3f5f"
          },
          "geo": {
           "bgcolor": "white",
           "lakecolor": "white",
           "landcolor": "#E5ECF6",
           "showlakes": true,
           "showland": true,
           "subunitcolor": "white"
          },
          "hoverlabel": {
           "align": "left"
          },
          "hovermode": "closest",
          "mapbox": {
           "style": "light"
          },
          "paper_bgcolor": "white",
          "plot_bgcolor": "#E5ECF6",
          "polar": {
           "angularaxis": {
            "gridcolor": "white",
            "linecolor": "white",
            "ticks": ""
           },
           "bgcolor": "#E5ECF6",
           "radialaxis": {
            "gridcolor": "white",
            "linecolor": "white",
            "ticks": ""
           }
          },
          "scene": {
           "xaxis": {
            "backgroundcolor": "#E5ECF6",
            "gridcolor": "white",
            "gridwidth": 2,
            "linecolor": "white",
            "showbackground": true,
            "ticks": "",
            "zerolinecolor": "white"
           },
           "yaxis": {
            "backgroundcolor": "#E5ECF6",
            "gridcolor": "white",
            "gridwidth": 2,
            "linecolor": "white",
            "showbackground": true,
            "ticks": "",
            "zerolinecolor": "white"
           },
           "zaxis": {
            "backgroundcolor": "#E5ECF6",
            "gridcolor": "white",
            "gridwidth": 2,
            "linecolor": "white",
            "showbackground": true,
            "ticks": "",
            "zerolinecolor": "white"
           }
          },
          "shapedefaults": {
           "line": {
            "color": "#2a3f5f"
           }
          },
          "ternary": {
           "aaxis": {
            "gridcolor": "white",
            "linecolor": "white",
            "ticks": ""
           },
           "baxis": {
            "gridcolor": "white",
            "linecolor": "white",
            "ticks": ""
           },
           "bgcolor": "#E5ECF6",
           "caxis": {
            "gridcolor": "white",
            "linecolor": "white",
            "ticks": ""
           }
          },
          "title": {
           "x": 0.05
          },
          "xaxis": {
           "automargin": true,
           "gridcolor": "white",
           "linecolor": "white",
           "ticks": "",
           "title": {
            "standoff": 15
           },
           "zerolinecolor": "white",
           "zerolinewidth": 2
          },
          "yaxis": {
           "automargin": true,
           "gridcolor": "white",
           "linecolor": "white",
           "ticks": "",
           "title": {
            "standoff": 15
           },
           "zerolinecolor": "white",
           "zerolinewidth": 2
          }
         }
        },
        "title": {
         "text": "Nombre total de films sortis depuis 2000"
        },
        "xaxis": {
         "anchor": "y",
         "domain": [
          0,
          1
         ],
         "title": {
          "text": "Year"
         }
        },
        "yaxis": {
         "anchor": "x",
         "domain": [
          0,
          1
         ],
         "title": {
          "text": "Count"
         }
        }
       }
      }
     },
     "metadata": {},
     "output_type": "display_data"
    }
   ],
   "source": [
    "# Graphe 2 : Evolution du nombre de films sur les 5 dernières années\n",
    "#data_5yrs = data_title_basics[(data_title_basics['startYear'] >= '2020-01-01') & (data_title_basics['startYear'] <= '2024-12-31')]\n",
    "data_from2000 = data_title_basics[(data_title_basics['startYear'] >= '2000-01-01')]\n",
    "yearly_counts = data_from2000['startYear'].dt.year.value_counts().reset_index()\n",
    "yearly_counts.columns = ['Year', 'Count']\n",
    "\n",
    "fig = px.bar(yearly_counts, x='Year', y='Count', color_discrete_sequence=[\"green\"], title='Nombre total de films sortis depuis 2000')\n",
    "fig.show()"
   ]
  },
  {
   "cell_type": "code",
   "execution_count": null,
   "metadata": {},
   "outputs": [],
   "source": [
    "# Graphe 2 : Nombre de films par genre\n",
    "genres_exploded = data_title_basics['genres'].str.split(',').explode('genres')  # \"exploser\" la liste de genres pour créer une nouvelle ligne pour chaque genre associé au film. \n",
    "                                                # Cela permettra d'avoir un DataFrame où chaque ligne correspond à un film et à un seul genre.\n",
    "genres_counts = pd.DataFrame(genres_exploded) # afficher sous forme de dataframe les valeurs explosées\n",
    "gc = dict(genres_counts['genres'].value_counts()) # afficher les valeurs unique et leur nombre sous forme de dictionnaire\n",
    "genre_counts = {'Short': 674505, # utiliser le dictionnaire précédemment afficher afin de créer un dataframe contenant 2 colonnes: genre et nombre de film par genre\n",
    "    'Drama': 393103,\n",
    "    'Documentary': 242733,\n",
    "    'Comedy': 230967,\n",
    "    'Adult': 84481,\n",
    "    'Horror': 74447,\n",
    "    'Romance': 73043,\n",
    "    'Animation': 65512,\n",
    "    'Action': 62903,\n",
    "    'Thriller': 55893,\n",
    "    'Crime': 50169,\n",
    "    'Family': 44042,\n",
    "    'Music': 42201,\n",
    "    'Fantasy': 40430,\n",
    "    'Adventure': 40053,\n",
    "    'Mystery': 34750,\n",
    "    'Sci-Fi': 32521,\n",
    "    'Biography': 29552,\n",
    "    'History': 23514,\n",
    "    'Musical': 15022,\n",
    "    'Sport': 12787,\n",
    "    'War': 10920,\n",
    "    'Western': 9506,\n",
    "    'News': 6923,\n",
    "    'Talk-Show': 2044,\n",
    "    'Reality-TV': 1623,\n",
    "    'Film-Noir': 871,\n",
    "    'Game-Show': 212\n",
    " }\n",
    "new_genre_count = pd.DataFrame.from_dict(genre_counts, orient='index', columns=['Count']) # utiliser le dictionnaire précédemment afficher afin de \n",
    "                                        # créer un dataframe contenant 2 colonnes: genre et nombre de film par genre\n",
    "new_genre_count\n"
   ]
  },
  {
   "cell_type": "code",
   "execution_count": 96,
   "metadata": {},
   "outputs": [
    {
     "data": {
      "application/vnd.plotly.v1+json": {
       "config": {
        "plotlyServerURL": "https://plot.ly"
       },
       "data": [
        {
         "alignmentgroup": "True",
         "hovertemplate": "index=%{x}<br>Count=%{y}<extra></extra>",
         "legendgroup": "",
         "marker": {
          "color": "blue",
          "pattern": {
           "shape": ""
          }
         },
         "name": "",
         "offsetgroup": "",
         "orientation": "v",
         "showlegend": false,
         "textposition": "auto",
         "type": "bar",
         "x": [
          "Short",
          "Drama",
          "Documentary",
          "Comedy",
          "Adult",
          "Horror",
          "Romance",
          "Animation",
          "Action",
          "Thriller",
          "Crime",
          "Family",
          "Music",
          "Fantasy",
          "Adventure",
          "Mystery",
          "Sci-Fi",
          "Biography",
          "History",
          "Musical",
          "Sport",
          "War",
          "Western",
          "News",
          "Talk-Show",
          "Reality-TV",
          "Film-Noir",
          "Game-Show"
         ],
         "xaxis": "x",
         "y": [
          674505,
          393103,
          242733,
          230967,
          84481,
          74447,
          73043,
          65512,
          62903,
          55893,
          50169,
          44042,
          42201,
          40430,
          40053,
          34750,
          32521,
          29552,
          23514,
          15022,
          12787,
          10920,
          9506,
          6923,
          2044,
          1623,
          871,
          212
         ],
         "yaxis": "y"
        }
       ],
       "layout": {
        "barmode": "relative",
        "legend": {
         "tracegroupgap": 0
        },
        "template": {
         "data": {
          "bar": [
           {
            "error_x": {
             "color": "#2a3f5f"
            },
            "error_y": {
             "color": "#2a3f5f"
            },
            "marker": {
             "line": {
              "color": "#E5ECF6",
              "width": 0.5
             },
             "pattern": {
              "fillmode": "overlay",
              "size": 10,
              "solidity": 0.2
             }
            },
            "type": "bar"
           }
          ],
          "barpolar": [
           {
            "marker": {
             "line": {
              "color": "#E5ECF6",
              "width": 0.5
             },
             "pattern": {
              "fillmode": "overlay",
              "size": 10,
              "solidity": 0.2
             }
            },
            "type": "barpolar"
           }
          ],
          "carpet": [
           {
            "aaxis": {
             "endlinecolor": "#2a3f5f",
             "gridcolor": "white",
             "linecolor": "white",
             "minorgridcolor": "white",
             "startlinecolor": "#2a3f5f"
            },
            "baxis": {
             "endlinecolor": "#2a3f5f",
             "gridcolor": "white",
             "linecolor": "white",
             "minorgridcolor": "white",
             "startlinecolor": "#2a3f5f"
            },
            "type": "carpet"
           }
          ],
          "choropleth": [
           {
            "colorbar": {
             "outlinewidth": 0,
             "ticks": ""
            },
            "type": "choropleth"
           }
          ],
          "contour": [
           {
            "colorbar": {
             "outlinewidth": 0,
             "ticks": ""
            },
            "colorscale": [
             [
              0,
              "#0d0887"
             ],
             [
              0.1111111111111111,
              "#46039f"
             ],
             [
              0.2222222222222222,
              "#7201a8"
             ],
             [
              0.3333333333333333,
              "#9c179e"
             ],
             [
              0.4444444444444444,
              "#bd3786"
             ],
             [
              0.5555555555555556,
              "#d8576b"
             ],
             [
              0.6666666666666666,
              "#ed7953"
             ],
             [
              0.7777777777777778,
              "#fb9f3a"
             ],
             [
              0.8888888888888888,
              "#fdca26"
             ],
             [
              1,
              "#f0f921"
             ]
            ],
            "type": "contour"
           }
          ],
          "contourcarpet": [
           {
            "colorbar": {
             "outlinewidth": 0,
             "ticks": ""
            },
            "type": "contourcarpet"
           }
          ],
          "heatmap": [
           {
            "colorbar": {
             "outlinewidth": 0,
             "ticks": ""
            },
            "colorscale": [
             [
              0,
              "#0d0887"
             ],
             [
              0.1111111111111111,
              "#46039f"
             ],
             [
              0.2222222222222222,
              "#7201a8"
             ],
             [
              0.3333333333333333,
              "#9c179e"
             ],
             [
              0.4444444444444444,
              "#bd3786"
             ],
             [
              0.5555555555555556,
              "#d8576b"
             ],
             [
              0.6666666666666666,
              "#ed7953"
             ],
             [
              0.7777777777777778,
              "#fb9f3a"
             ],
             [
              0.8888888888888888,
              "#fdca26"
             ],
             [
              1,
              "#f0f921"
             ]
            ],
            "type": "heatmap"
           }
          ],
          "heatmapgl": [
           {
            "colorbar": {
             "outlinewidth": 0,
             "ticks": ""
            },
            "colorscale": [
             [
              0,
              "#0d0887"
             ],
             [
              0.1111111111111111,
              "#46039f"
             ],
             [
              0.2222222222222222,
              "#7201a8"
             ],
             [
              0.3333333333333333,
              "#9c179e"
             ],
             [
              0.4444444444444444,
              "#bd3786"
             ],
             [
              0.5555555555555556,
              "#d8576b"
             ],
             [
              0.6666666666666666,
              "#ed7953"
             ],
             [
              0.7777777777777778,
              "#fb9f3a"
             ],
             [
              0.8888888888888888,
              "#fdca26"
             ],
             [
              1,
              "#f0f921"
             ]
            ],
            "type": "heatmapgl"
           }
          ],
          "histogram": [
           {
            "marker": {
             "pattern": {
              "fillmode": "overlay",
              "size": 10,
              "solidity": 0.2
             }
            },
            "type": "histogram"
           }
          ],
          "histogram2d": [
           {
            "colorbar": {
             "outlinewidth": 0,
             "ticks": ""
            },
            "colorscale": [
             [
              0,
              "#0d0887"
             ],
             [
              0.1111111111111111,
              "#46039f"
             ],
             [
              0.2222222222222222,
              "#7201a8"
             ],
             [
              0.3333333333333333,
              "#9c179e"
             ],
             [
              0.4444444444444444,
              "#bd3786"
             ],
             [
              0.5555555555555556,
              "#d8576b"
             ],
             [
              0.6666666666666666,
              "#ed7953"
             ],
             [
              0.7777777777777778,
              "#fb9f3a"
             ],
             [
              0.8888888888888888,
              "#fdca26"
             ],
             [
              1,
              "#f0f921"
             ]
            ],
            "type": "histogram2d"
           }
          ],
          "histogram2dcontour": [
           {
            "colorbar": {
             "outlinewidth": 0,
             "ticks": ""
            },
            "colorscale": [
             [
              0,
              "#0d0887"
             ],
             [
              0.1111111111111111,
              "#46039f"
             ],
             [
              0.2222222222222222,
              "#7201a8"
             ],
             [
              0.3333333333333333,
              "#9c179e"
             ],
             [
              0.4444444444444444,
              "#bd3786"
             ],
             [
              0.5555555555555556,
              "#d8576b"
             ],
             [
              0.6666666666666666,
              "#ed7953"
             ],
             [
              0.7777777777777778,
              "#fb9f3a"
             ],
             [
              0.8888888888888888,
              "#fdca26"
             ],
             [
              1,
              "#f0f921"
             ]
            ],
            "type": "histogram2dcontour"
           }
          ],
          "mesh3d": [
           {
            "colorbar": {
             "outlinewidth": 0,
             "ticks": ""
            },
            "type": "mesh3d"
           }
          ],
          "parcoords": [
           {
            "line": {
             "colorbar": {
              "outlinewidth": 0,
              "ticks": ""
             }
            },
            "type": "parcoords"
           }
          ],
          "pie": [
           {
            "automargin": true,
            "type": "pie"
           }
          ],
          "scatter": [
           {
            "fillpattern": {
             "fillmode": "overlay",
             "size": 10,
             "solidity": 0.2
            },
            "type": "scatter"
           }
          ],
          "scatter3d": [
           {
            "line": {
             "colorbar": {
              "outlinewidth": 0,
              "ticks": ""
             }
            },
            "marker": {
             "colorbar": {
              "outlinewidth": 0,
              "ticks": ""
             }
            },
            "type": "scatter3d"
           }
          ],
          "scattercarpet": [
           {
            "marker": {
             "colorbar": {
              "outlinewidth": 0,
              "ticks": ""
             }
            },
            "type": "scattercarpet"
           }
          ],
          "scattergeo": [
           {
            "marker": {
             "colorbar": {
              "outlinewidth": 0,
              "ticks": ""
             }
            },
            "type": "scattergeo"
           }
          ],
          "scattergl": [
           {
            "marker": {
             "colorbar": {
              "outlinewidth": 0,
              "ticks": ""
             }
            },
            "type": "scattergl"
           }
          ],
          "scattermapbox": [
           {
            "marker": {
             "colorbar": {
              "outlinewidth": 0,
              "ticks": ""
             }
            },
            "type": "scattermapbox"
           }
          ],
          "scatterpolar": [
           {
            "marker": {
             "colorbar": {
              "outlinewidth": 0,
              "ticks": ""
             }
            },
            "type": "scatterpolar"
           }
          ],
          "scatterpolargl": [
           {
            "marker": {
             "colorbar": {
              "outlinewidth": 0,
              "ticks": ""
             }
            },
            "type": "scatterpolargl"
           }
          ],
          "scatterternary": [
           {
            "marker": {
             "colorbar": {
              "outlinewidth": 0,
              "ticks": ""
             }
            },
            "type": "scatterternary"
           }
          ],
          "surface": [
           {
            "colorbar": {
             "outlinewidth": 0,
             "ticks": ""
            },
            "colorscale": [
             [
              0,
              "#0d0887"
             ],
             [
              0.1111111111111111,
              "#46039f"
             ],
             [
              0.2222222222222222,
              "#7201a8"
             ],
             [
              0.3333333333333333,
              "#9c179e"
             ],
             [
              0.4444444444444444,
              "#bd3786"
             ],
             [
              0.5555555555555556,
              "#d8576b"
             ],
             [
              0.6666666666666666,
              "#ed7953"
             ],
             [
              0.7777777777777778,
              "#fb9f3a"
             ],
             [
              0.8888888888888888,
              "#fdca26"
             ],
             [
              1,
              "#f0f921"
             ]
            ],
            "type": "surface"
           }
          ],
          "table": [
           {
            "cells": {
             "fill": {
              "color": "#EBF0F8"
             },
             "line": {
              "color": "white"
             }
            },
            "header": {
             "fill": {
              "color": "#C8D4E3"
             },
             "line": {
              "color": "white"
             }
            },
            "type": "table"
           }
          ]
         },
         "layout": {
          "annotationdefaults": {
           "arrowcolor": "#2a3f5f",
           "arrowhead": 0,
           "arrowwidth": 1
          },
          "autotypenumbers": "strict",
          "coloraxis": {
           "colorbar": {
            "outlinewidth": 0,
            "ticks": ""
           }
          },
          "colorscale": {
           "diverging": [
            [
             0,
             "#8e0152"
            ],
            [
             0.1,
             "#c51b7d"
            ],
            [
             0.2,
             "#de77ae"
            ],
            [
             0.3,
             "#f1b6da"
            ],
            [
             0.4,
             "#fde0ef"
            ],
            [
             0.5,
             "#f7f7f7"
            ],
            [
             0.6,
             "#e6f5d0"
            ],
            [
             0.7,
             "#b8e186"
            ],
            [
             0.8,
             "#7fbc41"
            ],
            [
             0.9,
             "#4d9221"
            ],
            [
             1,
             "#276419"
            ]
           ],
           "sequential": [
            [
             0,
             "#0d0887"
            ],
            [
             0.1111111111111111,
             "#46039f"
            ],
            [
             0.2222222222222222,
             "#7201a8"
            ],
            [
             0.3333333333333333,
             "#9c179e"
            ],
            [
             0.4444444444444444,
             "#bd3786"
            ],
            [
             0.5555555555555556,
             "#d8576b"
            ],
            [
             0.6666666666666666,
             "#ed7953"
            ],
            [
             0.7777777777777778,
             "#fb9f3a"
            ],
            [
             0.8888888888888888,
             "#fdca26"
            ],
            [
             1,
             "#f0f921"
            ]
           ],
           "sequentialminus": [
            [
             0,
             "#0d0887"
            ],
            [
             0.1111111111111111,
             "#46039f"
            ],
            [
             0.2222222222222222,
             "#7201a8"
            ],
            [
             0.3333333333333333,
             "#9c179e"
            ],
            [
             0.4444444444444444,
             "#bd3786"
            ],
            [
             0.5555555555555556,
             "#d8576b"
            ],
            [
             0.6666666666666666,
             "#ed7953"
            ],
            [
             0.7777777777777778,
             "#fb9f3a"
            ],
            [
             0.8888888888888888,
             "#fdca26"
            ],
            [
             1,
             "#f0f921"
            ]
           ]
          },
          "colorway": [
           "#636efa",
           "#EF553B",
           "#00cc96",
           "#ab63fa",
           "#FFA15A",
           "#19d3f3",
           "#FF6692",
           "#B6E880",
           "#FF97FF",
           "#FECB52"
          ],
          "font": {
           "color": "#2a3f5f"
          },
          "geo": {
           "bgcolor": "white",
           "lakecolor": "white",
           "landcolor": "#E5ECF6",
           "showlakes": true,
           "showland": true,
           "subunitcolor": "white"
          },
          "hoverlabel": {
           "align": "left"
          },
          "hovermode": "closest",
          "mapbox": {
           "style": "light"
          },
          "paper_bgcolor": "white",
          "plot_bgcolor": "#E5ECF6",
          "polar": {
           "angularaxis": {
            "gridcolor": "white",
            "linecolor": "white",
            "ticks": ""
           },
           "bgcolor": "#E5ECF6",
           "radialaxis": {
            "gridcolor": "white",
            "linecolor": "white",
            "ticks": ""
           }
          },
          "scene": {
           "xaxis": {
            "backgroundcolor": "#E5ECF6",
            "gridcolor": "white",
            "gridwidth": 2,
            "linecolor": "white",
            "showbackground": true,
            "ticks": "",
            "zerolinecolor": "white"
           },
           "yaxis": {
            "backgroundcolor": "#E5ECF6",
            "gridcolor": "white",
            "gridwidth": 2,
            "linecolor": "white",
            "showbackground": true,
            "ticks": "",
            "zerolinecolor": "white"
           },
           "zaxis": {
            "backgroundcolor": "#E5ECF6",
            "gridcolor": "white",
            "gridwidth": 2,
            "linecolor": "white",
            "showbackground": true,
            "ticks": "",
            "zerolinecolor": "white"
           }
          },
          "shapedefaults": {
           "line": {
            "color": "#2a3f5f"
           }
          },
          "ternary": {
           "aaxis": {
            "gridcolor": "white",
            "linecolor": "white",
            "ticks": ""
           },
           "baxis": {
            "gridcolor": "white",
            "linecolor": "white",
            "ticks": ""
           },
           "bgcolor": "#E5ECF6",
           "caxis": {
            "gridcolor": "white",
            "linecolor": "white",
            "ticks": ""
           }
          },
          "title": {
           "x": 0.05
          },
          "xaxis": {
           "automargin": true,
           "gridcolor": "white",
           "linecolor": "white",
           "ticks": "",
           "title": {
            "standoff": 15
           },
           "zerolinecolor": "white",
           "zerolinewidth": 2
          },
          "yaxis": {
           "automargin": true,
           "gridcolor": "white",
           "linecolor": "white",
           "ticks": "",
           "title": {
            "standoff": 15
           },
           "zerolinecolor": "white",
           "zerolinewidth": 2
          }
         }
        },
        "title": {
         "text": "Nombre de films par genre"
        },
        "xaxis": {
         "anchor": "y",
         "domain": [
          0,
          1
         ],
         "title": {
          "text": "index"
         }
        },
        "yaxis": {
         "anchor": "x",
         "domain": [
          0,
          1
         ],
         "title": {
          "text": "Count"
         }
        }
       }
      }
     },
     "metadata": {},
     "output_type": "display_data"
    }
   ],
   "source": [
    "fig = px.bar(new_genre_count, x=new_genre_count.index, y=new_genre_count['Count'], color_discrete_sequence=[\"blue\"], title=\"Nombre de films par genre\",\n",
    "            labels={\"x\": \"Genre\", \"y\": \"Nombre de films\"})\n",
    "fig.show()\n"
   ]
  },
  {
   "cell_type": "code",
   "execution_count": 106,
   "metadata": {},
   "outputs": [
    {
     "data": {
      "text/plain": [
       "0          tt0000001\n",
       "1          tt0000002\n",
       "2          tt0000003\n",
       "3          tt0000004\n",
       "4          tt0000005\n",
       "             ...    \n",
       "1253974    tt9916680\n",
       "1253975    tt9916724\n",
       "1253976    tt9916730\n",
       "1253977    tt9916754\n",
       "1253978    tt9916856\n",
       "Name: tconst, Length: 1253979, dtype: object"
      ]
     },
     "execution_count": 106,
     "metadata": {},
     "output_type": "execute_result"
    }
   ],
   "source": [
    "data_title_basics['tconst']"
   ]
  },
  {
   "cell_type": "code",
   "execution_count": null,
   "metadata": {},
   "outputs": [
    {
     "data": {
      "text/html": [
       "<div>\n",
       "<style scoped>\n",
       "    .dataframe tbody tr th:only-of-type {\n",
       "        vertical-align: middle;\n",
       "    }\n",
       "\n",
       "    .dataframe tbody tr th {\n",
       "        vertical-align: top;\n",
       "    }\n",
       "\n",
       "    .dataframe thead th {\n",
       "        text-align: right;\n",
       "    }\n",
       "</style>\n",
       "<table border=\"1\" class=\"dataframe\">\n",
       "  <thead>\n",
       "    <tr style=\"text-align: right;\">\n",
       "      <th></th>\n",
       "      <th>tconst</th>\n",
       "      <th>titleType</th>\n",
       "      <th>primaryTitle</th>\n",
       "      <th>originalTitle</th>\n",
       "      <th>isAdult</th>\n",
       "      <th>startYear</th>\n",
       "      <th>runtimeMinutes</th>\n",
       "      <th>genres</th>\n",
       "      <th>metrage</th>\n",
       "    </tr>\n",
       "  </thead>\n",
       "  <tbody>\n",
       "    <tr>\n",
       "      <th>0</th>\n",
       "      <td>tt0000001</td>\n",
       "      <td>short</td>\n",
       "      <td>Carmencita</td>\n",
       "      <td>Carmencita</td>\n",
       "      <td>False</td>\n",
       "      <td>1894-01-01</td>\n",
       "      <td>1</td>\n",
       "      <td>Documentary,Short</td>\n",
       "      <td>court_metrage</td>\n",
       "    </tr>\n",
       "    <tr>\n",
       "      <th>1</th>\n",
       "      <td>tt0000002</td>\n",
       "      <td>short</td>\n",
       "      <td>Le clown et ses chiens</td>\n",
       "      <td>Le clown et ses chiens</td>\n",
       "      <td>False</td>\n",
       "      <td>1892-01-01</td>\n",
       "      <td>5</td>\n",
       "      <td>Animation,Short</td>\n",
       "      <td>court_metrage</td>\n",
       "    </tr>\n",
       "    <tr>\n",
       "      <th>2</th>\n",
       "      <td>tt0000003</td>\n",
       "      <td>short</td>\n",
       "      <td>Poor Pierrot</td>\n",
       "      <td>Pauvre Pierrot</td>\n",
       "      <td>False</td>\n",
       "      <td>1892-01-01</td>\n",
       "      <td>5</td>\n",
       "      <td>Animation,Comedy,Romance</td>\n",
       "      <td>court_metrage</td>\n",
       "    </tr>\n",
       "    <tr>\n",
       "      <th>3</th>\n",
       "      <td>tt0000004</td>\n",
       "      <td>short</td>\n",
       "      <td>Un bon bock</td>\n",
       "      <td>Un bon bock</td>\n",
       "      <td>False</td>\n",
       "      <td>1892-01-01</td>\n",
       "      <td>12</td>\n",
       "      <td>Animation,Short</td>\n",
       "      <td>court_metrage</td>\n",
       "    </tr>\n",
       "    <tr>\n",
       "      <th>4</th>\n",
       "      <td>tt0000005</td>\n",
       "      <td>short</td>\n",
       "      <td>Blacksmith Scene</td>\n",
       "      <td>Blacksmith Scene</td>\n",
       "      <td>False</td>\n",
       "      <td>1893-01-01</td>\n",
       "      <td>1</td>\n",
       "      <td>Comedy,Short</td>\n",
       "      <td>court_metrage</td>\n",
       "    </tr>\n",
       "    <tr>\n",
       "      <th>...</th>\n",
       "      <td>...</td>\n",
       "      <td>...</td>\n",
       "      <td>...</td>\n",
       "      <td>...</td>\n",
       "      <td>...</td>\n",
       "      <td>...</td>\n",
       "      <td>...</td>\n",
       "      <td>...</td>\n",
       "      <td>...</td>\n",
       "    </tr>\n",
       "    <tr>\n",
       "      <th>1253974</th>\n",
       "      <td>tt9916680</td>\n",
       "      <td>movie</td>\n",
       "      <td>De la ilusión al desconcierto: cine colombiano...</td>\n",
       "      <td>De la ilusión al desconcierto: cine colombiano...</td>\n",
       "      <td>False</td>\n",
       "      <td>2007-01-01</td>\n",
       "      <td>100</td>\n",
       "      <td>Documentary</td>\n",
       "      <td>long_metrage</td>\n",
       "    </tr>\n",
       "    <tr>\n",
       "      <th>1253975</th>\n",
       "      <td>tt9916724</td>\n",
       "      <td>short</td>\n",
       "      <td>Hay Que Ser Paciente</td>\n",
       "      <td>Hay Que Ser Paciente</td>\n",
       "      <td>False</td>\n",
       "      <td>2015-01-01</td>\n",
       "      <td>3</td>\n",
       "      <td>Documentary,Short</td>\n",
       "      <td>court_metrage</td>\n",
       "    </tr>\n",
       "    <tr>\n",
       "      <th>1253976</th>\n",
       "      <td>tt9916730</td>\n",
       "      <td>movie</td>\n",
       "      <td>6 Gunn</td>\n",
       "      <td>6 Gunn</td>\n",
       "      <td>False</td>\n",
       "      <td>2017-01-01</td>\n",
       "      <td>116</td>\n",
       "      <td>Drama</td>\n",
       "      <td>long_metrage</td>\n",
       "    </tr>\n",
       "    <tr>\n",
       "      <th>1253977</th>\n",
       "      <td>tt9916754</td>\n",
       "      <td>movie</td>\n",
       "      <td>Chico Albuquerque - Revelações</td>\n",
       "      <td>Chico Albuquerque - Revelações</td>\n",
       "      <td>False</td>\n",
       "      <td>2013-01-01</td>\n",
       "      <td>49</td>\n",
       "      <td>Documentary</td>\n",
       "      <td>court_metrage</td>\n",
       "    </tr>\n",
       "    <tr>\n",
       "      <th>1253978</th>\n",
       "      <td>tt9916856</td>\n",
       "      <td>short</td>\n",
       "      <td>The Wind</td>\n",
       "      <td>The Wind</td>\n",
       "      <td>False</td>\n",
       "      <td>2015-01-01</td>\n",
       "      <td>27</td>\n",
       "      <td>Short</td>\n",
       "      <td>court_metrage</td>\n",
       "    </tr>\n",
       "  </tbody>\n",
       "</table>\n",
       "<p>1253979 rows × 9 columns</p>\n",
       "</div>"
      ],
      "text/plain": [
       "            tconst titleType  \\\n",
       "0        tt0000001     short   \n",
       "1        tt0000002     short   \n",
       "2        tt0000003     short   \n",
       "3        tt0000004     short   \n",
       "4        tt0000005     short   \n",
       "...            ...       ...   \n",
       "1253974  tt9916680     movie   \n",
       "1253975  tt9916724     short   \n",
       "1253976  tt9916730     movie   \n",
       "1253977  tt9916754     movie   \n",
       "1253978  tt9916856     short   \n",
       "\n",
       "                                              primaryTitle  \\\n",
       "0                                               Carmencita   \n",
       "1                                   Le clown et ses chiens   \n",
       "2                                             Poor Pierrot   \n",
       "3                                              Un bon bock   \n",
       "4                                         Blacksmith Scene   \n",
       "...                                                    ...   \n",
       "1253974  De la ilusión al desconcierto: cine colombiano...   \n",
       "1253975                               Hay Que Ser Paciente   \n",
       "1253976                                             6 Gunn   \n",
       "1253977                     Chico Albuquerque - Revelações   \n",
       "1253978                                           The Wind   \n",
       "\n",
       "                                             originalTitle  isAdult  \\\n",
       "0                                               Carmencita    False   \n",
       "1                                   Le clown et ses chiens    False   \n",
       "2                                           Pauvre Pierrot    False   \n",
       "3                                              Un bon bock    False   \n",
       "4                                         Blacksmith Scene    False   \n",
       "...                                                    ...      ...   \n",
       "1253974  De la ilusión al desconcierto: cine colombiano...    False   \n",
       "1253975                               Hay Que Ser Paciente    False   \n",
       "1253976                                             6 Gunn    False   \n",
       "1253977                     Chico Albuquerque - Revelações    False   \n",
       "1253978                                           The Wind    False   \n",
       "\n",
       "         startYear  runtimeMinutes                    genres        metrage  \n",
       "0       1894-01-01               1         Documentary,Short  court_metrage  \n",
       "1       1892-01-01               5           Animation,Short  court_metrage  \n",
       "2       1892-01-01               5  Animation,Comedy,Romance  court_metrage  \n",
       "3       1892-01-01              12           Animation,Short  court_metrage  \n",
       "4       1893-01-01               1              Comedy,Short  court_metrage  \n",
       "...            ...             ...                       ...            ...  \n",
       "1253974 2007-01-01             100               Documentary   long_metrage  \n",
       "1253975 2015-01-01               3         Documentary,Short  court_metrage  \n",
       "1253976 2017-01-01             116                     Drama   long_metrage  \n",
       "1253977 2013-01-01              49               Documentary  court_metrage  \n",
       "1253978 2015-01-01              27                     Short  court_metrage  \n",
       "\n",
       "[1253979 rows x 9 columns]"
      ]
     },
     "execution_count": 107,
     "metadata": {},
     "output_type": "execute_result"
    }
   ],
   "source": [
    "title_basics_exploded = data_title_basics.explode('genres')\n",
    "\n",
    "crosstab = title_basics_exploded.pivot_table(index='tconst', columns='genres')\n",
    "\n",
    "title_basics_exploded"
   ]
  },
  {
   "cell_type": "code",
   "execution_count": null,
   "metadata": {},
   "outputs": [],
   "source": [
    "crosstab.plot.bar(stacked=True)\n",
    "plt.title('Répartition des films par genres')\n",
    "plt.xlabel('Films')\n",
    "plt.ylabel('Genres')\n",
    "plt.show()\n"
   ]
  }
 ],
 "metadata": {
  "kernelspec": {
   "display_name": "base",
   "language": "python",
   "name": "python3"
  },
  "language_info": {
   "codemirror_mode": {
    "name": "ipython",
    "version": 3
   },
   "file_extension": ".py",
   "mimetype": "text/x-python",
   "name": "python",
   "nbconvert_exporter": "python",
   "pygments_lexer": "ipython3",
   "version": "3.12.7"
  }
 },
 "nbformat": 4,
 "nbformat_minor": 2
}
