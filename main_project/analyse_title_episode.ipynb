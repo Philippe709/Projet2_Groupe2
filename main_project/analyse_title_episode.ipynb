{
 "cells": [
  {
   "cell_type": "code",
   "execution_count": 2,
   "metadata": {},
   "outputs": [
    {
     "name": "stdout",
     "output_type": "stream",
     "text": [
      "<class 'pandas.core.frame.DataFrame'>\n",
      "RangeIndex: 8656492 entries, 0 to 8656491\n",
      "Data columns (total 4 columns):\n",
      " #   Column         Dtype  \n",
      "---  ------         -----  \n",
      " 0   tconst         object \n",
      " 1   parentTconst   object \n",
      " 2   seasonNumber   float64\n",
      " 3   episodeNumber  float64\n",
      "dtypes: float64(2), object(2)\n",
      "memory usage: 264.2+ MB\n"
     ]
    }
   ],
   "source": [
    "import pandas as pd\n",
    "\n",
    "\n",
    "df_title_episode = pd.read_csv('../BD_A_IGNORE/title.episode.tsv.gz', compression = 'gzip', sep='\\t', on_bad_lines='skip', na_values=['\\\\N'])\n",
    "\n",
    "df_title_episode.info()"
   ]
  }
 ],
 "metadata": {
  "kernelspec": {
   "display_name": "base",
   "language": "python",
   "name": "python3"
  },
  "language_info": {
   "codemirror_mode": {
    "name": "ipython",
    "version": 3
   },
   "file_extension": ".py",
   "mimetype": "text/x-python",
   "name": "python",
   "nbconvert_exporter": "python",
   "pygments_lexer": "ipython3",
   "version": "3.12.4"
  }
 },
 "nbformat": 4,
 "nbformat_minor": 2
}
