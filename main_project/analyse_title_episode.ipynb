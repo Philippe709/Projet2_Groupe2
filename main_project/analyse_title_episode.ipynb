{
 "cells": [
  {
   "cell_type": "code",
   "execution_count": 2,
   "metadata": {},
   "outputs": [
    {
     "name": "stdout",
     "output_type": "stream",
     "text": [
      "<class 'pandas.core.frame.DataFrame'>\n",
      "RangeIndex: 8656492 entries, 0 to 8656491\n",
      "Data columns (total 4 columns):\n",
      " #   Column         Dtype  \n",
      "---  ------         -----  \n",
      " 0   tconst         object \n",
      " 1   parentTconst   object \n",
      " 2   seasonNumber   float64\n",
      " 3   episodeNumber  float64\n",
      "dtypes: float64(2), object(2)\n",
      "memory usage: 264.2+ MB\n"
     ]
    }
   ],
   "source": [
    "import pandas as pd\n",
    "\n",
    "\n",
    "df_title_episode = pd.read_csv('../BD_A_IGNORE/title.episode.tsv.gz', compression = 'gzip', sep='\\t', on_bad_lines='skip', na_values=['\\\\N'])\n",
    "\n",
    "df_title_episode.info()"
   ]
  },
  {
   "cell_type": "code",
   "execution_count": 3,
   "metadata": {},
   "outputs": [
    {
     "data": {
      "text/html": [
       "<div>\n",
       "<style scoped>\n",
       "    .dataframe tbody tr th:only-of-type {\n",
       "        vertical-align: middle;\n",
       "    }\n",
       "\n",
       "    .dataframe tbody tr th {\n",
       "        vertical-align: top;\n",
       "    }\n",
       "\n",
       "    .dataframe thead th {\n",
       "        text-align: right;\n",
       "    }\n",
       "</style>\n",
       "<table border=\"1\" class=\"dataframe\">\n",
       "  <thead>\n",
       "    <tr style=\"text-align: right;\">\n",
       "      <th></th>\n",
       "      <th>tconst</th>\n",
       "      <th>parentTconst</th>\n",
       "      <th>seasonNumber</th>\n",
       "      <th>episodeNumber</th>\n",
       "    </tr>\n",
       "  </thead>\n",
       "  <tbody>\n",
       "    <tr>\n",
       "      <th>6929081</th>\n",
       "      <td>tt5053846</td>\n",
       "      <td>tt0088580</td>\n",
       "      <td>1.0</td>\n",
       "      <td>7961.0</td>\n",
       "    </tr>\n",
       "    <tr>\n",
       "      <th>589443</th>\n",
       "      <td>tt10329958</td>\n",
       "      <td>tt0242750</td>\n",
       "      <td>5.0</td>\n",
       "      <td>74.0</td>\n",
       "    </tr>\n",
       "    <tr>\n",
       "      <th>7936073</th>\n",
       "      <td>tt8020810</td>\n",
       "      <td>tt8019008</td>\n",
       "      <td>1.0</td>\n",
       "      <td>5.0</td>\n",
       "    </tr>\n",
       "    <tr>\n",
       "      <th>2028065</th>\n",
       "      <td>tt13531274</td>\n",
       "      <td>tt0096537</td>\n",
       "      <td>2.0</td>\n",
       "      <td>179.0</td>\n",
       "    </tr>\n",
       "    <tr>\n",
       "      <th>6037072</th>\n",
       "      <td>tt3267878</td>\n",
       "      <td>tt2346169</td>\n",
       "      <td>4.0</td>\n",
       "      <td>4.0</td>\n",
       "    </tr>\n",
       "    <tr>\n",
       "      <th>4737759</th>\n",
       "      <td>tt2642330</td>\n",
       "      <td>tt0859592</td>\n",
       "      <td>7.0</td>\n",
       "      <td>11.0</td>\n",
       "    </tr>\n",
       "    <tr>\n",
       "      <th>7137607</th>\n",
       "      <td>tt5702066</td>\n",
       "      <td>tt3108512</td>\n",
       "      <td>9.0</td>\n",
       "      <td>6.0</td>\n",
       "    </tr>\n",
       "    <tr>\n",
       "      <th>8001536</th>\n",
       "      <td>tt8194914</td>\n",
       "      <td>tt0221738</td>\n",
       "      <td>1.0</td>\n",
       "      <td>221.0</td>\n",
       "    </tr>\n",
       "    <tr>\n",
       "      <th>1858278</th>\n",
       "      <td>tt13139280</td>\n",
       "      <td>tt0108821</td>\n",
       "      <td>3.0</td>\n",
       "      <td>44.0</td>\n",
       "    </tr>\n",
       "    <tr>\n",
       "      <th>3546640</th>\n",
       "      <td>tt18238130</td>\n",
       "      <td>tt0236924</td>\n",
       "      <td>1.0</td>\n",
       "      <td>3212.0</td>\n",
       "    </tr>\n",
       "  </tbody>\n",
       "</table>\n",
       "</div>"
      ],
      "text/plain": [
       "             tconst parentTconst  seasonNumber  episodeNumber\n",
       "6929081   tt5053846    tt0088580           1.0         7961.0\n",
       "589443   tt10329958    tt0242750           5.0           74.0\n",
       "7936073   tt8020810    tt8019008           1.0            5.0\n",
       "2028065  tt13531274    tt0096537           2.0          179.0\n",
       "6037072   tt3267878    tt2346169           4.0            4.0\n",
       "4737759   tt2642330    tt0859592           7.0           11.0\n",
       "7137607   tt5702066    tt3108512           9.0            6.0\n",
       "8001536   tt8194914    tt0221738           1.0          221.0\n",
       "1858278  tt13139280    tt0108821           3.0           44.0\n",
       "3546640  tt18238130    tt0236924           1.0         3212.0"
      ]
     },
     "execution_count": 3,
     "metadata": {},
     "output_type": "execute_result"
    }
   ],
   "source": [
    "df_title_episode.sample(10)\n"
   ]
  }
 ],
 "metadata": {
  "kernelspec": {
   "display_name": "base",
   "language": "python",
   "name": "python3"
  },
  "language_info": {
   "codemirror_mode": {
    "name": "ipython",
    "version": 3
   },
   "file_extension": ".py",
   "mimetype": "text/x-python",
   "name": "python",
   "nbconvert_exporter": "python",
   "pygments_lexer": "ipython3",
   "version": "3.12.4"
  }
 },
 "nbformat": 4,
 "nbformat_minor": 2
}
