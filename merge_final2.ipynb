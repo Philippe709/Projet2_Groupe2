{
 "cells": [
  {
   "cell_type": "code",
   "execution_count": 3,
   "metadata": {},
   "outputs": [
    {
     "name": "stdout",
     "output_type": "stream",
     "text": [
      "<class 'pandas.core.frame.DataFrame'>\n",
      "RangeIndex: 466501 entries, 0 to 466500\n",
      "Data columns (total 12 columns):\n",
      " #   Column          Non-Null Count   Dtype  \n",
      "---  ------          --------------   -----  \n",
      " 0   Unnamed: 0      466501 non-null  int64  \n",
      " 1   tconst          466501 non-null  object \n",
      " 2   titleType       466501 non-null  object \n",
      " 3   primaryTitle    466501 non-null  object \n",
      " 4   originalTitle   466501 non-null  object \n",
      " 5   isAdult         466501 non-null  bool   \n",
      " 6   startYear       466501 non-null  object \n",
      " 7   runtimeMinutes  466501 non-null  float64\n",
      " 8   genres          466501 non-null  object \n",
      " 9   averageRating   466501 non-null  float64\n",
      " 10  numVotes        466501 non-null  int64  \n",
      " 11  directors       466501 non-null  object \n",
      "dtypes: bool(1), float64(2), int64(2), object(7)\n",
      "memory usage: 39.6+ MB\n"
     ]
    }
   ],
   "source": [
    "import pandas as pd\n",
    "\n",
    "merge2 = pd.read_csv('../files_source/merge2.csv')\n",
    "merge2.info()\n"
   ]
  },
  {
   "cell_type": "code",
   "execution_count": 4,
   "metadata": {},
   "outputs": [
    {
     "name": "stdout",
     "output_type": "stream",
     "text": [
      "<class 'pandas.core.frame.DataFrame'>\n",
      "RangeIndex: 13981026 entries, 0 to 13981025\n",
      "Data columns (total 5 columns):\n",
      " #   Column          Dtype  \n",
      "---  ------          -----  \n",
      " 0   Unnamed: 0      int64  \n",
      " 1   nconst          object \n",
      " 2   primaryName     object \n",
      " 3   birthYear       float64\n",
      " 4   knownForTitles  object \n",
      "dtypes: float64(1), int64(1), object(3)\n",
      "memory usage: 533.3+ MB\n"
     ]
    }
   ],
   "source": [
    "name_basics_f = pd.read_csv('../files_source/name_basics_filtered.csv')\n",
    "name_basics_f.info()\n"
   ]
  },
  {
   "cell_type": "code",
   "execution_count": 5,
   "metadata": {},
   "outputs": [
    {
     "name": "stdout",
     "output_type": "stream",
     "text": [
      "<class 'pandas.core.frame.DataFrame'>\n",
      "RangeIndex: 89437033 entries, 0 to 89437032\n",
      "Data columns (total 6 columns):\n",
      " #   Column      Dtype \n",
      "---  ------      ----- \n",
      " 0   tconst      object\n",
      " 1   ordering    int64 \n",
      " 2   nconst      object\n",
      " 3   category    object\n",
      " 4   job         object\n",
      " 5   characters  object\n",
      "dtypes: int64(1), object(5)\n",
      "memory usage: 4.0+ GB\n"
     ]
    }
   ],
   "source": [
    "title_principals = pd.read_csv('../files_source/title.principals.tsv.gz', sep='\\t', compression='gzip', na_values=(r'\\N'))\n",
    "title_principals.info()"
   ]
  },
  {
   "cell_type": "code",
   "execution_count": 6,
   "metadata": {},
   "outputs": [
    {
     "name": "stdout",
     "output_type": "stream",
     "text": [
      "<class 'pandas.core.frame.DataFrame'>\n",
      "RangeIndex: 89437033 entries, 0 to 89437032\n",
      "Data columns (total 3 columns):\n",
      " #   Column    Dtype \n",
      "---  ------    ----- \n",
      " 0   tconst    object\n",
      " 1   nconst    object\n",
      " 2   category  object\n",
      "dtypes: object(3)\n",
      "memory usage: 2.0+ GB\n"
     ]
    }
   ],
   "source": [
    "title_principals = title_principals.drop(['ordering','job','characters'], axis = 1)\n",
    "title_principals.info()"
   ]
  },
  {
   "cell_type": "code",
   "execution_count": 7,
   "metadata": {},
   "outputs": [
    {
     "name": "stdout",
     "output_type": "stream",
     "text": [
      "<class 'pandas.core.frame.DataFrame'>\n",
      "RangeIndex: 96920983 entries, 0 to 96920982\n",
      "Data columns (total 7 columns):\n",
      " #   Column          Dtype  \n",
      "---  ------          -----  \n",
      " 0   tconst          object \n",
      " 1   nconst          object \n",
      " 2   category        object \n",
      " 3   Unnamed: 0      float64\n",
      " 4   primaryName     object \n",
      " 5   birthYear       float64\n",
      " 6   knownForTitles  object \n",
      "dtypes: float64(2), object(5)\n",
      "memory usage: 5.1+ GB\n"
     ]
    }
   ],
   "source": [
    "principals_names = pd.merge(title_principals, name_basics_f, how='outer', left_on='nconst', right_on='nconst')\n",
    "principals_names.info()"
   ]
  },
  {
   "cell_type": "code",
   "execution_count": 8,
   "metadata": {},
   "outputs": [
    {
     "data": {
      "text/html": [
       "<div>\n",
       "<style scoped>\n",
       "    .dataframe tbody tr th:only-of-type {\n",
       "        vertical-align: middle;\n",
       "    }\n",
       "\n",
       "    .dataframe tbody tr th {\n",
       "        vertical-align: top;\n",
       "    }\n",
       "\n",
       "    .dataframe thead th {\n",
       "        text-align: right;\n",
       "    }\n",
       "</style>\n",
       "<table border=\"1\" class=\"dataframe\">\n",
       "  <thead>\n",
       "    <tr style=\"text-align: right;\">\n",
       "      <th></th>\n",
       "      <th>tconst</th>\n",
       "      <th>nconst</th>\n",
       "      <th>category</th>\n",
       "      <th>Unnamed: 0</th>\n",
       "      <th>primaryName</th>\n",
       "      <th>birthYear</th>\n",
       "      <th>knownForTitles</th>\n",
       "    </tr>\n",
       "  </thead>\n",
       "  <tbody>\n",
       "    <tr>\n",
       "      <th>0</th>\n",
       "      <td>tt0023926</td>\n",
       "      <td>nm0000001</td>\n",
       "      <td>actor</td>\n",
       "      <td>0.0</td>\n",
       "      <td>Fred Astaire</td>\n",
       "      <td>1899.0</td>\n",
       "      <td>tt0050419,tt0072308,tt0053137,tt0027125</td>\n",
       "    </tr>\n",
       "    <tr>\n",
       "      <th>1</th>\n",
       "      <td>tt0024025</td>\n",
       "      <td>nm0000001</td>\n",
       "      <td>actor</td>\n",
       "      <td>0.0</td>\n",
       "      <td>Fred Astaire</td>\n",
       "      <td>1899.0</td>\n",
       "      <td>tt0050419,tt0072308,tt0053137,tt0027125</td>\n",
       "    </tr>\n",
       "    <tr>\n",
       "      <th>2</th>\n",
       "      <td>tt0025164</td>\n",
       "      <td>nm0000001</td>\n",
       "      <td>actor</td>\n",
       "      <td>0.0</td>\n",
       "      <td>Fred Astaire</td>\n",
       "      <td>1899.0</td>\n",
       "      <td>tt0050419,tt0072308,tt0053137,tt0027125</td>\n",
       "    </tr>\n",
       "    <tr>\n",
       "      <th>3</th>\n",
       "      <td>tt0026942</td>\n",
       "      <td>nm0000001</td>\n",
       "      <td>actor</td>\n",
       "      <td>0.0</td>\n",
       "      <td>Fred Astaire</td>\n",
       "      <td>1899.0</td>\n",
       "      <td>tt0050419,tt0072308,tt0053137,tt0027125</td>\n",
       "    </tr>\n",
       "    <tr>\n",
       "      <th>4</th>\n",
       "      <td>tt0027125</td>\n",
       "      <td>nm0000001</td>\n",
       "      <td>actor</td>\n",
       "      <td>0.0</td>\n",
       "      <td>Fred Astaire</td>\n",
       "      <td>1899.0</td>\n",
       "      <td>tt0050419,tt0072308,tt0053137,tt0027125</td>\n",
       "    </tr>\n",
       "  </tbody>\n",
       "</table>\n",
       "</div>"
      ],
      "text/plain": [
       "      tconst     nconst category  Unnamed: 0   primaryName  birthYear  \\\n",
       "0  tt0023926  nm0000001    actor         0.0  Fred Astaire     1899.0   \n",
       "1  tt0024025  nm0000001    actor         0.0  Fred Astaire     1899.0   \n",
       "2  tt0025164  nm0000001    actor         0.0  Fred Astaire     1899.0   \n",
       "3  tt0026942  nm0000001    actor         0.0  Fred Astaire     1899.0   \n",
       "4  tt0027125  nm0000001    actor         0.0  Fred Astaire     1899.0   \n",
       "\n",
       "                            knownForTitles  \n",
       "0  tt0050419,tt0072308,tt0053137,tt0027125  \n",
       "1  tt0050419,tt0072308,tt0053137,tt0027125  \n",
       "2  tt0050419,tt0072308,tt0053137,tt0027125  \n",
       "3  tt0050419,tt0072308,tt0053137,tt0027125  \n",
       "4  tt0050419,tt0072308,tt0053137,tt0027125  "
      ]
     },
     "execution_count": 8,
     "metadata": {},
     "output_type": "execute_result"
    }
   ],
   "source": [
    "principals_names.head()"
   ]
  },
  {
   "cell_type": "code",
   "execution_count": 9,
   "metadata": {},
   "outputs": [
    {
     "data": {
      "text/html": [
       "<div>\n",
       "<style scoped>\n",
       "    .dataframe tbody tr th:only-of-type {\n",
       "        vertical-align: middle;\n",
       "    }\n",
       "\n",
       "    .dataframe tbody tr th {\n",
       "        vertical-align: top;\n",
       "    }\n",
       "\n",
       "    .dataframe thead th {\n",
       "        text-align: right;\n",
       "    }\n",
       "</style>\n",
       "<table border=\"1\" class=\"dataframe\">\n",
       "  <thead>\n",
       "    <tr style=\"text-align: right;\">\n",
       "      <th></th>\n",
       "      <th>tconst</th>\n",
       "      <th>nconst</th>\n",
       "      <th>category</th>\n",
       "      <th>Unnamed: 0</th>\n",
       "      <th>primaryName</th>\n",
       "      <th>birthYear</th>\n",
       "      <th>knownForTitles</th>\n",
       "    </tr>\n",
       "  </thead>\n",
       "  <tbody>\n",
       "    <tr>\n",
       "      <th>30</th>\n",
       "      <td>tt0050419</td>\n",
       "      <td>nm0000001</td>\n",
       "      <td>actor</td>\n",
       "      <td>0.0</td>\n",
       "      <td>Fred Astaire</td>\n",
       "      <td>1899.0</td>\n",
       "      <td>tt0050419,tt0072308,tt0053137,tt0027125</td>\n",
       "    </tr>\n",
       "    <tr>\n",
       "      <th>8899</th>\n",
       "      <td>tt0050419</td>\n",
       "      <td>nm0000030</td>\n",
       "      <td>actress</td>\n",
       "      <td>29.0</td>\n",
       "      <td>Audrey Hepburn</td>\n",
       "      <td>1929.0</td>\n",
       "      <td>tt0054698,tt0046250,tt0056923,tt0058385</td>\n",
       "    </tr>\n",
       "    <tr>\n",
       "      <th>822957</th>\n",
       "      <td>tt0050419</td>\n",
       "      <td>nm0002045</td>\n",
       "      <td>director</td>\n",
       "      <td>2043.0</td>\n",
       "      <td>Stanley Donen</td>\n",
       "      <td>1924.0</td>\n",
       "      <td>tt0056923,tt0045152,tt0050419,tt0047472</td>\n",
       "    </tr>\n",
       "    <tr>\n",
       "      <th>2956326</th>\n",
       "      <td>tt0050419</td>\n",
       "      <td>nm0041509</td>\n",
       "      <td>actor</td>\n",
       "      <td>39679.0</td>\n",
       "      <td>Michel Auclair</td>\n",
       "      <td>1922.0</td>\n",
       "      <td>tt0038348,tt0069947,tt0050419,tt0042625</td>\n",
       "    </tr>\n",
       "    <tr>\n",
       "      <th>4958697</th>\n",
       "      <td>tt0050419</td>\n",
       "      <td>nm0102758</td>\n",
       "      <td>editor</td>\n",
       "      <td>97900.0</td>\n",
       "      <td>Frank Bracht</td>\n",
       "      <td>1910.0</td>\n",
       "      <td>tt0063374,tt0047673,tt0050419,tt0057163</td>\n",
       "    </tr>\n",
       "    <tr>\n",
       "      <th>8699773</th>\n",
       "      <td>tt0050419</td>\n",
       "      <td>nm0215968</td>\n",
       "      <td>actor</td>\n",
       "      <td>204693.0</td>\n",
       "      <td>Jean Del Val</td>\n",
       "      <td>1891.0</td>\n",
       "      <td>tt0050419,tt0060397,tt0041856,tt0010499</td>\n",
       "    </tr>\n",
       "    <tr>\n",
       "      <th>9289512</th>\n",
       "      <td>tt0050419</td>\n",
       "      <td>nm0235579</td>\n",
       "      <td>actress</td>\n",
       "      <td>223117.0</td>\n",
       "      <td>Dovima</td>\n",
       "      <td>1927.0</td>\n",
       "      <td>tt0050419,tt0057765,tt0056775,tt0056768</td>\n",
       "    </tr>\n",
       "    <tr>\n",
       "      <th>9710803</th>\n",
       "      <td>tt0050419</td>\n",
       "      <td>nm0249136</td>\n",
       "      <td>producer</td>\n",
       "      <td>235929.0</td>\n",
       "      <td>Roger Edens</td>\n",
       "      <td>1905.0</td>\n",
       "      <td>tt0041716,tt0033110,tt0050419,tt0045152</td>\n",
       "    </tr>\n",
       "    <tr>\n",
       "      <th>10739702</th>\n",
       "      <td>tt0050419</td>\n",
       "      <td>nm0281866</td>\n",
       "      <td>actor</td>\n",
       "      <td>266899.0</td>\n",
       "      <td>Robert Flemyng</td>\n",
       "      <td>1912.0</td>\n",
       "      <td>tt0050419,tt0102181,tt0064072,tt0053496</td>\n",
       "    </tr>\n",
       "    <tr>\n",
       "      <th>11771380</th>\n",
       "      <td>tt0050419</td>\n",
       "      <td>nm0314826</td>\n",
       "      <td>writer</td>\n",
       "      <td>297964.0</td>\n",
       "      <td>Leonard Gershe</td>\n",
       "      <td>1922.0</td>\n",
       "      <td>tt0050419,tt0068326,tt0070068,tt0050972</td>\n",
       "    </tr>\n",
       "    <tr>\n",
       "      <th>11771866</th>\n",
       "      <td>tt0050419</td>\n",
       "      <td>nm0314857</td>\n",
       "      <td>composer</td>\n",
       "      <td>297995.0</td>\n",
       "      <td>Ira Gershwin</td>\n",
       "      <td>1896.0</td>\n",
       "      <td>tt0043278,tt0071315,tt7097896,tt0050419</td>\n",
       "    </tr>\n",
       "    <tr>\n",
       "      <th>11829754</th>\n",
       "      <td>tt0050419</td>\n",
       "      <td>nm0317208</td>\n",
       "      <td>actress</td>\n",
       "      <td>300205.0</td>\n",
       "      <td>Virginia Gibson</td>\n",
       "      <td>1925.0</td>\n",
       "      <td>tt0050419,tt0047472,tt0045193,tt0051273</td>\n",
       "    </tr>\n",
       "    <tr>\n",
       "      <th>13303531</th>\n",
       "      <td>tt0050419</td>\n",
       "      <td>nm0367168</td>\n",
       "      <td>actress</td>\n",
       "      <td>347113.0</td>\n",
       "      <td>Sunny Hartnett</td>\n",
       "      <td>1924.0</td>\n",
       "      <td>tt0050419</td>\n",
       "    </tr>\n",
       "    <tr>\n",
       "      <th>15132439</th>\n",
       "      <td>tt0050419</td>\n",
       "      <td>nm0432482</td>\n",
       "      <td>cinematographer</td>\n",
       "      <td>408601.0</td>\n",
       "      <td>Ray June</td>\n",
       "      <td>1895.0</td>\n",
       "      <td>tt0050419,tt0026097,tt0021622,tt0026205</td>\n",
       "    </tr>\n",
       "    <tr>\n",
       "      <th>21919739</th>\n",
       "      <td>tt0050419</td>\n",
       "      <td>nm0662646</td>\n",
       "      <td>actress</td>\n",
       "      <td>624500.0</td>\n",
       "      <td>Suzy Parker</td>\n",
       "      <td>1932.0</td>\n",
       "      <td>tt0050419,tt0054750,tt0052619,tt0050599</td>\n",
       "    </tr>\n",
       "    <tr>\n",
       "      <th>27340849</th>\n",
       "      <td>tt0050419</td>\n",
       "      <td>nm0860373</td>\n",
       "      <td>actress</td>\n",
       "      <td>809346.0</td>\n",
       "      <td>Kay Thompson</td>\n",
       "      <td>1909.0</td>\n",
       "      <td>tt0050419,tt1598822,tt0066445,tt11487946</td>\n",
       "    </tr>\n",
       "  </tbody>\n",
       "</table>\n",
       "</div>"
      ],
      "text/plain": [
       "             tconst     nconst         category  Unnamed: 0      primaryName  \\\n",
       "30        tt0050419  nm0000001            actor         0.0     Fred Astaire   \n",
       "8899      tt0050419  nm0000030          actress        29.0   Audrey Hepburn   \n",
       "822957    tt0050419  nm0002045         director      2043.0    Stanley Donen   \n",
       "2956326   tt0050419  nm0041509            actor     39679.0   Michel Auclair   \n",
       "4958697   tt0050419  nm0102758           editor     97900.0     Frank Bracht   \n",
       "8699773   tt0050419  nm0215968            actor    204693.0     Jean Del Val   \n",
       "9289512   tt0050419  nm0235579          actress    223117.0           Dovima   \n",
       "9710803   tt0050419  nm0249136         producer    235929.0      Roger Edens   \n",
       "10739702  tt0050419  nm0281866            actor    266899.0   Robert Flemyng   \n",
       "11771380  tt0050419  nm0314826           writer    297964.0   Leonard Gershe   \n",
       "11771866  tt0050419  nm0314857         composer    297995.0     Ira Gershwin   \n",
       "11829754  tt0050419  nm0317208          actress    300205.0  Virginia Gibson   \n",
       "13303531  tt0050419  nm0367168          actress    347113.0   Sunny Hartnett   \n",
       "15132439  tt0050419  nm0432482  cinematographer    408601.0         Ray June   \n",
       "21919739  tt0050419  nm0662646          actress    624500.0      Suzy Parker   \n",
       "27340849  tt0050419  nm0860373          actress    809346.0     Kay Thompson   \n",
       "\n",
       "          birthYear                            knownForTitles  \n",
       "30           1899.0   tt0050419,tt0072308,tt0053137,tt0027125  \n",
       "8899         1929.0   tt0054698,tt0046250,tt0056923,tt0058385  \n",
       "822957       1924.0   tt0056923,tt0045152,tt0050419,tt0047472  \n",
       "2956326      1922.0   tt0038348,tt0069947,tt0050419,tt0042625  \n",
       "4958697      1910.0   tt0063374,tt0047673,tt0050419,tt0057163  \n",
       "8699773      1891.0   tt0050419,tt0060397,tt0041856,tt0010499  \n",
       "9289512      1927.0   tt0050419,tt0057765,tt0056775,tt0056768  \n",
       "9710803      1905.0   tt0041716,tt0033110,tt0050419,tt0045152  \n",
       "10739702     1912.0   tt0050419,tt0102181,tt0064072,tt0053496  \n",
       "11771380     1922.0   tt0050419,tt0068326,tt0070068,tt0050972  \n",
       "11771866     1896.0   tt0043278,tt0071315,tt7097896,tt0050419  \n",
       "11829754     1925.0   tt0050419,tt0047472,tt0045193,tt0051273  \n",
       "13303531     1924.0                                 tt0050419  \n",
       "15132439     1895.0   tt0050419,tt0026097,tt0021622,tt0026205  \n",
       "21919739     1932.0   tt0050419,tt0054750,tt0052619,tt0050599  \n",
       "27340849     1909.0  tt0050419,tt1598822,tt0066445,tt11487946  "
      ]
     },
     "execution_count": 9,
     "metadata": {},
     "output_type": "execute_result"
    }
   ],
   "source": [
    "principals_names[principals_names['tconst'] == 'tt0050419']"
   ]
  },
  {
   "cell_type": "code",
   "execution_count": 10,
   "metadata": {},
   "outputs": [],
   "source": [
    "principals_names = principals_names.drop(['nconst','Unnamed: 0'], axis = 1)"
   ]
  },
  {
   "cell_type": "code",
   "execution_count": 11,
   "metadata": {},
   "outputs": [
    {
     "name": "stdout",
     "output_type": "stream",
     "text": [
      "<class 'pandas.core.frame.DataFrame'>\n",
      "RangeIndex: 96920983 entries, 0 to 96920982\n",
      "Data columns (total 5 columns):\n",
      " #   Column          Dtype  \n",
      "---  ------          -----  \n",
      " 0   tconst          object \n",
      " 1   category        object \n",
      " 2   primaryName     object \n",
      " 3   birthYear       float64\n",
      " 4   knownForTitles  object \n",
      "dtypes: float64(1), object(4)\n",
      "memory usage: 3.6+ GB\n"
     ]
    }
   ],
   "source": [
    "principals_names.info()"
   ]
  },
  {
   "cell_type": "code",
   "execution_count": 12,
   "metadata": {},
   "outputs": [
    {
     "data": {
      "text/plain": [
       "category\n",
       "actor                  21392244\n",
       "actress                16045051\n",
       "self                   12846979\n",
       "writer                 10757771\n",
       "director                7715103\n",
       "producer                6756707\n",
       "editor                  4722123\n",
       "cinematographer         3604125\n",
       "composer                2917492\n",
       "production_designer     1080401\n",
       "casting_director        1051592\n",
       "archive_footage          538522\n",
       "archive_sound              8923\n",
       "Name: count, dtype: int64"
      ]
     },
     "execution_count": 12,
     "metadata": {},
     "output_type": "execute_result"
    }
   ],
   "source": [
    "principals_names['category'].value_counts()"
   ]
  },
  {
   "cell_type": "code",
   "execution_count": 14,
   "metadata": {},
   "outputs": [
    {
     "name": "stdout",
     "output_type": "stream",
     "text": [
      "<class 'pandas.core.frame.DataFrame'>\n",
      "Index: 45152398 entries, 0 to 96920920\n",
      "Data columns (total 5 columns):\n",
      " #   Column          Dtype  \n",
      "---  ------          -----  \n",
      " 0   tconst          object \n",
      " 1   category        object \n",
      " 2   primaryName     object \n",
      " 3   birthYear       float64\n",
      " 4   knownForTitles  object \n",
      "dtypes: float64(1), object(4)\n",
      "memory usage: 2.0+ GB\n"
     ]
    }
   ],
   "source": [
    "principals_names2 = principals_names[(principals_names['category'] == 'actor') | (principals_names['category'] == 'actress') | (principals_names['category'] == 'director')]\n",
    "principals_names2.info()"
   ]
  },
  {
   "cell_type": "code",
   "execution_count": 15,
   "metadata": {},
   "outputs": [
    {
     "data": {
      "text/plain": [
       "category\n",
       "actor       21392244\n",
       "actress     16045051\n",
       "director     7715103\n",
       "Name: count, dtype: int64"
      ]
     },
     "execution_count": 15,
     "metadata": {},
     "output_type": "execute_result"
    }
   ],
   "source": [
    "principals_names2['category'].value_counts()"
   ]
  },
  {
   "cell_type": "code",
   "execution_count": null,
   "metadata": {},
   "outputs": [
    {
     "data": {
      "text/plain": [
       "tconst                   0\n",
       "category                 0\n",
       "primaryName            922\n",
       "birthYear         22679746\n",
       "knownForTitles       32060\n",
       "dtype: int64"
      ]
     },
     "execution_count": 17,
     "metadata": {},
     "output_type": "execute_result"
    }
   ],
   "source": [
    "principals_names2.isna().sum()"
   ]
  },
  {
   "cell_type": "code",
   "execution_count": 25,
   "metadata": {},
   "outputs": [
    {
     "name": "stdout",
     "output_type": "stream",
     "text": [
      "<class 'pandas.core.frame.DataFrame'>\n",
      "Index: 3696608 entries, 0 to 96920774\n",
      "Data columns (total 5 columns):\n",
      " #   Column          Dtype  \n",
      "---  ------          -----  \n",
      " 0   tconst          object \n",
      " 1   category        object \n",
      " 2   primaryName     object \n",
      " 3   birthYear       float64\n",
      " 4   knownForTitles  object \n",
      "dtypes: float64(1), object(4)\n",
      "memory usage: 169.2+ MB\n"
     ]
    }
   ],
   "source": [
    "principals_names3 = principals_names2.loc[principals_names2['tconst'].isin(merge2['tconst'])]\n",
    "principals_names3.info()"
   ]
  },
  {
   "cell_type": "code",
   "execution_count": 26,
   "metadata": {},
   "outputs": [
    {
     "name": "stdout",
     "output_type": "stream",
     "text": [
      "<class 'pandas.core.frame.DataFrame'>\n",
      "RangeIndex: 466501 entries, 0 to 466500\n",
      "Data columns (total 12 columns):\n",
      " #   Column          Non-Null Count   Dtype  \n",
      "---  ------          --------------   -----  \n",
      " 0   Unnamed: 0      466501 non-null  int64  \n",
      " 1   tconst          466501 non-null  object \n",
      " 2   titleType       466501 non-null  object \n",
      " 3   primaryTitle    466501 non-null  object \n",
      " 4   originalTitle   466501 non-null  object \n",
      " 5   isAdult         466501 non-null  bool   \n",
      " 6   startYear       466501 non-null  object \n",
      " 7   runtimeMinutes  466501 non-null  float64\n",
      " 8   genres          466501 non-null  object \n",
      " 9   averageRating   466501 non-null  float64\n",
      " 10  numVotes        466501 non-null  int64  \n",
      " 11  directors       466501 non-null  object \n",
      "dtypes: bool(1), float64(2), int64(2), object(7)\n",
      "memory usage: 39.6+ MB\n"
     ]
    }
   ],
   "source": [
    "merge2.info()"
   ]
  },
  {
   "cell_type": "code",
   "execution_count": 27,
   "metadata": {},
   "outputs": [
    {
     "data": {
      "text/plain": [
       "category\n",
       "actor       2079137\n",
       "actress     1160164\n",
       "director     457307\n",
       "Name: count, dtype: int64"
      ]
     },
     "execution_count": 27,
     "metadata": {},
     "output_type": "execute_result"
    }
   ],
   "source": [
    "principals_names3['category'].value_counts()"
   ]
  },
  {
   "cell_type": "code",
   "execution_count": 28,
   "metadata": {},
   "outputs": [
    {
     "data": {
      "text/plain": [
       "457327"
      ]
     },
     "execution_count": 28,
     "metadata": {},
     "output_type": "execute_result"
    }
   ],
   "source": [
    "principals_names3['tconst'].nunique()"
   ]
  },
  {
   "cell_type": "code",
   "execution_count": 29,
   "metadata": {},
   "outputs": [
    {
     "data": {
      "text/plain": [
       "466501"
      ]
     },
     "execution_count": 29,
     "metadata": {},
     "output_type": "execute_result"
    }
   ],
   "source": [
    "merge2['tconst'].nunique()"
   ]
  }
 ],
 "metadata": {
  "kernelspec": {
   "display_name": "base",
   "language": "python",
   "name": "python3"
  },
  "language_info": {
   "codemirror_mode": {
    "name": "ipython",
    "version": 3
   },
   "file_extension": ".py",
   "mimetype": "text/x-python",
   "name": "python",
   "nbconvert_exporter": "python",
   "pygments_lexer": "ipython3",
   "version": "3.12.4"
  }
 },
 "nbformat": 4,
 "nbformat_minor": 2
}
